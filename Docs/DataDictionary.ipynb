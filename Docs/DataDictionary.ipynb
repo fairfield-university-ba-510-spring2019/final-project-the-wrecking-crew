{
 "cells": [
  {
   "cell_type": "markdown",
   "metadata": {},
   "source": [
    "#### Data Dictionary"
   ]
  },
  {
   "cell_type": "markdown",
   "metadata": {},
   "source": [
    "### Atribute Information\n",
    "| Course Meetings |Table of Appearence | Contents | Data Type |\n",
    "|-----------------|---------------------|----------|----------|\n",
    "|**CRN**|Course Meetings|Course Requisite Number...a unique course identifier| Integer|\n",
    "|**Location**|Course Meetings| Identifies the classroom | Text |\n",
    "|**Day**|Course Meetings|Notes the day of the week | Text|\n",
    "|**Start**|Course Meetings| identifies date and start time for each class |Text|\n",
    "|**End**|Course Meetings| Identifies data and end time for each class | Text |\n",
    "|**CATALOG_ID**|Courses| Non unique course identifier | Integer | Text |\n",
    "|**Section**|Courses| Denotes the section if class if broken up due to size |\n",
    "|**Credits**|Courses| Amount of credits recieved for taking class |\n",
    "|**Title**|Courses| Course Name|\n",
    "|**Meetings**|Courses| Contains the day, time and location for the class|\n",
    "|**Time Codes**|Courses| COntains day time and location|\n",
    "|**Primary Instructor**|Courses|Teacher name|\n",
    "|**Cap**|Courses|Amount of seats class can have|\n",
    "|**Act**|Courses|Actual amount of seats in occupied in class|\n",
    "|**Rem**|Courses|Remaining seats not taken in a class|\n",
    "|**Program_Code**|Course Catalogs| Class subject identifier|\n",
    "|**Programs_Name**|Course Catalogs|Subject name |\n",
    "|**Course_Title**|Course Catalogs| Class name |\n",
    "|**Preqs**|Course Catalogs| Class need before taking this class |\n",
    "|**Coreqs**|Course Catalogs| Classes that are needed along with this class |\n",
    "|**Fees**|Course Catalogs| Price for class |\n",
    "|**Attributes**|Course Catalogs| Defines what class satisfies |\n",
    "|**Description**|Course Catalogs| Summary of the class |"
   ]
  },
  {
   "cell_type": "code",
   "execution_count": null,
   "metadata": {},
   "outputs": [],
   "source": []
  }
 ],
 "metadata": {
  "kernelspec": {
   "display_name": "Python 3",
   "language": "python",
   "name": "python3"
  },
  "language_info": {
   "codemirror_mode": {
    "name": "ipython",
    "version": 3
   },
   "file_extension": ".py",
   "mimetype": "text/x-python",
   "name": "python",
   "nbconvert_exporter": "python",
   "pygments_lexer": "ipython3",
   "version": "3.6.5"
  }
 },
 "nbformat": 4,
 "nbformat_minor": 2
}
