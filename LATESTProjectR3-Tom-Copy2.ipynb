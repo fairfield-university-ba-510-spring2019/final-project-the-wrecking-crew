{
 "cells": [
  {
   "cell_type": "markdown",
   "metadata": {},
   "source": [
    "# 1. Load SQLite and Database\n",
    "- 'CourseData.db'\n",
    "- note the 3 backslashes"
   ]
  },
  {
   "cell_type": "code",
   "execution_count": 1,
   "metadata": {},
   "outputs": [
    {
     "data": {
      "text/plain": [
       "'Connected: @CourseData.db'"
      ]
     },
     "execution_count": 1,
     "metadata": {},
     "output_type": "execute_result"
    }
   ],
   "source": [
    "%reload_ext sql\n",
    "%sql sqlite:///CourseData.db"
   ]
  },
  {
   "cell_type": "code",
   "execution_count": 2,
   "metadata": {},
   "outputs": [
    {
     "name": "stdout",
     "output_type": "stream",
     "text": [
      " * sqlite:///CourseData.db\n",
      "Done.\n"
     ]
    },
    {
     "data": {
      "text/plain": [
       "[]"
      ]
     },
     "execution_count": 2,
     "metadata": {},
     "output_type": "execute_result"
    }
   ],
   "source": [
    "%%sql\n",
    "DROP TABLE IF EXISTS CourseData;"
   ]
  },
  {
   "cell_type": "markdown",
   "metadata": {},
   "source": [
    "## DROP Tables "
   ]
  },
  {
   "cell_type": "code",
   "execution_count": 3,
   "metadata": {},
   "outputs": [
    {
     "name": "stdout",
     "output_type": "stream",
     "text": [
      "Done.\n",
      "Done.\n",
      "Done.\n",
      "Done.\n"
     ]
    },
    {
     "data": {
      "text/plain": [
       "[]"
      ]
     },
     "execution_count": 3,
     "metadata": {},
     "output_type": "execute_result"
    }
   ],
   "source": [
    "%%sql\n",
    "sqlite:///CourseData.db\n",
    "DROP TABLE IF EXISTS COURSECATALOGS;\n",
    "DROP TABLE IF EXISTS COURSES;\n",
    "DROP TABLE IF EXISTS TEACHERS;\n",
    "DROP TABLE IF EXISTS COURSEMEETINGS;"
   ]
  },
  {
   "cell_type": "markdown",
   "metadata": {},
   "source": [
    "# 2. Find COUNT of each .csv file"
   ]
  },
  {
   "cell_type": "code",
   "execution_count": 4,
   "metadata": {},
   "outputs": [
    {
     "name": "stdout",
     "output_type": "stream",
     "text": [
      " * sqlite:///CourseData.db\n",
      "Done.\n"
     ]
    },
    {
     "data": {
      "text/html": [
       "<table>\n",
       "    <tr>\n",
       "        <th>Count(*)</th>\n",
       "    </tr>\n",
       "    <tr>\n",
       "        <td>317339</td>\n",
       "    </tr>\n",
       "</table>"
      ],
      "text/plain": [
       "[(317339,)]"
      ]
     },
     "execution_count": 4,
     "metadata": {},
     "output_type": "execute_result"
    }
   ],
   "source": [
    "%%sql\n",
    "SELECT Count(*) FROM import_course_meetings;"
   ]
  },
  {
   "cell_type": "code",
   "execution_count": 5,
   "metadata": {},
   "outputs": [
    {
     "name": "stdout",
     "output_type": "stream",
     "text": [
      " * sqlite:///CourseData.db\n",
      "Done.\n"
     ]
    },
    {
     "data": {
      "text/html": [
       "<table>\n",
       "    <tr>\n",
       "        <th>Count(*)</th>\n",
       "    </tr>\n",
       "    <tr>\n",
       "        <td>15955</td>\n",
       "    </tr>\n",
       "</table>"
      ],
      "text/plain": [
       "[(15955,)]"
      ]
     },
     "execution_count": 5,
     "metadata": {},
     "output_type": "execute_result"
    }
   ],
   "source": [
    "%%sql\n",
    "SELECT Count(*) FROM import_courses;"
   ]
  },
  {
   "cell_type": "code",
   "execution_count": 6,
   "metadata": {},
   "outputs": [
    {
     "name": "stdout",
     "output_type": "stream",
     "text": [
      " * sqlite:///CourseData.db\n",
      "Done.\n"
     ]
    },
    {
     "data": {
      "text/html": [
       "<table>\n",
       "    <tr>\n",
       "        <th>catalog_id</th>\n",
       "    </tr>\n",
       "    <tr>\n",
       "        <td>AN 0301</td>\n",
       "    </tr>\n",
       "</table>"
      ],
      "text/plain": [
       "[('AN 0301',)]"
      ]
     },
     "execution_count": 6,
     "metadata": {},
     "output_type": "execute_result"
    }
   ],
   "source": [
    "%%sql\n",
    "SELECT catalog_id FROM import_Course_Catalog limit 1;\n"
   ]
  },
  {
   "cell_type": "code",
   "execution_count": null,
   "metadata": {},
   "outputs": [],
   "source": []
  },
  {
   "cell_type": "code",
   "execution_count": 7,
   "metadata": {},
   "outputs": [
    {
     "name": "stdout",
     "output_type": "stream",
     "text": [
      " * sqlite:///CourseData.db\n",
      "Done.\n"
     ]
    },
    {
     "data": {
      "text/html": [
       "<table>\n",
       "    <tr>\n",
       "        <th>Count(*)</th>\n",
       "    </tr>\n",
       "    <tr>\n",
       "        <td>4441</td>\n",
       "    </tr>\n",
       "</table>"
      ],
      "text/plain": [
       "[(4441,)]"
      ]
     },
     "execution_count": 7,
     "metadata": {},
     "output_type": "execute_result"
    }
   ],
   "source": [
    "%%sql\n",
    "SELECT Count(*) FROM import_Course_Catalog;"
   ]
  },
  {
   "cell_type": "markdown",
   "metadata": {},
   "source": [
    "# 3. Create Tables\n",
    "- primary key is generated on every table by naming new surrogate key/field that isn't already in .csv files.\n",
    "- don't need NOT NULL for PK because it's implied in SQLite.\n"
   ]
  },
  {
   "cell_type": "code",
   "execution_count": 8,
   "metadata": {},
   "outputs": [
    {
     "name": "stdout",
     "output_type": "stream",
     "text": [
      " * sqlite:///CourseData.db\n",
      "Done.\n"
     ]
    },
    {
     "data": {
      "text/plain": [
       "[]"
      ]
     },
     "execution_count": 8,
     "metadata": {},
     "output_type": "execute_result"
    }
   ],
   "source": [
    "%%sql\n",
    "CREATE TABLE COURSECATALOGS (\n",
    "    CCID INTEGER PRIMARY KEY,\n",
    "    catalog_id TEXT,\n",
    "    program_code TEXT,    \n",
    "    program_name TEXT,\n",
    "    course_title TEXT,\n",
    "    prereqs TEXT,    \n",
    "    coreqs TEXT,\n",
    "    fees TEXT,\n",
    "    attributes TEXT,    \n",
    "    description TEXT\n",
    ");"
   ]
  },
  {
   "cell_type": "code",
   "execution_count": 9,
   "metadata": {},
   "outputs": [
    {
     "name": "stdout",
     "output_type": "stream",
     "text": [
      " * sqlite:///CourseData.db\n",
      "Done.\n"
     ]
    },
    {
     "data": {
      "text/plain": [
       "[]"
      ]
     },
     "execution_count": 9,
     "metadata": {},
     "output_type": "execute_result"
    }
   ],
   "source": [
    "%%sql\n",
    "CREATE TABLE TEACHERS (\n",
    " TID INTEGER PRIMARY KEY,\n",
    " primary_instructor TEXT NOT NULL\n",
    ");"
   ]
  },
  {
   "cell_type": "code",
   "execution_count": 10,
   "metadata": {},
   "outputs": [
    {
     "name": "stdout",
     "output_type": "stream",
     "text": [
      " * sqlite:///CourseData.db\n",
      "Done.\n"
     ]
    },
    {
     "data": {
      "text/plain": [
       "[]"
      ]
     },
     "execution_count": 10,
     "metadata": {},
     "output_type": "execute_result"
    }
   ],
   "source": [
    "%%sql\n",
    "CREATE TABLE COURSES (\n",
    "                 crn SMALLINT,\n",
    "                 term VARCAR(20),\n",
    "                 catalog_id TEXT,\n",
    "                 section TEXT,\n",
    "                 credits TEXT,\n",
    "                 title TEXT,\n",
    "                 meetings TEXT,\n",
    "                 timecodes TEXT,\n",
    "                 cap TEXT,\n",
    "                 act TEXT,\n",
    "                 rem TEXT,\n",
    "                 TID INTEGER,\n",
    "                 PRIMARY KEY(crn,term)\n",
    ");"
   ]
  },
  {
   "cell_type": "code",
   "execution_count": 11,
   "metadata": {},
   "outputs": [
    {
     "name": "stdout",
     "output_type": "stream",
     "text": [
      " * sqlite:///CourseData.db\n",
      "Done.\n"
     ]
    },
    {
     "data": {
      "text/plain": [
       "[]"
      ]
     },
     "execution_count": 11,
     "metadata": {},
     "output_type": "execute_result"
    }
   ],
   "source": [
    "%%sql\n",
    "CREATE TABLE COURSEMEETINGS (\n",
    "    \n",
    "    CID INTEGER PRIMARY KEY,\n",
    "    crn SMALLINT,\n",
    "    term VARCHAR(20),\n",
    "    location TEXT NOT NULL,\n",
    "    day TEXT NOT NULL,\n",
    "    start TIME NOT NULL,\n",
    "    end TIME NOT NULL  \n",
    ");"
   ]
  },
  {
   "cell_type": "markdown",
   "metadata": {},
   "source": [
    "# 4. Do INSERT Statements"
   ]
  },
  {
   "cell_type": "code",
   "execution_count": 12,
   "metadata": {},
   "outputs": [
    {
     "name": "stdout",
     "output_type": "stream",
     "text": [
      " * sqlite:///CourseData.db\n",
      "2221 rows affected.\n"
     ]
    },
    {
     "data": {
      "text/plain": [
       "[]"
      ]
     },
     "execution_count": 12,
     "metadata": {},
     "output_type": "execute_result"
    }
   ],
   "source": [
    "%%sql\n",
    "INSERT INTO COURSECATALOGS (catalog_id, program_code, program_name, course_title, prereqs, coreqs, fees, attributes, description) \n",
    "SELECT DISTINCT catalog_id, program_code, program_name, course_title, prereqs, coreqs, fees, attributes, description\n",
    "FROM import_Course_Catalog;"
   ]
  },
  {
   "cell_type": "code",
   "execution_count": 13,
   "metadata": {},
   "outputs": [
    {
     "name": "stdout",
     "output_type": "stream",
     "text": [
      " * sqlite:///CourseData.db\n",
      "Done.\n"
     ]
    },
    {
     "data": {
      "text/html": [
       "<table>\n",
       "    <tr>\n",
       "        <th>CCID</th>\n",
       "        <th>catalog_id</th>\n",
       "        <th>program_code</th>\n",
       "        <th>program_name</th>\n",
       "        <th>course_title</th>\n",
       "        <th>prereqs</th>\n",
       "        <th>coreqs</th>\n",
       "        <th>fees</th>\n",
       "        <th>attributes</th>\n",
       "        <th>description</th>\n",
       "    </tr>\n",
       "    <tr>\n",
       "        <td>1</td>\n",
       "        <td>AN 0301</td>\n",
       "        <td>AN</td>\n",
       "        <td>Asian Studies</td>\n",
       "        <td>Independent Study</td>\n",
       "        <td></td>\n",
       "        <td></td>\n",
       "        <td></td>\n",
       "        <td></td>\n",
       "        <td>Students undertake an individualized program of study in consultation with a director from the Asian studies faculty.</td>\n",
       "    </tr>\n",
       "    <tr>\n",
       "        <td>2</td>\n",
       "        <td>AN 0310</td>\n",
       "        <td>AN</td>\n",
       "        <td>Asian Studies</td>\n",
       "        <td>Asian Studies Seminar</td>\n",
       "        <td></td>\n",
       "        <td></td>\n",
       "        <td></td>\n",
       "        <td></td>\n",
       "        <td>This seminar examines selected topics concerning Asia. This course is taught in conjunction with another 100-300 level course from a rotation of course offerings. Consult the Asian Studies director to identify the conjoined course for a given semester. The seminar concentrates on topics within the parameters of the conjoined course syllabus but adds research emphasis. Students registered for this course must complete a research project, to include 300-level research, in addition to the regular research requirements of the conjoined course, and a 25-50 page term paper in substitution of some portion of the conjoined course requirements, as determined by the instructor. Open to juniors and seniors only.</td>\n",
       "    </tr>\n",
       "</table>"
      ],
      "text/plain": [
       "[(1, 'AN 0301', 'AN', 'Asian Studies', 'Independent Study', '', '', '', '', 'Students undertake an individualized program of study in consultation with a director from the Asian studies faculty.'),\n",
       " (2, 'AN 0310', 'AN', 'Asian Studies', 'Asian Studies Seminar', '', '', '', '', 'This seminar examines selected topics concerning Asia. This course is taught in conjunction with another 100-300 level course from a rotation of cour ... (412 characters truncated) ... e term paper in substitution of some portion of the conjoined course requirements, as determined by the instructor. Open to juniors and seniors only.')]"
      ]
     },
     "execution_count": 13,
     "metadata": {},
     "output_type": "execute_result"
    }
   ],
   "source": [
    "%%sql\n",
    "SELECT * FROM COURSECATALOGS\n",
    "limit 2;"
   ]
  },
  {
   "cell_type": "markdown",
   "metadata": {},
   "source": [
    "# INSERT TEACHERS"
   ]
  },
  {
   "cell_type": "code",
   "execution_count": 14,
   "metadata": {},
   "outputs": [
    {
     "name": "stdout",
     "output_type": "stream",
     "text": [
      " * sqlite:///CourseData.db\n",
      "0 rows affected.\n",
      "1105 rows affected.\n"
     ]
    },
    {
     "data": {
      "text/plain": [
       "[]"
      ]
     },
     "execution_count": 14,
     "metadata": {},
     "output_type": "execute_result"
    }
   ],
   "source": [
    "%%sql\n",
    "DELETE FROM TEACHERS;\n",
    "\n",
    "INSERT INTO TEACHERS  (primary_instructor)\n",
    "SELECT DISTINCT primary_instructor\n",
    "    FROM import_courses\n",
    "    ;"
   ]
  },
  {
   "cell_type": "code",
   "execution_count": 15,
   "metadata": {},
   "outputs": [
    {
     "name": "stdout",
     "output_type": "stream",
     "text": [
      " * sqlite:///CourseData.db\n",
      "Done.\n"
     ]
    },
    {
     "data": {
      "text/html": [
       "<table>\n",
       "    <tr>\n",
       "        <th>TID</th>\n",
       "        <th>primary_instructor</th>\n",
       "    </tr>\n",
       "    <tr>\n",
       "        <td>1</td>\n",
       "        <td>Michael P.  Coyne</td>\n",
       "    </tr>\n",
       "    <tr>\n",
       "        <td>2</td>\n",
       "        <td>Rebecca I.  Bloch</td>\n",
       "    </tr>\n",
       "</table>"
      ],
      "text/plain": [
       "[(1, 'Michael P.  Coyne'), (2, 'Rebecca I.  Bloch')]"
      ]
     },
     "execution_count": 15,
     "metadata": {},
     "output_type": "execute_result"
    }
   ],
   "source": [
    "%%sql\n",
    "SELECT * FROM TEACHERS\n",
    "limit 2;"
   ]
  },
  {
   "cell_type": "markdown",
   "metadata": {},
   "source": [
    "# INSERT COURSEMEETINGS"
   ]
  },
  {
   "cell_type": "code",
   "execution_count": 16,
   "metadata": {},
   "outputs": [
    {
     "name": "stdout",
     "output_type": "stream",
     "text": [
      " * sqlite:///CourseData.db\n",
      "311142 rows affected.\n"
     ]
    },
    {
     "data": {
      "text/plain": [
       "[]"
      ]
     },
     "execution_count": 16,
     "metadata": {},
     "output_type": "execute_result"
    }
   ],
   "source": [
    "%%sql \n",
    "INSERT INTO COURSEMEETINGS ( crn, term, location, day, start, end)\n",
    "SELECT DISTINCT crn, term, location, day, start, end\n",
    "FROM import_course_meetings\n"
   ]
  },
  {
   "cell_type": "code",
   "execution_count": 17,
   "metadata": {},
   "outputs": [
    {
     "name": "stdout",
     "output_type": "stream",
     "text": [
      " * sqlite:///CourseData.db\n",
      "Done.\n"
     ]
    },
    {
     "data": {
      "text/html": [
       "<table>\n",
       "    <tr>\n",
       "        <th>CID</th>\n",
       "        <th>crn</th>\n",
       "        <th>term</th>\n",
       "        <th>location</th>\n",
       "        <th>day</th>\n",
       "        <th>start</th>\n",
       "        <th>end</th>\n",
       "    </tr>\n",
       "    <tr>\n",
       "        <td>1</td>\n",
       "        <td>70384</td>\n",
       "        <td>Fall2014</td>\n",
       "        <td>DSB 105</td>\n",
       "        <td>T</td>\n",
       "        <td>2014-09-02T08:00:00</td>\n",
       "        <td>2014-09-02T09:15:00</td>\n",
       "    </tr>\n",
       "    <tr>\n",
       "        <td>2</td>\n",
       "        <td>70384</td>\n",
       "        <td>Fall2014</td>\n",
       "        <td>DSB 105</td>\n",
       "        <td>F</td>\n",
       "        <td>2014-09-05T08:00:00</td>\n",
       "        <td>2014-09-05T09:15:00</td>\n",
       "    </tr>\n",
       "    <tr>\n",
       "        <td>3</td>\n",
       "        <td>70384</td>\n",
       "        <td>Fall2014</td>\n",
       "        <td>DSB 105</td>\n",
       "        <td>T</td>\n",
       "        <td>2014-09-09T08:00:00</td>\n",
       "        <td>2014-09-09T09:15:00</td>\n",
       "    </tr>\n",
       "    <tr>\n",
       "        <td>4</td>\n",
       "        <td>70384</td>\n",
       "        <td>Fall2014</td>\n",
       "        <td>DSB 105</td>\n",
       "        <td>F</td>\n",
       "        <td>2014-09-12T08:00:00</td>\n",
       "        <td>2014-09-12T09:15:00</td>\n",
       "    </tr>\n",
       "    <tr>\n",
       "        <td>5</td>\n",
       "        <td>70384</td>\n",
       "        <td>Fall2014</td>\n",
       "        <td>DSB 105</td>\n",
       "        <td>T</td>\n",
       "        <td>2014-09-16T08:00:00</td>\n",
       "        <td>2014-09-16T09:15:00</td>\n",
       "    </tr>\n",
       "    <tr>\n",
       "        <td>6</td>\n",
       "        <td>70384</td>\n",
       "        <td>Fall2014</td>\n",
       "        <td>DSB 105</td>\n",
       "        <td>F</td>\n",
       "        <td>2014-09-19T08:00:00</td>\n",
       "        <td>2014-09-19T09:15:00</td>\n",
       "    </tr>\n",
       "    <tr>\n",
       "        <td>7</td>\n",
       "        <td>70384</td>\n",
       "        <td>Fall2014</td>\n",
       "        <td>DSB 105</td>\n",
       "        <td>T</td>\n",
       "        <td>2014-09-23T08:00:00</td>\n",
       "        <td>2014-09-23T09:15:00</td>\n",
       "    </tr>\n",
       "    <tr>\n",
       "        <td>8</td>\n",
       "        <td>70384</td>\n",
       "        <td>Fall2014</td>\n",
       "        <td>DSB 105</td>\n",
       "        <td>F</td>\n",
       "        <td>2014-09-26T08:00:00</td>\n",
       "        <td>2014-09-26T09:15:00</td>\n",
       "    </tr>\n",
       "    <tr>\n",
       "        <td>9</td>\n",
       "        <td>70384</td>\n",
       "        <td>Fall2014</td>\n",
       "        <td>DSB 105</td>\n",
       "        <td>T</td>\n",
       "        <td>2014-09-30T08:00:00</td>\n",
       "        <td>2014-09-30T09:15:00</td>\n",
       "    </tr>\n",
       "    <tr>\n",
       "        <td>10</td>\n",
       "        <td>70384</td>\n",
       "        <td>Fall2014</td>\n",
       "        <td>DSB 105</td>\n",
       "        <td>F</td>\n",
       "        <td>2014-10-03T08:00:00</td>\n",
       "        <td>2014-10-03T09:15:00</td>\n",
       "    </tr>\n",
       "</table>"
      ],
      "text/plain": [
       "[(1, 70384, 'Fall2014', 'DSB 105', 'T', '2014-09-02T08:00:00', '2014-09-02T09:15:00'),\n",
       " (2, 70384, 'Fall2014', 'DSB 105', 'F', '2014-09-05T08:00:00', '2014-09-05T09:15:00'),\n",
       " (3, 70384, 'Fall2014', 'DSB 105', 'T', '2014-09-09T08:00:00', '2014-09-09T09:15:00'),\n",
       " (4, 70384, 'Fall2014', 'DSB 105', 'F', '2014-09-12T08:00:00', '2014-09-12T09:15:00'),\n",
       " (5, 70384, 'Fall2014', 'DSB 105', 'T', '2014-09-16T08:00:00', '2014-09-16T09:15:00'),\n",
       " (6, 70384, 'Fall2014', 'DSB 105', 'F', '2014-09-19T08:00:00', '2014-09-19T09:15:00'),\n",
       " (7, 70384, 'Fall2014', 'DSB 105', 'T', '2014-09-23T08:00:00', '2014-09-23T09:15:00'),\n",
       " (8, 70384, 'Fall2014', 'DSB 105', 'F', '2014-09-26T08:00:00', '2014-09-26T09:15:00'),\n",
       " (9, 70384, 'Fall2014', 'DSB 105', 'T', '2014-09-30T08:00:00', '2014-09-30T09:15:00'),\n",
       " (10, 70384, 'Fall2014', 'DSB 105', 'F', '2014-10-03T08:00:00', '2014-10-03T09:15:00')]"
      ]
     },
     "execution_count": 17,
     "metadata": {},
     "output_type": "execute_result"
    }
   ],
   "source": [
    "%%sql\n",
    "SELECT * FROM COURSEMEETINGS\n",
    "LIMIT 10;"
   ]
  },
  {
   "cell_type": "markdown",
   "metadata": {},
   "source": [
    "# INSERT COURSES\n",
    "- _key:_ do NOT need primary_instructor in courses table since we're going to join in the teachers table that has this value.  We are simply telling it what to JOIN these tables on, but primary_instructor does not need to be in both tables.\n",
    "\n",
    "- still need to add additional FKs"
   ]
  },
  {
   "cell_type": "code",
   "execution_count": 18,
   "metadata": {},
   "outputs": [
    {
     "name": "stdout",
     "output_type": "stream",
     "text": [
      " * sqlite:///CourseData.db\n",
      "15938 rows affected.\n"
     ]
    },
    {
     "data": {
      "text/plain": [
       "[]"
      ]
     },
     "execution_count": 18,
     "metadata": {},
     "output_type": "execute_result"
    }
   ],
   "source": [
    "%%sql\n",
    "INSERT INTO COURSES (crn, term,catalog_id, section, credits, title, meetings, timecodes, cap, act, rem, TID)\n",
    "SELECT DISTINCT crn, term, catalog_id, section, credits, title, meetings, timecodes, cap, act, rem, TID\n",
    "FROM import_courses\n",
    "JOIN TEACHERS ON TEACHERS.primary_instructor = import_courses.primary_instructor;\n"
   ]
  },
  {
   "cell_type": "code",
   "execution_count": 19,
   "metadata": {},
   "outputs": [
    {
     "name": "stdout",
     "output_type": "stream",
     "text": [
      " * sqlite:///CourseData.db\n",
      "Done.\n"
     ]
    },
    {
     "data": {
      "text/html": [
       "<table>\n",
       "    <tr>\n",
       "        <th>crn</th>\n",
       "        <th>term</th>\n",
       "        <th>catalog_id</th>\n",
       "        <th>section</th>\n",
       "        <th>credits</th>\n",
       "        <th>title</th>\n",
       "        <th>meetings</th>\n",
       "        <th>timecodes</th>\n",
       "        <th>cap</th>\n",
       "        <th>act</th>\n",
       "        <th>rem</th>\n",
       "        <th>TID</th>\n",
       "    </tr>\n",
       "    <tr>\n",
       "        <td>70384</td>\n",
       "        <td>Fall2014</td>\n",
       "        <td>AC 0011</td>\n",
       "        <td>C01</td>\n",
       "        <td>3.000</td>\n",
       "        <td>Introduction to Financial Accounting</td>\n",
       "        <td>[{&#x27;days&#x27;: &#x27;TF&#x27;, &#x27;times&#x27;: &#x27;0800am-0915am&#x27;, &#x27;dates&#x27;: &#x27;09/02-12/08&#x27;, &#x27;location&#x27;: &#x27;DSB 105&#x27;}]</td>\n",
       "        <td>[&#x27;TF 0800am-0915am 09/02-12/08 DSB 105&#x27;]</td>\n",
       "        <td>0</td>\n",
       "        <td>31</td>\n",
       "        <td>-31</td>\n",
       "        <td>1</td>\n",
       "    </tr>\n",
       "    <tr>\n",
       "        <td>70385</td>\n",
       "        <td>Fall2014</td>\n",
       "        <td>AC 0011</td>\n",
       "        <td>C02</td>\n",
       "        <td>3.000</td>\n",
       "        <td>Introduction to Financial Accounting</td>\n",
       "        <td>[{&#x27;days&#x27;: &#x27;TF&#x27;, &#x27;times&#x27;: &#x27;0930am-1045am&#x27;, &#x27;dates&#x27;: &#x27;09/02-12/08&#x27;, &#x27;location&#x27;: &#x27;DSB 105&#x27;}]</td>\n",
       "        <td>[&#x27;TF 0930am-1045am 09/02-12/08 DSB 105&#x27;]</td>\n",
       "        <td>0</td>\n",
       "        <td>31</td>\n",
       "        <td>-31</td>\n",
       "        <td>1</td>\n",
       "    </tr>\n",
       "    <tr>\n",
       "        <td>70382</td>\n",
       "        <td>Fall2014</td>\n",
       "        <td>AC 0011</td>\n",
       "        <td>C03</td>\n",
       "        <td>3.000</td>\n",
       "        <td>Introduction to Financial Accounting</td>\n",
       "        <td>[{&#x27;days&#x27;: &#x27;TF&#x27;, &#x27;times&#x27;: &#x27;1230pm-0145pm&#x27;, &#x27;dates&#x27;: &#x27;09/02-12/08&#x27;, &#x27;location&#x27;: &#x27;DSB 105&#x27;}]</td>\n",
       "        <td>[&#x27;TF 1230pm-0145pm 09/02-12/08 DSB 105&#x27;]</td>\n",
       "        <td>0</td>\n",
       "        <td>31</td>\n",
       "        <td>-31</td>\n",
       "        <td>1</td>\n",
       "    </tr>\n",
       "    <tr>\n",
       "        <td>70291</td>\n",
       "        <td>Fall2014</td>\n",
       "        <td>AC 0011</td>\n",
       "        <td>C04</td>\n",
       "        <td>3.000</td>\n",
       "        <td>Introduction to Financial Accounting</td>\n",
       "        <td>[{&#x27;days&#x27;: &#x27;MR&#x27;, &#x27;times&#x27;: &#x27;1100am-1215pm&#x27;, &#x27;dates&#x27;: &#x27;09/02-12/08&#x27;, &#x27;location&#x27;: &#x27;DSB 111&#x27;}]</td>\n",
       "        <td>[&#x27;MR 1100am-1215pm 09/02-12/08 DSB 111&#x27;]</td>\n",
       "        <td>0</td>\n",
       "        <td>29</td>\n",
       "        <td>-29</td>\n",
       "        <td>2</td>\n",
       "    </tr>\n",
       "    <tr>\n",
       "        <td>70350</td>\n",
       "        <td>Fall2014</td>\n",
       "        <td>AC 0011</td>\n",
       "        <td>C05</td>\n",
       "        <td>3.000</td>\n",
       "        <td>Introduction to Financial Accounting</td>\n",
       "        <td>[{&#x27;days&#x27;: &#x27;MR&#x27;, &#x27;times&#x27;: &#x27;1230pm-0145pm&#x27;, &#x27;dates&#x27;: &#x27;09/02-12/08&#x27;, &#x27;location&#x27;: &#x27;DSB 111&#x27;}]</td>\n",
       "        <td>[&#x27;MR 1230pm-0145pm 09/02-12/08 DSB 111&#x27;]</td>\n",
       "        <td>0</td>\n",
       "        <td>30</td>\n",
       "        <td>-30</td>\n",
       "        <td>2</td>\n",
       "    </tr>\n",
       "</table>"
      ],
      "text/plain": [
       "[(70384, 'Fall2014', 'AC 0011', 'C01', '3.000', 'Introduction to Financial Accounting', \"[{'days': 'TF', 'times': '0800am-0915am', 'dates': '09/02-12/08', 'location': 'DSB 105'}]\", \"['TF 0800am-0915am 09/02-12/08 DSB 105']\", '0', '31', '-31', 1),\n",
       " (70385, 'Fall2014', 'AC 0011', 'C02', '3.000', 'Introduction to Financial Accounting', \"[{'days': 'TF', 'times': '0930am-1045am', 'dates': '09/02-12/08', 'location': 'DSB 105'}]\", \"['TF 0930am-1045am 09/02-12/08 DSB 105']\", '0', '31', '-31', 1),\n",
       " (70382, 'Fall2014', 'AC 0011', 'C03', '3.000', 'Introduction to Financial Accounting', \"[{'days': 'TF', 'times': '1230pm-0145pm', 'dates': '09/02-12/08', 'location': 'DSB 105'}]\", \"['TF 1230pm-0145pm 09/02-12/08 DSB 105']\", '0', '31', '-31', 1),\n",
       " (70291, 'Fall2014', 'AC 0011', 'C04', '3.000', 'Introduction to Financial Accounting', \"[{'days': 'MR', 'times': '1100am-1215pm', 'dates': '09/02-12/08', 'location': 'DSB 111'}]\", \"['MR 1100am-1215pm 09/02-12/08 DSB 111']\", '0', '29', '-29', 2),\n",
       " (70350, 'Fall2014', 'AC 0011', 'C05', '3.000', 'Introduction to Financial Accounting', \"[{'days': 'MR', 'times': '1230pm-0145pm', 'dates': '09/02-12/08', 'location': 'DSB 111'}]\", \"['MR 1230pm-0145pm 09/02-12/08 DSB 111']\", '0', '30', '-30', 2)]"
      ]
     },
     "execution_count": 19,
     "metadata": {},
     "output_type": "execute_result"
    }
   ],
   "source": [
    "%%sql\n",
    "SELECT * FROM COURSES\n",
    "LIMIT 5;"
   ]
  },
  {
   "cell_type": "code",
   "execution_count": 20,
   "metadata": {},
   "outputs": [
    {
     "name": "stdout",
     "output_type": "stream",
     "text": [
      " * sqlite:///CourseData.db\n",
      "Done.\n"
     ]
    },
    {
     "data": {
      "text/html": [
       "<table>\n",
       "    <tr>\n",
       "        <th>catalog_id</th>\n",
       "        <th>primary_instructor</th>\n",
       "    </tr>\n",
       "    <tr>\n",
       "        <td>AC 0011</td>\n",
       "        <td>Michael P.  Coyne</td>\n",
       "    </tr>\n",
       "    <tr>\n",
       "        <td>AC 0011</td>\n",
       "        <td>Michael P.  Coyne</td>\n",
       "    </tr>\n",
       "    <tr>\n",
       "        <td>AC 0011</td>\n",
       "        <td>Michael P.  Coyne</td>\n",
       "    </tr>\n",
       "    <tr>\n",
       "        <td>AC 0011</td>\n",
       "        <td>Rebecca I.  Bloch</td>\n",
       "    </tr>\n",
       "    <tr>\n",
       "        <td>AC 0011</td>\n",
       "        <td>Rebecca I.  Bloch</td>\n",
       "    </tr>\n",
       "    <tr>\n",
       "        <td>AC 0011</td>\n",
       "        <td>Rebecca I.  Bloch</td>\n",
       "    </tr>\n",
       "    <tr>\n",
       "        <td>AC 0011</td>\n",
       "        <td>Paul   Caster</td>\n",
       "    </tr>\n",
       "    <tr>\n",
       "        <td>AC 0011</td>\n",
       "        <td>Jo Ann   Drusbosky</td>\n",
       "    </tr>\n",
       "    <tr>\n",
       "        <td>AC 0011</td>\n",
       "        <td>Jo Ann   Drusbosky</td>\n",
       "    </tr>\n",
       "    <tr>\n",
       "        <td>AC 0011</td>\n",
       "        <td>Jo Ann   Drusbosky</td>\n",
       "    </tr>\n",
       "</table>"
      ],
      "text/plain": [
       "[('AC 0011', 'Michael P.  Coyne'),\n",
       " ('AC 0011', 'Michael P.  Coyne'),\n",
       " ('AC 0011', 'Michael P.  Coyne'),\n",
       " ('AC 0011', 'Rebecca I.  Bloch'),\n",
       " ('AC 0011', 'Rebecca I.  Bloch'),\n",
       " ('AC 0011', 'Rebecca I.  Bloch'),\n",
       " ('AC 0011', 'Paul   Caster'),\n",
       " ('AC 0011', 'Jo Ann   Drusbosky'),\n",
       " ('AC 0011', 'Jo Ann   Drusbosky'),\n",
       " ('AC 0011', 'Jo Ann   Drusbosky')]"
      ]
     },
     "execution_count": 20,
     "metadata": {},
     "output_type": "execute_result"
    }
   ],
   "source": [
    "%%sql\n",
    "SELECT catalog_id, primary_instructor \n",
    "FROM COURSES\n",
    "JOIN TEACHERS USING (TID)\n",
    "limit 10;"
   ]
  },
  {
   "cell_type": "code",
   "execution_count": 21,
   "metadata": {},
   "outputs": [
    {
     "name": "stdout",
     "output_type": "stream",
     "text": [
      " * sqlite:///CourseData.db\n",
      "Done.\n"
     ]
    },
    {
     "data": {
      "text/html": [
       "<table>\n",
       "    <tr>\n",
       "        <th>crn</th>\n",
       "        <th>term</th>\n",
       "        <th>catalog_id</th>\n",
       "        <th>section</th>\n",
       "        <th>credits</th>\n",
       "        <th>title</th>\n",
       "        <th>meetings</th>\n",
       "        <th>timecodes</th>\n",
       "        <th>cap</th>\n",
       "        <th>act</th>\n",
       "        <th>rem</th>\n",
       "        <th>TID</th>\n",
       "    </tr>\n",
       "    <tr>\n",
       "        <td>70384</td>\n",
       "        <td>Fall2014</td>\n",
       "        <td>AC 0011</td>\n",
       "        <td>C01</td>\n",
       "        <td>3.000</td>\n",
       "        <td>Introduction to Financial Accounting</td>\n",
       "        <td>[{&#x27;days&#x27;: &#x27;TF&#x27;, &#x27;times&#x27;: &#x27;0800am-0915am&#x27;, &#x27;dates&#x27;: &#x27;09/02-12/08&#x27;, &#x27;location&#x27;: &#x27;DSB 105&#x27;}]</td>\n",
       "        <td>[&#x27;TF 0800am-0915am 09/02-12/08 DSB 105&#x27;]</td>\n",
       "        <td>0</td>\n",
       "        <td>31</td>\n",
       "        <td>-31</td>\n",
       "        <td>1</td>\n",
       "    </tr>\n",
       "    <tr>\n",
       "        <td>70385</td>\n",
       "        <td>Fall2014</td>\n",
       "        <td>AC 0011</td>\n",
       "        <td>C02</td>\n",
       "        <td>3.000</td>\n",
       "        <td>Introduction to Financial Accounting</td>\n",
       "        <td>[{&#x27;days&#x27;: &#x27;TF&#x27;, &#x27;times&#x27;: &#x27;0930am-1045am&#x27;, &#x27;dates&#x27;: &#x27;09/02-12/08&#x27;, &#x27;location&#x27;: &#x27;DSB 105&#x27;}]</td>\n",
       "        <td>[&#x27;TF 0930am-1045am 09/02-12/08 DSB 105&#x27;]</td>\n",
       "        <td>0</td>\n",
       "        <td>31</td>\n",
       "        <td>-31</td>\n",
       "        <td>1</td>\n",
       "    </tr>\n",
       "    <tr>\n",
       "        <td>70382</td>\n",
       "        <td>Fall2014</td>\n",
       "        <td>AC 0011</td>\n",
       "        <td>C03</td>\n",
       "        <td>3.000</td>\n",
       "        <td>Introduction to Financial Accounting</td>\n",
       "        <td>[{&#x27;days&#x27;: &#x27;TF&#x27;, &#x27;times&#x27;: &#x27;1230pm-0145pm&#x27;, &#x27;dates&#x27;: &#x27;09/02-12/08&#x27;, &#x27;location&#x27;: &#x27;DSB 105&#x27;}]</td>\n",
       "        <td>[&#x27;TF 1230pm-0145pm 09/02-12/08 DSB 105&#x27;]</td>\n",
       "        <td>0</td>\n",
       "        <td>31</td>\n",
       "        <td>-31</td>\n",
       "        <td>1</td>\n",
       "    </tr>\n",
       "    <tr>\n",
       "        <td>70291</td>\n",
       "        <td>Fall2014</td>\n",
       "        <td>AC 0011</td>\n",
       "        <td>C04</td>\n",
       "        <td>3.000</td>\n",
       "        <td>Introduction to Financial Accounting</td>\n",
       "        <td>[{&#x27;days&#x27;: &#x27;MR&#x27;, &#x27;times&#x27;: &#x27;1100am-1215pm&#x27;, &#x27;dates&#x27;: &#x27;09/02-12/08&#x27;, &#x27;location&#x27;: &#x27;DSB 111&#x27;}]</td>\n",
       "        <td>[&#x27;MR 1100am-1215pm 09/02-12/08 DSB 111&#x27;]</td>\n",
       "        <td>0</td>\n",
       "        <td>29</td>\n",
       "        <td>-29</td>\n",
       "        <td>2</td>\n",
       "    </tr>\n",
       "    <tr>\n",
       "        <td>70350</td>\n",
       "        <td>Fall2014</td>\n",
       "        <td>AC 0011</td>\n",
       "        <td>C05</td>\n",
       "        <td>3.000</td>\n",
       "        <td>Introduction to Financial Accounting</td>\n",
       "        <td>[{&#x27;days&#x27;: &#x27;MR&#x27;, &#x27;times&#x27;: &#x27;1230pm-0145pm&#x27;, &#x27;dates&#x27;: &#x27;09/02-12/08&#x27;, &#x27;location&#x27;: &#x27;DSB 111&#x27;}]</td>\n",
       "        <td>[&#x27;MR 1230pm-0145pm 09/02-12/08 DSB 111&#x27;]</td>\n",
       "        <td>0</td>\n",
       "        <td>30</td>\n",
       "        <td>-30</td>\n",
       "        <td>2</td>\n",
       "    </tr>\n",
       "</table>"
      ],
      "text/plain": [
       "[(70384, 'Fall2014', 'AC 0011', 'C01', '3.000', 'Introduction to Financial Accounting', \"[{'days': 'TF', 'times': '0800am-0915am', 'dates': '09/02-12/08', 'location': 'DSB 105'}]\", \"['TF 0800am-0915am 09/02-12/08 DSB 105']\", '0', '31', '-31', 1),\n",
       " (70385, 'Fall2014', 'AC 0011', 'C02', '3.000', 'Introduction to Financial Accounting', \"[{'days': 'TF', 'times': '0930am-1045am', 'dates': '09/02-12/08', 'location': 'DSB 105'}]\", \"['TF 0930am-1045am 09/02-12/08 DSB 105']\", '0', '31', '-31', 1),\n",
       " (70382, 'Fall2014', 'AC 0011', 'C03', '3.000', 'Introduction to Financial Accounting', \"[{'days': 'TF', 'times': '1230pm-0145pm', 'dates': '09/02-12/08', 'location': 'DSB 105'}]\", \"['TF 1230pm-0145pm 09/02-12/08 DSB 105']\", '0', '31', '-31', 1),\n",
       " (70291, 'Fall2014', 'AC 0011', 'C04', '3.000', 'Introduction to Financial Accounting', \"[{'days': 'MR', 'times': '1100am-1215pm', 'dates': '09/02-12/08', 'location': 'DSB 111'}]\", \"['MR 1100am-1215pm 09/02-12/08 DSB 111']\", '0', '29', '-29', 2),\n",
       " (70350, 'Fall2014', 'AC 0011', 'C05', '3.000', 'Introduction to Financial Accounting', \"[{'days': 'MR', 'times': '1230pm-0145pm', 'dates': '09/02-12/08', 'location': 'DSB 111'}]\", \"['MR 1230pm-0145pm 09/02-12/08 DSB 111']\", '0', '30', '-30', 2)]"
      ]
     },
     "execution_count": 21,
     "metadata": {},
     "output_type": "execute_result"
    }
   ],
   "source": [
    "%%sql\n",
    "SELECT * FROM COURSES\n",
    "limit 5\n",
    ";\n"
   ]
  },
  {
   "cell_type": "code",
   "execution_count": 22,
   "metadata": {},
   "outputs": [
    {
     "name": "stdout",
     "output_type": "stream",
     "text": [
      " * sqlite:///CourseData.db\n",
      "Done.\n"
     ]
    },
    {
     "data": {
      "text/html": [
       "<table>\n",
       "    <tr>\n",
       "        <th>TID</th>\n",
       "    </tr>\n",
       "    <tr>\n",
       "        <td>1</td>\n",
       "    </tr>\n",
       "    <tr>\n",
       "        <td>2</td>\n",
       "    </tr>\n",
       "    <tr>\n",
       "        <td>3</td>\n",
       "    </tr>\n",
       "    <tr>\n",
       "        <td>4</td>\n",
       "    </tr>\n",
       "    <tr>\n",
       "        <td>5</td>\n",
       "    </tr>\n",
       "</table>"
      ],
      "text/plain": [
       "[(1,), (2,), (3,), (4,), (5,)]"
      ]
     },
     "execution_count": 22,
     "metadata": {},
     "output_type": "execute_result"
    }
   ],
   "source": [
    "%%sql\n",
    "SELECT TID FROM TEACHERS\n",
    "limit 5;"
   ]
  },
  {
   "cell_type": "markdown",
   "metadata": {},
   "source": [
    "# 5. Run SELECT Queries"
   ]
  },
  {
   "cell_type": "code",
   "execution_count": 23,
   "metadata": {},
   "outputs": [
    {
     "data": {
      "text/plain": [
       "'Connected: @CourseData.db'"
      ]
     },
     "execution_count": 23,
     "metadata": {},
     "output_type": "execute_result"
    }
   ],
   "source": [
    "%reload_ext sql\n",
    "%sql sqlite:///CourseData.db"
   ]
  },
  {
   "cell_type": "markdown",
   "metadata": {},
   "source": [
    "## SELECT Query for all unique classrooms \n",
    "- only included those with a character lenght of 7 (some had 2, 8, etc.)\n",
    "- can't figure out how to get a distinct location when including additinonal fields."
   ]
  },
  {
   "cell_type": "code",
   "execution_count": 24,
   "metadata": {},
   "outputs": [
    {
     "name": "stdout",
     "output_type": "stream",
     "text": [
      " * sqlite:///CourseData.db\n",
      "Done.\n"
     ]
    },
    {
     "data": {
      "text/html": [
       "<table>\n",
       "    <tr>\n",
       "        <th>location</th>\n",
       "    </tr>\n",
       "    <tr>\n",
       "        <td>BCC 200</td>\n",
       "    </tr>\n",
       "    <tr>\n",
       "        <td>BLM 112</td>\n",
       "    </tr>\n",
       "    <tr>\n",
       "        <td>BNW 124</td>\n",
       "    </tr>\n",
       "    <tr>\n",
       "        <td>BNW 127</td>\n",
       "    </tr>\n",
       "    <tr>\n",
       "        <td>BNW 128</td>\n",
       "    </tr>\n",
       "    <tr>\n",
       "        <td>BNW 130</td>\n",
       "    </tr>\n",
       "    <tr>\n",
       "        <td>BNW 131</td>\n",
       "    </tr>\n",
       "    <tr>\n",
       "        <td>BNW 133</td>\n",
       "    </tr>\n",
       "    <tr>\n",
       "        <td>BNW 136</td>\n",
       "    </tr>\n",
       "    <tr>\n",
       "        <td>BNW 137</td>\n",
       "    </tr>\n",
       "    <tr>\n",
       "        <td>BNW 138</td>\n",
       "    </tr>\n",
       "    <tr>\n",
       "        <td>BNW 139</td>\n",
       "    </tr>\n",
       "    <tr>\n",
       "        <td>BNW 143</td>\n",
       "    </tr>\n",
       "    <tr>\n",
       "        <td>BNW 144</td>\n",
       "    </tr>\n",
       "    <tr>\n",
       "        <td>BNW 162</td>\n",
       "    </tr>\n",
       "    <tr>\n",
       "        <td>BNW 163</td>\n",
       "    </tr>\n",
       "    <tr>\n",
       "        <td>BNW 166</td>\n",
       "    </tr>\n",
       "    <tr>\n",
       "        <td>BNW 236</td>\n",
       "    </tr>\n",
       "    <tr>\n",
       "        <td>BNW 240</td>\n",
       "    </tr>\n",
       "    <tr>\n",
       "        <td>BNW 245</td>\n",
       "    </tr>\n",
       "</table>"
      ],
      "text/plain": [
       "[('BCC 200',),\n",
       " ('BLM 112',),\n",
       " ('BNW 124',),\n",
       " ('BNW 127',),\n",
       " ('BNW 128',),\n",
       " ('BNW 130',),\n",
       " ('BNW 131',),\n",
       " ('BNW 133',),\n",
       " ('BNW 136',),\n",
       " ('BNW 137',),\n",
       " ('BNW 138',),\n",
       " ('BNW 139',),\n",
       " ('BNW 143',),\n",
       " ('BNW 144',),\n",
       " ('BNW 162',),\n",
       " ('BNW 163',),\n",
       " ('BNW 166',),\n",
       " ('BNW 236',),\n",
       " ('BNW 240',),\n",
       " ('BNW 245',)]"
      ]
     },
     "execution_count": 24,
     "metadata": {},
     "output_type": "execute_result"
    }
   ],
   "source": [
    "%%sql\n",
    "SELECT DISTINCT \n",
    "location\n",
    "FROM COURSEMEETINGS\n",
    "WHERE LENGTH(location) = 7\n",
    "ORDER BY location\n",
    "LIMIT 20\n",
    ";"
   ]
  },
  {
   "cell_type": "markdown",
   "metadata": {},
   "source": [
    "## SELECT Query displaying all courses in MSBA Program '18-'19\n",
    "- still have to get rid of blank by making defining description as NOT NULL.\n",
    "- is there an easier way?"
   ]
  },
  {
   "cell_type": "code",
   "execution_count": 39,
   "metadata": {},
   "outputs": [
    {
     "name": "stdout",
     "output_type": "stream",
     "text": [
      " * sqlite:///CourseData.db\n",
      "Done.\n"
     ]
    },
    {
     "data": {
      "text/html": [
       "<table>\n",
       "    <tr>\n",
       "        <th>Course</th>\n",
       "        <th>Program</th>\n",
       "        <th>Code</th>\n",
       "        <th>Description</th>\n",
       "    </tr>\n",
       "    <tr>\n",
       "        <td>Information Systems and Database Management</td>\n",
       "        <td>Information Systems</td>\n",
       "        <td>IS 0500</td>\n",
       "        <td>This course introduces the basic concepts and tools relevant to information systems and database management, and their enabling roles in business strategies and operations. Case studies are used to facilitate discussions of practical applications and issues involving strategic alignments of organizations, resource allocation, integration, planning, and analysis of cost, benefit and performance in light of the big data challenges. Specific emphases involve database design and implementation and emerging strategies and technologies such as business intelligence, big data management, web security, and online business analytics.</td>\n",
       "    </tr>\n",
       "    <tr>\n",
       "        <td>International Information Systems</td>\n",
       "        <td>Information Systems</td>\n",
       "        <td>IS 0501</td>\n",
       "        <td>This course examines information technology environments around the world, and attendant challenges to business strategy and information systems design. The course identifies geographic and institutional variables that create borders in the global Internet economy: material infrastructures, socio-economic elements, and political-legal systems. The course emphasizes national and regional strategies, emergent technologies, hybrid systems, and equity issues.</td>\n",
       "    </tr>\n",
       "    <tr>\n",
       "        <td>Python for Business Analytics</td>\n",
       "        <td>Information Systems</td>\n",
       "        <td>IS 0505</td>\n",
       "        <td>In this course, we introduce Python as a language and tool for collecting, preprocessing, and visualizing data for business analytics. since Python is one of the most popular programming languages, along with R, in data mining and business analytics, its fundamental programming logic and knowledge is essential for students to apply in data mining and to succeed in the job market. Specifically, this course focuses on the data-engineering phase, which includes collecting, preprocessing, and visualizing data, with respect to applications in business modeling, optimization, and statistical analysis. In addition, a number of mini projects will be used as vehicles to cover the main applications of data analytics, including recommender systems, text analytics, and web analytics.</td>\n",
       "    </tr>\n",
       "    <tr>\n",
       "        <td>Databases for Business Analytics</td>\n",
       "        <td>Information Systems</td>\n",
       "        <td>IS 0510</td>\n",
       "        <td>This course introduces databases and data management in three parts. The first part covers basic database fundamentals. The second part is a hands-on introduction to Structured Query Language (SQL) for defining, manipulating, accessing, and managing data, accompanied by the basics of data modeling and normalization needed to ensure data integrity. The course concludes with a comprehensive database project that gives each student the opportunity to integrate and apply the new knowledge and skills learned from this class. Advanced topics such as distributed database systems, data services, and NoSQL databases are also discussed.</td>\n",
       "    </tr>\n",
       "    <tr>\n",
       "        <td>Project Management</td>\n",
       "        <td>Information Systems</td>\n",
       "        <td>IS 0520</td>\n",
       "        <td>This course explores the process and practice of project management. Topics to be covered include project lifecycle and organizations, teambuilding and productivity, task scheduling and resource allocation, and progress tracking and control. Cases will be used to consider the implications for change management, consulting, IT implementation, and other related disciplines. Small team projects and experiential exercises will also be used to provide an active learning environment. This course is designed to count toward professional project management certification.</td>\n",
       "    </tr>\n",
       "    <tr>\n",
       "        <td>Data Mining and Business Intelligence</td>\n",
       "        <td>Information Systems</td>\n",
       "        <td>IS 0540</td>\n",
       "        <td>This course will change the way you think about data and its role in business. Businesses, governments, and individuals create massive collections of data as a byproduct of their activity. Increasingly, managers rely on intelligent technology to systematically analyze data to improve their decision-making. In many cases, automating analytical and decision-making processes is necessary because of the large volume of data and the speed with which new data are generated. In this course, we will examine how data analysis technologies can be used to improve managerial decision making. We will study the fundamental principles and techniques of data mining through real-world examples and cases to place data mining techniques in context, to develop data-analytic thinking, and to illustrate that proper application of these techniques is as much an art as it is a science. In addition, we will work &quot;hands-on&quot; with contemporary data mining software.</td>\n",
       "    </tr>\n",
       "    <tr>\n",
       "        <td>Business Analytics and Big Data Management</td>\n",
       "        <td>Information Systems</td>\n",
       "        <td>IS 0550</td>\n",
       "        <td>This course will survey state-of-the-art topics in Big Data, looking at data collection (via smartphones, sensors, the Web), data storage and processing (scalable relational databases, Hadoop, Spark, etc.), extracting structured data from unstructured databases, systems issues (exploiting multicore, security), analytics (machine learning, data compression, efficient algorithms), data visualization, and a range of applications. Each of these five modules will introduce broad concepts as well as provide the most recent developments in the area.</td>\n",
       "    </tr>\n",
       "    <tr>\n",
       "        <td>Contemporary Topics in Information Systems and Operations Management</td>\n",
       "        <td>Information Systems</td>\n",
       "        <td>IS 0585</td>\n",
       "        <td>This course draws from current literature and practice on information systems and/or operations management. The topics change from semester to semester, depending on student and faculty interest and may include: project management, e-business, management science with spreadsheets, e-procurement, executive information systems, ethics, and other socio-economic factors in the use of information technology.</td>\n",
       "    </tr>\n",
       "    <tr>\n",
       "        <td>Contemporary Topics: Advanced Data Mining Applications</td>\n",
       "        <td>Information Systems</td>\n",
       "        <td>IS 0585B</td>\n",
       "        <td></td>\n",
       "    </tr>\n",
       "    <tr>\n",
       "        <td>Independent Study in Information Systems and Operations Management</td>\n",
       "        <td>Information Systems</td>\n",
       "        <td>IS 0598</td>\n",
       "        <td>This course provides an opportunity for students to complete a project or perform research under the direction of an Information Systems and Operations Management (ISOM) faculty member who has expertise in the topic being investigated. Students are expected to complete a significant project or research paper as the primary requirement of this course. Enrollment by permission of the ISOM Department Chair only.</td>\n",
       "    </tr>\n",
       "    <tr>\n",
       "        <td>Business Forecasting and Predictive Analytics</td>\n",
       "        <td>Quantitative Analysis</td>\n",
       "        <td>QA 0500</td>\n",
       "        <td>This course introduces analytical techniques used for decision-making under uncertainty. Topics include time series and other forecasting techniques, such as Monte Carlo simulation, to assess the risk associated with managerial decisions. Specifically, we will cover data collection methods, time dependent models and analysis, advanced solver, time series techniques, exponential smoothing, moving averages, and Box-Jenkins (ARIMA) models. Application examples include financial models - stock prices, risk management - bond ratings, behavior models - customer attrition, customer likes/dislikes, buying patterns - propensity to buy, politics - identify swing voters, and sales.</td>\n",
       "    </tr>\n",
       "    <tr>\n",
       "        <td>Data Mining and Business Intelligence</td>\n",
       "        <td>Software Engineering</td>\n",
       "        <td>SW 0518</td>\n",
       "        <td>This course examines business intelligence concepts, methods and processes used to improve data-centric business decision support solutions with a particular focus on data mining techniques. We will first examine the principles and practices of gathering and retrieving large volumes of data for analysis and synthesis. Next we will examine analytical techniques for extracting information from large data sets. In particular, the course examines the following data mining techniques: classification, estimation, prediction, and clustering. During the course we will also discuss knowledge management, how organizations manage and use the knowledge that they acquire, and presentation of data.</td>\n",
       "    </tr>\n",
       "</table>"
      ],
      "text/plain": [
       "[('Information Systems and Database Management', 'Information Systems', 'IS 0500', 'This course introduces the basic concepts and tools relevant to information systems and database management, and their enabling roles in business str ... (334 characters truncated) ... lementation and emerging strategies and technologies such as business intelligence, big data management, web security, and online business analytics.'),\n",
       " ('International Information Systems', 'Information Systems', 'IS 0501', 'This course examines information technology environments around the world, and attendant challenges to business strategy and information systems desi ... (161 characters truncated) ... ments, and political-legal systems. The course emphasizes national and regional strategies, emergent technologies, hybrid systems, and equity issues.'),\n",
       " ('Python for Business Analytics', 'Information Systems', 'IS 0505', 'In this course, we introduce Python as a language and tool for collecting, preprocessing, and visualizing data for business analytics. since Python i ... (484 characters truncated) ... projects will be used as vehicles to cover the main applications of data analytics, including recommender systems, text analytics, and web analytics.'),\n",
       " ('Databases for Business Analytics', 'Information Systems', 'IS 0510', 'This course introduces databases and data management in three parts. The first part covers basic database fundamentals. The second part is a hands-on ... (336 characters truncated) ... edge and skills learned from this class. Advanced topics such as distributed database systems, data services, and NoSQL databases are also discussed.'),\n",
       " ('Project Management', 'Information Systems', 'IS 0520', 'This course explores the process and practice of project management. Topics to be covered include project lifecycle and organizations, teambuilding a ... (271 characters truncated) ... s will also be used to provide an active learning environment. This course is designed to count toward professional project management certification.'),\n",
       " ('Data Mining and Business Intelligence', 'Information Systems', 'IS 0540', 'This course will change the way you think about data and its role in business. Businesses, governments, and individuals create massive collections of ... (653 characters truncated) ... er application of these techniques is as much an art as it is a science. In addition, we will work \"hands-on\" with contemporary data mining software.'),\n",
       " ('Business Analytics and Big Data Management', 'Information Systems', 'IS 0550', 'This course will survey state-of-the-art topics in Big Data, looking at data collection (via smartphones, sensors, the Web), data storage and process ... (250 characters truncated) ... n, and a range of applications. Each of these five modules will introduce broad concepts as well as provide the most recent developments in the area.'),\n",
       " ('Contemporary Topics in Information Systems and Operations Management', 'Information Systems', 'IS 0585', 'This course draws from current literature and practice on information systems and/or operations management. The topics change from semester to semest ... (108 characters truncated) ... ience with spreadsheets, e-procurement, executive information systems, ethics, and other socio-economic factors in the use of information technology.'),\n",
       " ('Contemporary Topics: Advanced Data Mining Applications', 'Information Systems', 'IS 0585B', ''),\n",
       " ('Independent Study in Information Systems and Operations Management', 'Information Systems', 'IS 0598', 'This course provides an opportunity for students to complete a project or perform research under the direction of an Information Systems and Operatio ... (114 characters truncated) ... mplete a significant project or research paper as the primary requirement of this course. Enrollment by permission of the ISOM Department Chair only.'),\n",
       " ('Business Forecasting and Predictive Analytics', 'Quantitative Analysis', 'QA 0500', 'This course introduces analytical techniques used for decision-making under uncertainty. Topics include time series and other forecasting techniques, ... (381 characters truncated) ... ngs, behavior models - customer attrition, customer likes/dislikes, buying patterns - propensity to buy, politics - identify swing voters, and sales.'),\n",
       " ('Data Mining and Business Intelligence', 'Software Engineering', 'SW 0518', 'This course examines business intelligence concepts, methods and processes used to improve data-centric business decision support solutions with a pa ... (395 characters truncated) ... ing the course we will also discuss knowledge management, how organizations manage and use the knowledge that they acquire, and presentation of data.')]"
      ]
     },
     "execution_count": 39,
     "metadata": {},
     "output_type": "execute_result"
    }
   ],
   "source": [
    "%%sql\n",
    "SELECT course_title AS Course, program_name AS Program, catalog_id AS Code, description AS Description\n",
    "FROM COURSECATALOGS\n",
    "WHERE program_name = 'Information Systems'\n",
    "AND\n",
    "Code LIKE \"IS 05%\"\n",
    "OR\n",
    "Code LIKE \"QA 05%\"\n",
    "OR\n",
    "Code LIKE \"SW 0518%\"\n",
    "ORDER BY program_name\n",
    ";"
   ]
  },
  {
   "cell_type": "markdown",
   "metadata": {},
   "source": [
    "# JOIN Testing"
   ]
  },
  {
   "cell_type": "code",
   "execution_count": 26,
   "metadata": {},
   "outputs": [
    {
     "name": "stdout",
     "output_type": "stream",
     "text": [
      " * sqlite:///CourseData.db\n",
      "Done.\n"
     ]
    },
    {
     "data": {
      "text/html": [
       "<table>\n",
       "    <tr>\n",
       "        <th>crn</th>\n",
       "        <th>term</th>\n",
       "        <th>catalog_id</th>\n",
       "        <th>section</th>\n",
       "        <th>credits</th>\n",
       "        <th>title</th>\n",
       "        <th>meetings</th>\n",
       "        <th>timecodes</th>\n",
       "        <th>cap</th>\n",
       "        <th>act</th>\n",
       "        <th>rem</th>\n",
       "        <th>TID</th>\n",
       "    </tr>\n",
       "    <tr>\n",
       "        <td>70384</td>\n",
       "        <td>Fall2014</td>\n",
       "        <td>AC 0011</td>\n",
       "        <td>C01</td>\n",
       "        <td>3.000</td>\n",
       "        <td>Introduction to Financial Accounting</td>\n",
       "        <td>[{&#x27;days&#x27;: &#x27;TF&#x27;, &#x27;times&#x27;: &#x27;0800am-0915am&#x27;, &#x27;dates&#x27;: &#x27;09/02-12/08&#x27;, &#x27;location&#x27;: &#x27;DSB 105&#x27;}]</td>\n",
       "        <td>[&#x27;TF 0800am-0915am 09/02-12/08 DSB 105&#x27;]</td>\n",
       "        <td>0</td>\n",
       "        <td>31</td>\n",
       "        <td>-31</td>\n",
       "        <td>1</td>\n",
       "    </tr>\n",
       "    <tr>\n",
       "        <td>70385</td>\n",
       "        <td>Fall2014</td>\n",
       "        <td>AC 0011</td>\n",
       "        <td>C02</td>\n",
       "        <td>3.000</td>\n",
       "        <td>Introduction to Financial Accounting</td>\n",
       "        <td>[{&#x27;days&#x27;: &#x27;TF&#x27;, &#x27;times&#x27;: &#x27;0930am-1045am&#x27;, &#x27;dates&#x27;: &#x27;09/02-12/08&#x27;, &#x27;location&#x27;: &#x27;DSB 105&#x27;}]</td>\n",
       "        <td>[&#x27;TF 0930am-1045am 09/02-12/08 DSB 105&#x27;]</td>\n",
       "        <td>0</td>\n",
       "        <td>31</td>\n",
       "        <td>-31</td>\n",
       "        <td>1</td>\n",
       "    </tr>\n",
       "    <tr>\n",
       "        <td>70382</td>\n",
       "        <td>Fall2014</td>\n",
       "        <td>AC 0011</td>\n",
       "        <td>C03</td>\n",
       "        <td>3.000</td>\n",
       "        <td>Introduction to Financial Accounting</td>\n",
       "        <td>[{&#x27;days&#x27;: &#x27;TF&#x27;, &#x27;times&#x27;: &#x27;1230pm-0145pm&#x27;, &#x27;dates&#x27;: &#x27;09/02-12/08&#x27;, &#x27;location&#x27;: &#x27;DSB 105&#x27;}]</td>\n",
       "        <td>[&#x27;TF 1230pm-0145pm 09/02-12/08 DSB 105&#x27;]</td>\n",
       "        <td>0</td>\n",
       "        <td>31</td>\n",
       "        <td>-31</td>\n",
       "        <td>1</td>\n",
       "    </tr>\n",
       "    <tr>\n",
       "        <td>70291</td>\n",
       "        <td>Fall2014</td>\n",
       "        <td>AC 0011</td>\n",
       "        <td>C04</td>\n",
       "        <td>3.000</td>\n",
       "        <td>Introduction to Financial Accounting</td>\n",
       "        <td>[{&#x27;days&#x27;: &#x27;MR&#x27;, &#x27;times&#x27;: &#x27;1100am-1215pm&#x27;, &#x27;dates&#x27;: &#x27;09/02-12/08&#x27;, &#x27;location&#x27;: &#x27;DSB 111&#x27;}]</td>\n",
       "        <td>[&#x27;MR 1100am-1215pm 09/02-12/08 DSB 111&#x27;]</td>\n",
       "        <td>0</td>\n",
       "        <td>29</td>\n",
       "        <td>-29</td>\n",
       "        <td>2</td>\n",
       "    </tr>\n",
       "    <tr>\n",
       "        <td>70350</td>\n",
       "        <td>Fall2014</td>\n",
       "        <td>AC 0011</td>\n",
       "        <td>C05</td>\n",
       "        <td>3.000</td>\n",
       "        <td>Introduction to Financial Accounting</td>\n",
       "        <td>[{&#x27;days&#x27;: &#x27;MR&#x27;, &#x27;times&#x27;: &#x27;1230pm-0145pm&#x27;, &#x27;dates&#x27;: &#x27;09/02-12/08&#x27;, &#x27;location&#x27;: &#x27;DSB 111&#x27;}]</td>\n",
       "        <td>[&#x27;MR 1230pm-0145pm 09/02-12/08 DSB 111&#x27;]</td>\n",
       "        <td>0</td>\n",
       "        <td>30</td>\n",
       "        <td>-30</td>\n",
       "        <td>2</td>\n",
       "    </tr>\n",
       "    <tr>\n",
       "        <td>70381</td>\n",
       "        <td>Fall2014</td>\n",
       "        <td>AC 0011</td>\n",
       "        <td>C06</td>\n",
       "        <td>3.000</td>\n",
       "        <td>Introduction to Financial Accounting</td>\n",
       "        <td>[{&#x27;days&#x27;: &#x27;MR&#x27;, &#x27;times&#x27;: &#x27;0330pm-0445pm&#x27;, &#x27;dates&#x27;: &#x27;09/02-12/08&#x27;, &#x27;location&#x27;: &#x27;DSB 110A&#x27;}]</td>\n",
       "        <td>[&#x27;MR 0330pm-0445pm 09/02-12/08 DSB 110A&#x27;]</td>\n",
       "        <td>0</td>\n",
       "        <td>31</td>\n",
       "        <td>-31</td>\n",
       "        <td>2</td>\n",
       "    </tr>\n",
       "    <tr>\n",
       "        <td>70383</td>\n",
       "        <td>Fall2014</td>\n",
       "        <td>AC 0011</td>\n",
       "        <td>G</td>\n",
       "        <td>3.000</td>\n",
       "        <td>Introduction to Financial Accounting</td>\n",
       "        <td>[{&#x27;days&#x27;: &#x27;MR&#x27;, &#x27;times&#x27;: &#x27;0930am-1045am&#x27;, &#x27;dates&#x27;: &#x27;09/02-12/08&#x27;, &#x27;location&#x27;: &#x27;DSB 111&#x27;}]</td>\n",
       "        <td>[&#x27;MR 0930am-1045am 09/02-12/08 DSB 111&#x27;]</td>\n",
       "        <td>30</td>\n",
       "        <td>31</td>\n",
       "        <td>-1</td>\n",
       "        <td>3</td>\n",
       "    </tr>\n",
       "</table>"
      ],
      "text/plain": [
       "[(70384, 'Fall2014', 'AC 0011', 'C01', '3.000', 'Introduction to Financial Accounting', \"[{'days': 'TF', 'times': '0800am-0915am', 'dates': '09/02-12/08', 'location': 'DSB 105'}]\", \"['TF 0800am-0915am 09/02-12/08 DSB 105']\", '0', '31', '-31', 1),\n",
       " (70385, 'Fall2014', 'AC 0011', 'C02', '3.000', 'Introduction to Financial Accounting', \"[{'days': 'TF', 'times': '0930am-1045am', 'dates': '09/02-12/08', 'location': 'DSB 105'}]\", \"['TF 0930am-1045am 09/02-12/08 DSB 105']\", '0', '31', '-31', 1),\n",
       " (70382, 'Fall2014', 'AC 0011', 'C03', '3.000', 'Introduction to Financial Accounting', \"[{'days': 'TF', 'times': '1230pm-0145pm', 'dates': '09/02-12/08', 'location': 'DSB 105'}]\", \"['TF 1230pm-0145pm 09/02-12/08 DSB 105']\", '0', '31', '-31', 1),\n",
       " (70291, 'Fall2014', 'AC 0011', 'C04', '3.000', 'Introduction to Financial Accounting', \"[{'days': 'MR', 'times': '1100am-1215pm', 'dates': '09/02-12/08', 'location': 'DSB 111'}]\", \"['MR 1100am-1215pm 09/02-12/08 DSB 111']\", '0', '29', '-29', 2),\n",
       " (70350, 'Fall2014', 'AC 0011', 'C05', '3.000', 'Introduction to Financial Accounting', \"[{'days': 'MR', 'times': '1230pm-0145pm', 'dates': '09/02-12/08', 'location': 'DSB 111'}]\", \"['MR 1230pm-0145pm 09/02-12/08 DSB 111']\", '0', '30', '-30', 2),\n",
       " (70381, 'Fall2014', 'AC 0011', 'C06', '3.000', 'Introduction to Financial Accounting', \"[{'days': 'MR', 'times': '0330pm-0445pm', 'dates': '09/02-12/08', 'location': 'DSB 110A'}]\", \"['MR 0330pm-0445pm 09/02-12/08 DSB 110A']\", '0', '31', '-31', 2),\n",
       " (70383, 'Fall2014', 'AC 0011', 'G', '3.000', 'Introduction to Financial Accounting', \"[{'days': 'MR', 'times': '0930am-1045am', 'dates': '09/02-12/08', 'location': 'DSB 111'}]\", \"['MR 0930am-1045am 09/02-12/08 DSB 111']\", '30', '31', '-1', 3)]"
      ]
     },
     "execution_count": 26,
     "metadata": {},
     "output_type": "execute_result"
    }
   ],
   "source": [
    "%%sql\n",
    "SELECT *\n",
    "FROM COURSES\n",
    "LIMIT 7;"
   ]
  },
  {
   "cell_type": "markdown",
   "metadata": {},
   "source": [
    "%%sql\n",
    "SELECT t.TID, t.primary_instructor, c.catalog_id\n",
    "FROM COURSES as c\n",
    "JOIN TEACHERS as t ON c.TID = t.TID\n",
    "LIMIT 100;"
   ]
  },
  {
   "cell_type": "markdown",
   "metadata": {},
   "source": [
    "# Dr. Huntley\n",
    "### What Courses has Dr. Huntley Taught?"
   ]
  },
  {
   "cell_type": "code",
   "execution_count": 27,
   "metadata": {},
   "outputs": [
    {
     "name": "stdout",
     "output_type": "stream",
     "text": [
      " * sqlite:///CourseData.db\n",
      "Done.\n"
     ]
    },
    {
     "data": {
      "text/html": [
       "<table>\n",
       "    <tr>\n",
       "        <th>primary_instructor</th>\n",
       "        <th>catalog_id</th>\n",
       "    </tr>\n",
       "    <tr>\n",
       "        <td>Christopher L.  Huntley</td>\n",
       "        <td>IS 0100</td>\n",
       "    </tr>\n",
       "    <tr>\n",
       "        <td>Christopher L.  Huntley</td>\n",
       "        <td>IS 0135</td>\n",
       "    </tr>\n",
       "    <tr>\n",
       "        <td>Christopher L.  Huntley</td>\n",
       "        <td>IS 0320</td>\n",
       "    </tr>\n",
       "    <tr>\n",
       "        <td>Christopher L.  Huntley</td>\n",
       "        <td>IS 0100</td>\n",
       "    </tr>\n",
       "    <tr>\n",
       "        <td>Christopher L.  Huntley</td>\n",
       "        <td>IS 0100</td>\n",
       "    </tr>\n",
       "    <tr>\n",
       "        <td>Christopher L.  Huntley</td>\n",
       "        <td>IS 0135</td>\n",
       "    </tr>\n",
       "    <tr>\n",
       "        <td>Christopher L.  Huntley</td>\n",
       "        <td>IS 0320</td>\n",
       "    </tr>\n",
       "    <tr>\n",
       "        <td>Christopher L.  Huntley</td>\n",
       "        <td>IS 0135</td>\n",
       "    </tr>\n",
       "    <tr>\n",
       "        <td>Christopher L.  Huntley</td>\n",
       "        <td>IS 0240</td>\n",
       "    </tr>\n",
       "    <tr>\n",
       "        <td>Christopher L.  Huntley</td>\n",
       "        <td>IS 0585C</td>\n",
       "    </tr>\n",
       "</table>"
      ],
      "text/plain": [
       "[('Christopher L.  Huntley', 'IS 0100'),\n",
       " ('Christopher L.  Huntley', 'IS 0135'),\n",
       " ('Christopher L.  Huntley', 'IS 0320'),\n",
       " ('Christopher L.  Huntley', 'IS 0100'),\n",
       " ('Christopher L.  Huntley', 'IS 0100'),\n",
       " ('Christopher L.  Huntley', 'IS 0135'),\n",
       " ('Christopher L.  Huntley', 'IS 0320'),\n",
       " ('Christopher L.  Huntley', 'IS 0135'),\n",
       " ('Christopher L.  Huntley', 'IS 0240'),\n",
       " ('Christopher L.  Huntley', 'IS 0585C')]"
      ]
     },
     "execution_count": 27,
     "metadata": {},
     "output_type": "execute_result"
    }
   ],
   "source": [
    "%%sql\n",
    "SELECT t.primary_instructor, c.catalog_id\n",
    "FROM COURSES as c\n",
    "JOIN TEACHERS as t ON c.TID = t.TID\n",
    "WHERE primary_instructor like \"Christopher L.%\"\n",
    "Limit 10;"
   ]
  },
  {
   "cell_type": "markdown",
   "metadata": {},
   "source": [
    "### How Many Courses has Dr. Huntley Taught?"
   ]
  },
  {
   "cell_type": "code",
   "execution_count": 28,
   "metadata": {},
   "outputs": [
    {
     "name": "stdout",
     "output_type": "stream",
     "text": [
      " * sqlite:///CourseData.db\n",
      "Done.\n"
     ]
    },
    {
     "data": {
      "text/html": [
       "<table>\n",
       "    <tr>\n",
       "        <th>primary_instructor</th>\n",
       "        <th>courses_taught</th>\n",
       "    </tr>\n",
       "    <tr>\n",
       "        <td>Christopher L.  Huntley</td>\n",
       "        <td>31</td>\n",
       "    </tr>\n",
       "</table>"
      ],
      "text/plain": [
       "[('Christopher L.  Huntley', 31)]"
      ]
     },
     "execution_count": 28,
     "metadata": {},
     "output_type": "execute_result"
    }
   ],
   "source": [
    "%%sql\n",
    "SELECT DISTINCT t.primary_instructor, COUNT(c.catalog_id) AS courses_taught\n",
    "FROM COURSES as c\n",
    "JOIN TEACHERS as t ON c.TID = t.TID\n",
    "WHERE primary_instructor like \"Christopher L.%\"\n",
    "Limit 10;"
   ]
  },
  {
   "cell_type": "markdown",
   "metadata": {},
   "source": [
    "### What Courses has Dr. Massey Taught?"
   ]
  },
  {
   "cell_type": "code",
   "execution_count": 29,
   "metadata": {},
   "outputs": [
    {
     "name": "stdout",
     "output_type": "stream",
     "text": [
      " * sqlite:///CourseData.db\n",
      "Done.\n"
     ]
    },
    {
     "data": {
      "text/html": [
       "<table>\n",
       "    <tr>\n",
       "        <th>primary_instructor</th>\n",
       "        <th>catalog_id</th>\n",
       "    </tr>\n",
       "    <tr>\n",
       "        <td>Dawn W  Massey</td>\n",
       "        <td>AC 0570</td>\n",
       "    </tr>\n",
       "    <tr>\n",
       "        <td>Dawn W  Massey</td>\n",
       "        <td>AC 0590</td>\n",
       "    </tr>\n",
       "    <tr>\n",
       "        <td>Dawn W  Massey</td>\n",
       "        <td>AC 0590</td>\n",
       "    </tr>\n",
       "    <tr>\n",
       "        <td>Dawn W  Massey</td>\n",
       "        <td>AC 0590</td>\n",
       "    </tr>\n",
       "    <tr>\n",
       "        <td>Dawn W  Massey</td>\n",
       "        <td>AC 0570</td>\n",
       "    </tr>\n",
       "    <tr>\n",
       "        <td>Dawn W  Massey</td>\n",
       "        <td>AC 0590</td>\n",
       "    </tr>\n",
       "    <tr>\n",
       "        <td>Dawn W  Massey</td>\n",
       "        <td>AC 0590</td>\n",
       "    </tr>\n",
       "    <tr>\n",
       "        <td>Dawn W  Massey</td>\n",
       "        <td>AC 0590</td>\n",
       "    </tr>\n",
       "    <tr>\n",
       "        <td>Dawn W  Massey</td>\n",
       "        <td>AC 0570</td>\n",
       "    </tr>\n",
       "    <tr>\n",
       "        <td>Dawn W  Massey</td>\n",
       "        <td>AC 0570</td>\n",
       "    </tr>\n",
       "</table>"
      ],
      "text/plain": [
       "[('Dawn W  Massey', 'AC 0570'),\n",
       " ('Dawn W  Massey', 'AC 0590'),\n",
       " ('Dawn W  Massey', 'AC 0590'),\n",
       " ('Dawn W  Massey', 'AC 0590'),\n",
       " ('Dawn W  Massey', 'AC 0570'),\n",
       " ('Dawn W  Massey', 'AC 0590'),\n",
       " ('Dawn W  Massey', 'AC 0590'),\n",
       " ('Dawn W  Massey', 'AC 0590'),\n",
       " ('Dawn W  Massey', 'AC 0570'),\n",
       " ('Dawn W  Massey', 'AC 0570')]"
      ]
     },
     "execution_count": 29,
     "metadata": {},
     "output_type": "execute_result"
    }
   ],
   "source": [
    "%%sql\n",
    "SELECT t.primary_instructor, c.catalog_id\n",
    "FROM COURSES as c\n",
    "JOIN TEACHERS as t ON c.TID = t.TID\n",
    "WHERE primary_instructor like \"Dawn W%\"\n",
    "Limit 10;"
   ]
  },
  {
   "cell_type": "markdown",
   "metadata": {},
   "source": [
    "### How Many Courses has Dr. Massey Taught?"
   ]
  },
  {
   "cell_type": "code",
   "execution_count": 30,
   "metadata": {},
   "outputs": [
    {
     "name": "stdout",
     "output_type": "stream",
     "text": [
      " * sqlite:///CourseData.db\n",
      "Done.\n"
     ]
    },
    {
     "data": {
      "text/html": [
       "<table>\n",
       "    <tr>\n",
       "        <th>primary_instructor</th>\n",
       "        <th>courses_taught</th>\n",
       "    </tr>\n",
       "    <tr>\n",
       "        <td>Dawn W  Massey</td>\n",
       "        <td>52</td>\n",
       "    </tr>\n",
       "</table>"
      ],
      "text/plain": [
       "[('Dawn W  Massey', 52)]"
      ]
     },
     "execution_count": 30,
     "metadata": {},
     "output_type": "execute_result"
    }
   ],
   "source": [
    "%%sql\n",
    "SELECT DISTINCT t.primary_instructor, COUNT(c.catalog_id) AS courses_taught\n",
    "FROM COURSES as c\n",
    "JOIN TEACHERS as t ON c.TID = t.TID\n",
    "WHERE primary_instructor like \"Dawn%\"\n",
    "Limit 10;"
   ]
  },
  {
   "cell_type": "code",
   "execution_count": 31,
   "metadata": {},
   "outputs": [
    {
     "name": "stdout",
     "output_type": "stream",
     "text": [
      " * sqlite:///CourseData.db\n",
      "Done.\n"
     ]
    },
    {
     "data": {
      "text/html": [
       "<table>\n",
       "    <tr>\n",
       "        <th>TID</th>\n",
       "        <th>primary_instructor</th>\n",
       "    </tr>\n",
       "    <tr>\n",
       "        <td>1</td>\n",
       "        <td>Michael P.  Coyne</td>\n",
       "    </tr>\n",
       "    <tr>\n",
       "        <td>2</td>\n",
       "        <td>Rebecca I.  Bloch</td>\n",
       "    </tr>\n",
       "    <tr>\n",
       "        <td>3</td>\n",
       "        <td>Paul   Caster</td>\n",
       "    </tr>\n",
       "    <tr>\n",
       "        <td>4</td>\n",
       "        <td>Jo Ann   Drusbosky</td>\n",
       "    </tr>\n",
       "    <tr>\n",
       "        <td>5</td>\n",
       "        <td>Arleen N.  Kardos</td>\n",
       "    </tr>\n",
       "    <tr>\n",
       "        <td>6</td>\n",
       "        <td>Scott M  Brenner</td>\n",
       "    </tr>\n",
       "    <tr>\n",
       "        <td>7</td>\n",
       "        <td>Kevin C.  Cassidy</td>\n",
       "    </tr>\n",
       "    <tr>\n",
       "        <td>8</td>\n",
       "        <td>Bruce   Bradford</td>\n",
       "    </tr>\n",
       "    <tr>\n",
       "        <td>9</td>\n",
       "        <td>Milo W.  Peck</td>\n",
       "    </tr>\n",
       "    <tr>\n",
       "        <td>10</td>\n",
       "        <td>Stephen E.  Yost</td>\n",
       "    </tr>\n",
       "</table>"
      ],
      "text/plain": [
       "[(1, 'Michael P.  Coyne'),\n",
       " (2, 'Rebecca I.  Bloch'),\n",
       " (3, 'Paul   Caster'),\n",
       " (4, 'Jo Ann   Drusbosky'),\n",
       " (5, 'Arleen N.  Kardos'),\n",
       " (6, 'Scott M  Brenner'),\n",
       " (7, 'Kevin C.  Cassidy'),\n",
       " (8, 'Bruce   Bradford'),\n",
       " (9, 'Milo W.  Peck'),\n",
       " (10, 'Stephen E.  Yost')]"
      ]
     },
     "execution_count": 31,
     "metadata": {},
     "output_type": "execute_result"
    }
   ],
   "source": [
    "%%sql\n",
    "SELECT TID, primary_instructor FROM TEACHERS\n",
    "limit 10;\n"
   ]
  },
  {
   "cell_type": "code",
   "execution_count": 32,
   "metadata": {},
   "outputs": [
    {
     "name": "stdout",
     "output_type": "stream",
     "text": [
      " * sqlite:///CourseData.db\n",
      "Done.\n"
     ]
    },
    {
     "data": {
      "text/html": [
       "<table>\n",
       "    <tr>\n",
       "        <th>term</th>\n",
       "        <th>start</th>\n",
       "        <th>location</th>\n",
       "        <th>catalog_id</th>\n",
       "    </tr>\n",
       "    <tr>\n",
       "        <td>Fall2014</td>\n",
       "        <td>2014-09-02T08:00:00</td>\n",
       "        <td>DSB 105</td>\n",
       "        <td>AC 0011</td>\n",
       "    </tr>\n",
       "    <tr>\n",
       "        <td>Fall2014</td>\n",
       "        <td>2014-09-05T08:00:00</td>\n",
       "        <td>DSB 105</td>\n",
       "        <td>AC 0011</td>\n",
       "    </tr>\n",
       "    <tr>\n",
       "        <td>Fall2014</td>\n",
       "        <td>2014-09-09T08:00:00</td>\n",
       "        <td>DSB 105</td>\n",
       "        <td>AC 0011</td>\n",
       "    </tr>\n",
       "    <tr>\n",
       "        <td>Fall2014</td>\n",
       "        <td>2014-09-12T08:00:00</td>\n",
       "        <td>DSB 105</td>\n",
       "        <td>AC 0011</td>\n",
       "    </tr>\n",
       "    <tr>\n",
       "        <td>Fall2014</td>\n",
       "        <td>2014-09-16T08:00:00</td>\n",
       "        <td>DSB 105</td>\n",
       "        <td>AC 0011</td>\n",
       "    </tr>\n",
       "    <tr>\n",
       "        <td>Fall2014</td>\n",
       "        <td>2014-09-19T08:00:00</td>\n",
       "        <td>DSB 105</td>\n",
       "        <td>AC 0011</td>\n",
       "    </tr>\n",
       "    <tr>\n",
       "        <td>Fall2014</td>\n",
       "        <td>2014-09-23T08:00:00</td>\n",
       "        <td>DSB 105</td>\n",
       "        <td>AC 0011</td>\n",
       "    </tr>\n",
       "    <tr>\n",
       "        <td>Fall2014</td>\n",
       "        <td>2014-09-26T08:00:00</td>\n",
       "        <td>DSB 105</td>\n",
       "        <td>AC 0011</td>\n",
       "    </tr>\n",
       "    <tr>\n",
       "        <td>Fall2014</td>\n",
       "        <td>2014-09-30T08:00:00</td>\n",
       "        <td>DSB 105</td>\n",
       "        <td>AC 0011</td>\n",
       "    </tr>\n",
       "    <tr>\n",
       "        <td>Fall2014</td>\n",
       "        <td>2014-10-03T08:00:00</td>\n",
       "        <td>DSB 105</td>\n",
       "        <td>AC 0011</td>\n",
       "    </tr>\n",
       "    <tr>\n",
       "        <td>Fall2014</td>\n",
       "        <td>2014-10-07T08:00:00</td>\n",
       "        <td>DSB 105</td>\n",
       "        <td>AC 0011</td>\n",
       "    </tr>\n",
       "    <tr>\n",
       "        <td>Fall2014</td>\n",
       "        <td>2014-10-10T08:00:00</td>\n",
       "        <td>DSB 105</td>\n",
       "        <td>AC 0011</td>\n",
       "    </tr>\n",
       "    <tr>\n",
       "        <td>Fall2014</td>\n",
       "        <td>2014-10-17T08:00:00</td>\n",
       "        <td>DSB 105</td>\n",
       "        <td>AC 0011</td>\n",
       "    </tr>\n",
       "    <tr>\n",
       "        <td>Fall2014</td>\n",
       "        <td>2014-10-21T08:00:00</td>\n",
       "        <td>DSB 105</td>\n",
       "        <td>AC 0011</td>\n",
       "    </tr>\n",
       "    <tr>\n",
       "        <td>Fall2014</td>\n",
       "        <td>2014-10-24T08:00:00</td>\n",
       "        <td>DSB 105</td>\n",
       "        <td>AC 0011</td>\n",
       "    </tr>\n",
       "    <tr>\n",
       "        <td>Fall2014</td>\n",
       "        <td>2014-10-28T08:00:00</td>\n",
       "        <td>DSB 105</td>\n",
       "        <td>AC 0011</td>\n",
       "    </tr>\n",
       "    <tr>\n",
       "        <td>Fall2014</td>\n",
       "        <td>2014-10-31T08:00:00</td>\n",
       "        <td>DSB 105</td>\n",
       "        <td>AC 0011</td>\n",
       "    </tr>\n",
       "    <tr>\n",
       "        <td>Fall2014</td>\n",
       "        <td>2014-11-04T08:00:00</td>\n",
       "        <td>DSB 105</td>\n",
       "        <td>AC 0011</td>\n",
       "    </tr>\n",
       "    <tr>\n",
       "        <td>Fall2014</td>\n",
       "        <td>2014-11-07T08:00:00</td>\n",
       "        <td>DSB 105</td>\n",
       "        <td>AC 0011</td>\n",
       "    </tr>\n",
       "    <tr>\n",
       "        <td>Fall2014</td>\n",
       "        <td>2014-11-11T08:00:00</td>\n",
       "        <td>DSB 105</td>\n",
       "        <td>AC 0011</td>\n",
       "    </tr>\n",
       "</table>"
      ],
      "text/plain": [
       "[('Fall2014', '2014-09-02T08:00:00', 'DSB 105', 'AC 0011'),\n",
       " ('Fall2014', '2014-09-05T08:00:00', 'DSB 105', 'AC 0011'),\n",
       " ('Fall2014', '2014-09-09T08:00:00', 'DSB 105', 'AC 0011'),\n",
       " ('Fall2014', '2014-09-12T08:00:00', 'DSB 105', 'AC 0011'),\n",
       " ('Fall2014', '2014-09-16T08:00:00', 'DSB 105', 'AC 0011'),\n",
       " ('Fall2014', '2014-09-19T08:00:00', 'DSB 105', 'AC 0011'),\n",
       " ('Fall2014', '2014-09-23T08:00:00', 'DSB 105', 'AC 0011'),\n",
       " ('Fall2014', '2014-09-26T08:00:00', 'DSB 105', 'AC 0011'),\n",
       " ('Fall2014', '2014-09-30T08:00:00', 'DSB 105', 'AC 0011'),\n",
       " ('Fall2014', '2014-10-03T08:00:00', 'DSB 105', 'AC 0011'),\n",
       " ('Fall2014', '2014-10-07T08:00:00', 'DSB 105', 'AC 0011'),\n",
       " ('Fall2014', '2014-10-10T08:00:00', 'DSB 105', 'AC 0011'),\n",
       " ('Fall2014', '2014-10-17T08:00:00', 'DSB 105', 'AC 0011'),\n",
       " ('Fall2014', '2014-10-21T08:00:00', 'DSB 105', 'AC 0011'),\n",
       " ('Fall2014', '2014-10-24T08:00:00', 'DSB 105', 'AC 0011'),\n",
       " ('Fall2014', '2014-10-28T08:00:00', 'DSB 105', 'AC 0011'),\n",
       " ('Fall2014', '2014-10-31T08:00:00', 'DSB 105', 'AC 0011'),\n",
       " ('Fall2014', '2014-11-04T08:00:00', 'DSB 105', 'AC 0011'),\n",
       " ('Fall2014', '2014-11-07T08:00:00', 'DSB 105', 'AC 0011'),\n",
       " ('Fall2014', '2014-11-11T08:00:00', 'DSB 105', 'AC 0011')]"
      ]
     },
     "execution_count": 32,
     "metadata": {},
     "output_type": "execute_result"
    }
   ],
   "source": [
    "%%sql\n",
    "SELECT c.term, cm.start, cm.location, c.catalog_id\n",
    "FROM COURSES AS c\n",
    "JOIN COURSEMEETINGS AS cm\n",
    "LIMIT 20;"
   ]
  },
  {
   "cell_type": "code",
   "execution_count": 33,
   "metadata": {},
   "outputs": [
    {
     "name": "stdout",
     "output_type": "stream",
     "text": [
      " * sqlite:///CourseData.db\n",
      "Done.\n"
     ]
    },
    {
     "data": {
      "text/html": [
       "<table>\n",
       "    <tr>\n",
       "        <th>start</th>\n",
       "        <th>catalog_id</th>\n",
       "    </tr>\n",
       "    <tr>\n",
       "        <td>2014-09-02T08:00:00</td>\n",
       "        <td>AC 0011</td>\n",
       "    </tr>\n",
       "    <tr>\n",
       "        <td>2014-09-05T08:00:00</td>\n",
       "        <td>AC 0011</td>\n",
       "    </tr>\n",
       "    <tr>\n",
       "        <td>2014-09-09T08:00:00</td>\n",
       "        <td>AC 0011</td>\n",
       "    </tr>\n",
       "    <tr>\n",
       "        <td>2014-09-12T08:00:00</td>\n",
       "        <td>AC 0011</td>\n",
       "    </tr>\n",
       "    <tr>\n",
       "        <td>2014-09-16T08:00:00</td>\n",
       "        <td>AC 0011</td>\n",
       "    </tr>\n",
       "    <tr>\n",
       "        <td>2014-09-19T08:00:00</td>\n",
       "        <td>AC 0011</td>\n",
       "    </tr>\n",
       "    <tr>\n",
       "        <td>2014-09-23T08:00:00</td>\n",
       "        <td>AC 0011</td>\n",
       "    </tr>\n",
       "    <tr>\n",
       "        <td>2014-09-26T08:00:00</td>\n",
       "        <td>AC 0011</td>\n",
       "    </tr>\n",
       "    <tr>\n",
       "        <td>2014-09-30T08:00:00</td>\n",
       "        <td>AC 0011</td>\n",
       "    </tr>\n",
       "    <tr>\n",
       "        <td>2014-10-03T08:00:00</td>\n",
       "        <td>AC 0011</td>\n",
       "    </tr>\n",
       "</table>"
      ],
      "text/plain": [
       "[('2014-09-02T08:00:00', 'AC 0011'),\n",
       " ('2014-09-05T08:00:00', 'AC 0011'),\n",
       " ('2014-09-09T08:00:00', 'AC 0011'),\n",
       " ('2014-09-12T08:00:00', 'AC 0011'),\n",
       " ('2014-09-16T08:00:00', 'AC 0011'),\n",
       " ('2014-09-19T08:00:00', 'AC 0011'),\n",
       " ('2014-09-23T08:00:00', 'AC 0011'),\n",
       " ('2014-09-26T08:00:00', 'AC 0011'),\n",
       " ('2014-09-30T08:00:00', 'AC 0011'),\n",
       " ('2014-10-03T08:00:00', 'AC 0011')]"
      ]
     },
     "execution_count": 33,
     "metadata": {},
     "output_type": "execute_result"
    }
   ],
   "source": [
    "%%sql\n",
    "SELECT cm.start, c.catalog_id\n",
    "FROM COURSES AS c\n",
    "JOIN COURSEMEETINGS AS cm\n",
    "LIMIT 10;"
   ]
  },
  {
   "cell_type": "markdown",
   "metadata": {},
   "source": [
    "Have to finish insterting COURSES column"
   ]
  },
  {
   "cell_type": "code",
   "execution_count": 34,
   "metadata": {},
   "outputs": [
    {
     "name": "stdout",
     "output_type": "stream",
     "text": [
      " * sqlite:///CourseData.db\n",
      "Done.\n"
     ]
    },
    {
     "data": {
      "text/html": [
       "<table>\n",
       "    <tr>\n",
       "        <th>TID</th>\n",
       "        <th>primary_instructor</th>\n",
       "    </tr>\n",
       "    <tr>\n",
       "        <td>1</td>\n",
       "        <td>Michael P.  Coyne</td>\n",
       "    </tr>\n",
       "    <tr>\n",
       "        <td>2</td>\n",
       "        <td>Rebecca I.  Bloch</td>\n",
       "    </tr>\n",
       "    <tr>\n",
       "        <td>3</td>\n",
       "        <td>Paul   Caster</td>\n",
       "    </tr>\n",
       "    <tr>\n",
       "        <td>4</td>\n",
       "        <td>Jo Ann   Drusbosky</td>\n",
       "    </tr>\n",
       "    <tr>\n",
       "        <td>5</td>\n",
       "        <td>Arleen N.  Kardos</td>\n",
       "    </tr>\n",
       "    <tr>\n",
       "        <td>6</td>\n",
       "        <td>Scott M  Brenner</td>\n",
       "    </tr>\n",
       "    <tr>\n",
       "        <td>7</td>\n",
       "        <td>Kevin C.  Cassidy</td>\n",
       "    </tr>\n",
       "    <tr>\n",
       "        <td>8</td>\n",
       "        <td>Bruce   Bradford</td>\n",
       "    </tr>\n",
       "    <tr>\n",
       "        <td>9</td>\n",
       "        <td>Milo W.  Peck</td>\n",
       "    </tr>\n",
       "    <tr>\n",
       "        <td>10</td>\n",
       "        <td>Stephen E.  Yost</td>\n",
       "    </tr>\n",
       "</table>"
      ],
      "text/plain": [
       "[(1, 'Michael P.  Coyne'),\n",
       " (2, 'Rebecca I.  Bloch'),\n",
       " (3, 'Paul   Caster'),\n",
       " (4, 'Jo Ann   Drusbosky'),\n",
       " (5, 'Arleen N.  Kardos'),\n",
       " (6, 'Scott M  Brenner'),\n",
       " (7, 'Kevin C.  Cassidy'),\n",
       " (8, 'Bruce   Bradford'),\n",
       " (9, 'Milo W.  Peck'),\n",
       " (10, 'Stephen E.  Yost')]"
      ]
     },
     "execution_count": 34,
     "metadata": {},
     "output_type": "execute_result"
    }
   ],
   "source": [
    "%%sql\n",
    "SELECT TID, primary_instructor FROM TEACHERS\n",
    "limit 10;"
   ]
  },
  {
   "cell_type": "code",
   "execution_count": 35,
   "metadata": {},
   "outputs": [
    {
     "name": "stdout",
     "output_type": "stream",
     "text": [
      " * sqlite:///CourseData.db\n",
      "(sqlite3.OperationalError) near \"FROM\": syntax error [SQL: 'SELECT course_title AS Course,  catalog_id AS Code, program_name AS Program, \\nFROM COURSECATALOGS\\nWHERE credits = \"6 credits\"\\nLIMIT 50;'] (Background on this error at: http://sqlalche.me/e/e3q8)\n"
     ]
    }
   ],
   "source": [
    "%%sql\n",
    "SELECT course_title AS Course,  catalog_id AS Code, program_name AS Program, \n",
    "FROM COURSECATALOGS\n",
    "WHERE credits = \"6 credits\"\n",
    "LIMIT 50;"
   ]
  },
  {
   "cell_type": "code",
   "execution_count": null,
   "metadata": {},
   "outputs": [],
   "source": []
  },
  {
   "cell_type": "code",
   "execution_count": 36,
   "metadata": {},
   "outputs": [
    {
     "name": "stdout",
     "output_type": "stream",
     "text": [
      " * sqlite:///CourseData.db\n",
      "Done.\n"
     ]
    },
    {
     "data": {
      "text/plain": [
       "[]"
      ]
     },
     "execution_count": 36,
     "metadata": {},
     "output_type": "execute_result"
    }
   ],
   "source": [
    "%%sql\n",
    "VACUUM;"
   ]
  },
  {
   "cell_type": "code",
   "execution_count": null,
   "metadata": {},
   "outputs": [],
   "source": []
  }
 ],
 "metadata": {
  "kernelspec": {
   "display_name": "Python 3",
   "language": "python",
   "name": "python3"
  },
  "language_info": {
   "codemirror_mode": {
    "name": "ipython",
    "version": 3
   },
   "file_extension": ".py",
   "mimetype": "text/x-python",
   "name": "python",
   "nbconvert_exporter": "python",
   "pygments_lexer": "ipython3",
   "version": "3.6.5"
  }
 },
 "nbformat": 4,
 "nbformat_minor": 2
}
