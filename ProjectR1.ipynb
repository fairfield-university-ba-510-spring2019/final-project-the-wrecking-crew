{
 "cells": [
  {
   "cell_type": "code",
   "execution_count": 1,
   "metadata": {},
   "outputs": [
    {
     "data": {
      "text/plain": [
       "'Connected: @CourseData.db'"
      ]
     },
     "execution_count": 1,
     "metadata": {},
     "output_type": "execute_result"
    }
   ],
   "source": [
    "%load_ext sql\n",
    "%sql sqlite:///CourseData.db"
   ]
  },
  {
   "cell_type": "code",
   "execution_count": 2,
   "metadata": {},
   "outputs": [
    {
     "name": "stdout",
     "output_type": "stream",
     "text": [
      " * sqlite:///CourseData.db\n",
      "Done.\n"
     ]
    },
    {
     "data": {
      "text/plain": [
       "[]"
      ]
     },
     "execution_count": 2,
     "metadata": {},
     "output_type": "execute_result"
    }
   ],
   "source": [
    "%%sql\n",
    "DROP TABLE IF EXISTS CourseData;"
   ]
  },
  {
   "cell_type": "code",
   "execution_count": 3,
   "metadata": {},
   "outputs": [
    {
     "name": "stdout",
     "output_type": "stream",
     "text": [
      "Done.\n",
      "Done.\n",
      "Done.\n",
      "Done.\n"
     ]
    },
    {
     "data": {
      "text/plain": [
       "[]"
      ]
     },
     "execution_count": 3,
     "metadata": {},
     "output_type": "execute_result"
    }
   ],
   "source": [
    "%%sql\n",
    "sqlite:///CourseData.db\n",
    "DROP TABLE IF EXISTS Courses;\n",
    "DROP TABLE IF EXISTS CourseMeetings;\n",
    "DROP TABLE IF EXISTS CourseCatalogs;\n",
    "DROP TABLE IF EXISTS Teachers;"
   ]
  },
  {
   "cell_type": "code",
   "execution_count": 5,
   "metadata": {},
   "outputs": [
    {
     "name": "stdout",
     "output_type": "stream",
     "text": [
      " * sqlite:///CourseData.db\n",
      "Done.\n"
     ]
    },
    {
     "data": {
      "text/html": [
       "<table>\n",
       "    <tr>\n",
       "        <th>Count(*)</th>\n",
       "    </tr>\n",
       "    <tr>\n",
       "        <td>4441</td>\n",
       "    </tr>\n",
       "</table>"
      ],
      "text/plain": [
       "[(4441,)]"
      ]
     },
     "execution_count": 5,
     "metadata": {},
     "output_type": "execute_result"
    }
   ],
   "source": [
    "%%sql\n",
    "SELECT Count(*) FROM import_Course_Catalog;"
   ]
  },
  {
   "cell_type": "code",
   "execution_count": 6,
   "metadata": {},
   "outputs": [
    {
     "name": "stdout",
     "output_type": "stream",
     "text": [
      " * sqlite:///CourseData.db\n",
      "Done.\n"
     ]
    },
    {
     "data": {
      "text/plain": [
       "[]"
      ]
     },
     "execution_count": 6,
     "metadata": {},
     "output_type": "execute_result"
    }
   ],
   "source": [
    "%%sql\n",
    "CREATE TABLE COURSECATALOGS (\n",
    "    catalog_id TEXT PRIMARY KEY NOT NULL,\n",
    "    program_code TEXT,    \n",
    "    program_name TEXT,\n",
    "    course_title TEXT,\n",
    "    prereqs TEXT,    \n",
    "    coreqs TEXT,\n",
    "    fees TEXT,\n",
    "    attributes TEXT,    \n",
    "    description TEXT\n",
    ");"
   ]
  },
  {
   "cell_type": "code",
   "execution_count": 7,
   "metadata": {},
   "outputs": [
    {
     "name": "stdout",
     "output_type": "stream",
     "text": [
      " * sqlite:///CourseData.db\n",
      "Done.\n"
     ]
    },
    {
     "data": {
      "text/plain": [
       "[]"
      ]
     },
     "execution_count": 7,
     "metadata": {},
     "output_type": "execute_result"
    }
   ],
   "source": [
    "%%sql\n",
    "CREATE TABLE COURSES (\n",
    "                 CID INTEGER PRIMARY KEY NOT NULL,\n",
    "                 crn INTEGER,\n",
    "                 term TEXT,\n",
    "                 section TEXT,\n",
    "                 credits TEXT,\n",
    "                 title TEXT,\n",
    "                 meetings TEXT,\n",
    "                 timecodes TEXT,\n",
    "                 primary_instructor TEXT,\n",
    "                 cap TEXT,\n",
    "                 act TEXT,\n",
    "                 rem TEXT,\n",
    "                 catalog_id TEXT,\n",
    "                 FOREIGN KEY(catalog_id) REFERENCES COURSECATALOGS(catalog_id)\n",
    ");\n"
   ]
  },
  {
   "cell_type": "code",
   "execution_count": 8,
   "metadata": {},
   "outputs": [
    {
     "name": "stdout",
     "output_type": "stream",
     "text": [
      " * sqlite:///CourseData.db\n",
      "Done.\n"
     ]
    },
    {
     "data": {
      "text/plain": [
       "[]"
      ]
     },
     "execution_count": 8,
     "metadata": {},
     "output_type": "execute_result"
    }
   ],
   "source": [
    "%%sql\n",
    "CREATE TABLE TEACHERS (\n",
    " TID INTEGER PRIMARY KEY,\n",
    " primary_instructor TEXT NOT NULL,\n",
    " CID INTEGER,\n",
    " FOREIGN KEY (CID) REFERENCES COURSES(CID)\n",
    ");\n"
   ]
  },
  {
   "cell_type": "code",
   "execution_count": 9,
   "metadata": {},
   "outputs": [
    {
     "name": "stdout",
     "output_type": "stream",
     "text": [
      " * sqlite:///CourseData.db\n",
      "Done.\n"
     ]
    },
    {
     "data": {
      "text/plain": [
       "[]"
      ]
     },
     "execution_count": 9,
     "metadata": {},
     "output_type": "execute_result"
    }
   ],
   "source": [
    "%%sql\n",
    "CREATE TABLE COURSEMEETINGS (\n",
    "    CMID INTEGER PRIMARY KEY NOT NULL,\n",
    "    location TEXT NOT NULL,\t\n",
    "    day TEXT NOT NULL,\n",
    "    start TEXT NOT NULL,\n",
    "    end TEXT NOT NULL,\n",
    "    CID INTEGER,\n",
    "    TID INTEGER,\n",
    "    FOREIGN KEY (CID) REFERENCES COURSES(CID),\n",
    "    FOREIGN KEY (TID) REFERENCES TEACHERS(TID)\n",
    ");\n"
   ]
  },
  {
   "cell_type": "code",
   "execution_count": null,
   "metadata": {},
   "outputs": [],
   "source": []
  }
 ],
 "metadata": {
  "kernelspec": {
   "display_name": "Python 3",
   "language": "python",
   "name": "python3"
  },
  "language_info": {
   "codemirror_mode": {
    "name": "ipython",
    "version": 3
   },
   "file_extension": ".py",
   "mimetype": "text/x-python",
   "name": "python",
   "nbconvert_exporter": "python",
   "pygments_lexer": "ipython3",
   "version": "3.6.5"
  }
 },
 "nbformat": 4,
 "nbformat_minor": 2
}
