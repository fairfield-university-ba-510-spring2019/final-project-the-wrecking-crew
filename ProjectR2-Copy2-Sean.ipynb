{
 "cells": [
  {
   "cell_type": "markdown",
   "metadata": {},
   "source": [
    "# 1. Load SQLite and Database\n",
    "- 'CourseData.db'\n",
    "- note the 3 backslashes"
   ]
  },
  {
   "cell_type": "code",
   "execution_count": 1,
   "metadata": {},
   "outputs": [
    {
     "data": {
      "text/plain": [
       "'Connected: @CourseData.db'"
      ]
     },
     "execution_count": 1,
     "metadata": {},
     "output_type": "execute_result"
    }
   ],
   "source": [
    "%reload_ext sql\n",
    "%sql sqlite:///CourseData.db"
   ]
  },
  {
   "cell_type": "code",
   "execution_count": 2,
   "metadata": {},
   "outputs": [
    {
     "name": "stdout",
     "output_type": "stream",
     "text": [
      " * sqlite:///CourseData.db\n",
      "Done.\n"
     ]
    },
    {
     "data": {
      "text/plain": [
       "[]"
      ]
     },
     "execution_count": 2,
     "metadata": {},
     "output_type": "execute_result"
    }
   ],
   "source": [
    "%%sql\n",
    "DROP TABLE IF EXISTS CourseData;"
   ]
  },
  {
   "cell_type": "markdown",
   "metadata": {},
   "source": [
    "# safety precautions\n",
    "- drop tables to start from scratch"
   ]
  },
  {
   "cell_type": "code",
   "execution_count": 3,
   "metadata": {},
   "outputs": [
    {
     "name": "stdout",
     "output_type": "stream",
     "text": [
      "Done.\n",
      "Done.\n",
      "Done.\n",
      "Done.\n"
     ]
    },
    {
     "data": {
      "text/plain": [
       "[]"
      ]
     },
     "execution_count": 3,
     "metadata": {},
     "output_type": "execute_result"
    }
   ],
   "source": [
    "%%sql\n",
    "sqlite:///CourseData.db\n",
    "DROP TABLE IF EXISTS COURSECATALOGS;\n",
    "DROP TABLE IF EXISTS COURSES;\n",
    "DROP TABLE IF EXISTS TEACHERS;\n",
    "DROP TABLE IF EXISTS COURSEMEETINGS;"
   ]
  },
  {
   "cell_type": "markdown",
   "metadata": {},
   "source": [
    "# 2. Do COUNT statements for 3 .csv Files\n",
    "- ensure .csv name spelling is exact"
   ]
  },
  {
   "cell_type": "code",
   "execution_count": 4,
   "metadata": {},
   "outputs": [
    {
     "name": "stdout",
     "output_type": "stream",
     "text": [
      " * sqlite:///CourseData.db\n",
      "Done.\n"
     ]
    },
    {
     "data": {
      "text/html": [
       "<table>\n",
       "    <tr>\n",
       "        <th>Count(*)</th>\n",
       "    </tr>\n",
       "    <tr>\n",
       "        <td>317339</td>\n",
       "    </tr>\n",
       "</table>"
      ],
      "text/plain": [
       "[(317339,)]"
      ]
     },
     "execution_count": 4,
     "metadata": {},
     "output_type": "execute_result"
    }
   ],
   "source": [
    "%%sql\n",
    "SELECT Count(*) FROM import_course_meetings;"
   ]
  },
  {
   "cell_type": "code",
   "execution_count": 5,
   "metadata": {},
   "outputs": [
    {
     "name": "stdout",
     "output_type": "stream",
     "text": [
      " * sqlite:///CourseData.db\n",
      "Done.\n"
     ]
    },
    {
     "data": {
      "text/html": [
       "<table>\n",
       "    <tr>\n",
       "        <th>Count(*)</th>\n",
       "    </tr>\n",
       "    <tr>\n",
       "        <td>15955</td>\n",
       "    </tr>\n",
       "</table>"
      ],
      "text/plain": [
       "[(15955,)]"
      ]
     },
     "execution_count": 5,
     "metadata": {},
     "output_type": "execute_result"
    }
   ],
   "source": [
    "%%sql\n",
    "SELECT Count(*) FROM import_courses;"
   ]
  },
  {
   "cell_type": "code",
   "execution_count": 6,
   "metadata": {},
   "outputs": [
    {
     "name": "stdout",
     "output_type": "stream",
     "text": [
      " * sqlite:///CourseData.db\n",
      "Done.\n"
     ]
    },
    {
     "data": {
      "text/html": [
       "<table>\n",
       "    <tr>\n",
       "        <th>catalog_id</th>\n",
       "    </tr>\n",
       "    <tr>\n",
       "        <td>AN 0301</td>\n",
       "    </tr>\n",
       "</table>"
      ],
      "text/plain": [
       "[('AN 0301',)]"
      ]
     },
     "execution_count": 6,
     "metadata": {},
     "output_type": "execute_result"
    }
   ],
   "source": [
    "%%sql\n",
    "SELECT catalog_id FROM import_Course_Catalog limit 1;\n"
   ]
  },
  {
   "cell_type": "code",
   "execution_count": null,
   "metadata": {},
   "outputs": [],
   "source": []
  },
  {
   "cell_type": "code",
   "execution_count": 7,
   "metadata": {},
   "outputs": [
    {
     "name": "stdout",
     "output_type": "stream",
     "text": [
      " * sqlite:///CourseData.db\n",
      "Done.\n"
     ]
    },
    {
     "data": {
      "text/html": [
       "<table>\n",
       "    <tr>\n",
       "        <th>Count(*)</th>\n",
       "    </tr>\n",
       "    <tr>\n",
       "        <td>4441</td>\n",
       "    </tr>\n",
       "</table>"
      ],
      "text/plain": [
       "[(4441,)]"
      ]
     },
     "execution_count": 7,
     "metadata": {},
     "output_type": "execute_result"
    }
   ],
   "source": [
    "%%sql\n",
    "SELECT Count(*) FROM import_Course_Catalog;"
   ]
  },
  {
   "cell_type": "markdown",
   "metadata": {},
   "source": [
    "# 3. Create Tables\n",
    "- primary key is generated on every table by naming new surrogate key/field that isn't already in .csv files.\n",
    "- don't need NOT NULL for PK because it's implied in SQLite.\n"
   ]
  },
  {
   "cell_type": "code",
   "execution_count": 8,
   "metadata": {},
   "outputs": [
    {
     "name": "stdout",
     "output_type": "stream",
     "text": [
      " * sqlite:///CourseData.db\n",
      "Done.\n"
     ]
    },
    {
     "data": {
      "text/plain": [
       "[]"
      ]
     },
     "execution_count": 8,
     "metadata": {},
     "output_type": "execute_result"
    }
   ],
   "source": [
    "%%sql\n",
    "CREATE TABLE COURSECATALOGS (\n",
    "    CCID INTEGER PRIMARY KEY,\n",
    "    catalog_id TEXT,\n",
    "    program_code TEXT,    \n",
    "    program_name TEXT,\n",
    "    course_title TEXT,\n",
    "    prereqs TEXT,    \n",
    "    coreqs TEXT,\n",
    "    fees TEXT,\n",
    "    attributes TEXT,    \n",
    "    description TEXT\n",
    ");"
   ]
  },
  {
   "cell_type": "code",
   "execution_count": 9,
   "metadata": {},
   "outputs": [
    {
     "name": "stdout",
     "output_type": "stream",
     "text": [
      " * sqlite:///CourseData.db\n",
      "Done.\n"
     ]
    },
    {
     "data": {
      "text/plain": [
       "[]"
      ]
     },
     "execution_count": 9,
     "metadata": {},
     "output_type": "execute_result"
    }
   ],
   "source": [
    "%%sql\n",
    "CREATE TABLE TEACHERS (\n",
    " TID INTEGER PRIMARY KEY,\n",
    " primary_instructor TEXT NOT NULL\n",
    ");"
   ]
  },
  {
   "cell_type": "code",
   "execution_count": 10,
   "metadata": {},
   "outputs": [
    {
     "name": "stdout",
     "output_type": "stream",
     "text": [
      " * sqlite:///CourseData.db\n",
      "Done.\n"
     ]
    },
    {
     "data": {
      "text/plain": [
       "[]"
      ]
     },
     "execution_count": 10,
     "metadata": {},
     "output_type": "execute_result"
    }
   ],
   "source": [
    "%%sql\n",
    "CREATE TABLE COURSES (\n",
    "                 CID INTEGER PRIMARY KEY,\n",
    "                 catalog_id TEXT,\n",
    "                 crn INTEGER,\n",
    "                 term TEXT,\n",
    "                 section TEXT,\n",
    "                 credits TEXT,\n",
    "                 title TEXT,\n",
    "                 meetings TEXT,\n",
    "                 timecodes TEXT,\n",
    "                 primary_instructor TEXT,\n",
    "                 cap TEXT,\n",
    "                 act TEXT,\n",
    "                 rem TEXT,\n",
    "                 CCID INTEGER,\n",
    "                 TID INTEGER,\n",
    "                 CMID INTEGER,\n",
    "                 FOREIGN KEY(CCID) REFERENCES COURSECATALOGS(CCID)\n",
    "                 FOREIGN KEY (TID) REFERENCES COURSES(TID)\n",
    "                 FOREIGN KEY (CMID) REFERENCES COURSEMEETINGS(CMID)\n",
    ");\n"
   ]
  },
  {
   "cell_type": "code",
   "execution_count": 26,
   "metadata": {},
   "outputs": [
    {
     "name": "stdout",
     "output_type": "stream",
     "text": [
      " * sqlite:///CourseData.db\n",
      "Done.\n"
     ]
    },
    {
     "data": {
      "text/plain": [
       "[]"
      ]
     },
     "execution_count": 26,
     "metadata": {},
     "output_type": "execute_result"
    }
   ],
   "source": [
    "%%sql\n",
    "CREATE TABLE COURSEMEETINGS (\n",
    "    CMID INTEGER PRIMARY KEY,\n",
    "    term TEXT,\n",
    "    crn TEXT,\n",
    "    location TEXT NOT NULL,\t\n",
    "    day TEXT NOT NULL,\n",
    "    start TEXT NOT NULL,\n",
    "    end TEXT NOT NULL\n",
    ");"
   ]
  },
  {
   "cell_type": "markdown",
   "metadata": {},
   "source": [
    "# 4. Do INSERT Statements\n",
    "- do not include generated PKs\n",
    "- *reasoning* - PKs aren't included in the imported tables, so we can't insert them from there.\n",
    "- implied (since all PK/FKs are generated) that  PK/FKs are distinct."
   ]
  },
  {
   "cell_type": "code",
   "execution_count": 27,
   "metadata": {},
   "outputs": [
    {
     "name": "stdout",
     "output_type": "stream",
     "text": [
      " * sqlite:///CourseData.db\n",
      "2221 rows affected.\n"
     ]
    },
    {
     "data": {
      "text/plain": [
       "[]"
      ]
     },
     "execution_count": 27,
     "metadata": {},
     "output_type": "execute_result"
    }
   ],
   "source": [
    "%%sql\n",
    "INSERT INTO COURSECATALOGS (\n",
    "    catalog_id,\n",
    "    program_code,  \n",
    "    program_name,\n",
    "    course_title,\n",
    "    prereqs,    \n",
    "    coreqs,\n",
    "    fees,\n",
    "    attributes,    \n",
    "    description) \n",
    "SELECT DISTINCT \n",
    "    catalog_id,\n",
    "    program_code,  \n",
    "    program_name,\n",
    "    course_title,\n",
    "    prereqs,    \n",
    "    coreqs,\n",
    "    fees,\n",
    "    attributes,    \n",
    "    description\n",
    "    FROM import_Course_Catalog;"
   ]
  },
  {
   "cell_type": "code",
   "execution_count": 28,
   "metadata": {},
   "outputs": [
    {
     "name": "stdout",
     "output_type": "stream",
     "text": [
      " * sqlite:///CourseData.db\n",
      "Done.\n"
     ]
    },
    {
     "data": {
      "text/html": [
       "<table>\n",
       "    <tr>\n",
       "        <th>CCID</th>\n",
       "        <th>catalog_id</th>\n",
       "        <th>program_code</th>\n",
       "        <th>program_name</th>\n",
       "        <th>course_title</th>\n",
       "        <th>prereqs</th>\n",
       "        <th>coreqs</th>\n",
       "        <th>fees</th>\n",
       "        <th>attributes</th>\n",
       "        <th>description</th>\n",
       "    </tr>\n",
       "    <tr>\n",
       "        <td>1</td>\n",
       "        <td>AN 0301</td>\n",
       "        <td>AN</td>\n",
       "        <td>Asian Studies</td>\n",
       "        <td>Independent Study</td>\n",
       "        <td></td>\n",
       "        <td></td>\n",
       "        <td></td>\n",
       "        <td></td>\n",
       "        <td>Students undertake an individualized program of study in consultation with a director from the Asian studies faculty.</td>\n",
       "    </tr>\n",
       "    <tr>\n",
       "        <td>2</td>\n",
       "        <td>AN 0310</td>\n",
       "        <td>AN</td>\n",
       "        <td>Asian Studies</td>\n",
       "        <td>Asian Studies Seminar</td>\n",
       "        <td></td>\n",
       "        <td></td>\n",
       "        <td></td>\n",
       "        <td></td>\n",
       "        <td>This seminar examines selected topics concerning Asia. This course is taught in conjunction with another 100-300 level course from a rotation of course offerings. Consult the Asian Studies director to identify the conjoined course for a given semester. The seminar concentrates on topics within the parameters of the conjoined course syllabus but adds research emphasis. Students registered for this course must complete a research project, to include 300-level research, in addition to the regular research requirements of the conjoined course, and a 25-50 page term paper in substitution of some portion of the conjoined course requirements, as determined by the instructor. Open to juniors and seniors only.</td>\n",
       "    </tr>\n",
       "    <tr>\n",
       "        <td>3</td>\n",
       "        <td>BU 0211</td>\n",
       "        <td>BU</td>\n",
       "        <td>Business</td>\n",
       "        <td>Legal Environment of Business</td>\n",
       "        <td>Junior standing.</td>\n",
       "        <td></td>\n",
       "        <td></td>\n",
       "        <td></td>\n",
       "        <td>This course examines the broad philosophical as well as practical nature and function of the legal system, and introduces students to the legal and social responsibilities of business. The course includes an introduction to the legal system, the federal courts, Constitutional law, the United States Supreme Court, the civil process, and regulatory areas such as employment discrimination, protection of the environment, and corporate governance and securities markets.</td>\n",
       "    </tr>\n",
       "    <tr>\n",
       "        <td>4</td>\n",
       "        <td>BU 0220</td>\n",
       "        <td>BU</td>\n",
       "        <td>Business</td>\n",
       "        <td>Environmental Law and Policy</td>\n",
       "        <td></td>\n",
       "        <td></td>\n",
       "        <td></td>\n",
       "        <td>EVME Environmental Studies Major Elective, EVPE Environmental Studies Elective, EVSS Environmental Studies: Social Science, MGEL Management: General Elective</td>\n",
       "        <td>This course surveys issues arising out of federal laws designed to protect the environment and manage resources. It considers in detail the role of the Environmental Protection Agency in the enforcement of environmental policies arising out of such laws as the National Environmental Policy Act, the Clean Water Act, and the Clear Air Act, among others. The course also considers the impact of Congress, political parties, bureaucracy, and interest groups in shaping environmental policy, giving special attention to the impact of environmental regulation on business and private property rights.</td>\n",
       "    </tr>\n",
       "    <tr>\n",
       "        <td>5</td>\n",
       "        <td>BU 0311</td>\n",
       "        <td>BU</td>\n",
       "        <td>Business</td>\n",
       "        <td>The Law of Contracts, Sales, and Property</td>\n",
       "        <td>BU 0211.</td>\n",
       "        <td></td>\n",
       "        <td></td>\n",
       "        <td></td>\n",
       "        <td>This course examines the components of common law contracts including the concepts of offer and acceptance, consideration, capacity and legality, assignment of rights and delegation of duties, as well as discharge of contracts. The course covers Articles 2 and 2A of the Uniform Commercial Code relating to leases, sales of goods, and warranties. The course also considers personal and real property, and bailments.</td>\n",
       "    </tr>\n",
       "    <tr>\n",
       "        <td>6</td>\n",
       "        <td>BU 0312</td>\n",
       "        <td>BU</td>\n",
       "        <td>Business</td>\n",
       "        <td>The Law of Business Organizations and Financial Transactions</td>\n",
       "        <td>BU 0211.</td>\n",
       "        <td></td>\n",
       "        <td></td>\n",
       "        <td></td>\n",
       "        <td>This course offers an analysis of legal principles related to the law of agency, sole proprietorships, partnerships, corporations, limited liability companies, and other business forms. The second half of the course addresses several sections of the Uniform Commercial Code, such as negotiable instruments, bank collections and deposits and secured transactions. Finally, the course examines the law of suretyship, debtor-creditor relationships, and bankruptcy.</td>\n",
       "    </tr>\n",
       "    <tr>\n",
       "        <td>7</td>\n",
       "        <td>BU 0320</td>\n",
       "        <td>BU</td>\n",
       "        <td>Business</td>\n",
       "        <td>Employment Law and Discrimination in the Workplace</td>\n",
       "        <td></td>\n",
       "        <td></td>\n",
       "        <td></td>\n",
       "        <td>MGEL Management: General Elective, UDIV U.S. Diversity</td>\n",
       "        <td>This course examines a variety of legal issues related to the workplace including the doctrine of employment at will, employee privacy, and the history and development of labor unions and the legal protections afforded by the National Labor Relations Act. A study of the role of the Civil Rights Act of 1964 and the Equal Employment Opportunity Commission in eradicating discrimination based on race, sex, religion, national origin, age, and disability occupies a major portion of the course. Other employment issues include affirmative action, worker safety, and compensation.</td>\n",
       "    </tr>\n",
       "    <tr>\n",
       "        <td>8</td>\n",
       "        <td>BU 0391</td>\n",
       "        <td>BU</td>\n",
       "        <td>Business</td>\n",
       "        <td>Seminar in Business Law and Ethics</td>\n",
       "        <td>AE 0291, BU 0211, two additional courses in law or applied ethics.</td>\n",
       "        <td></td>\n",
       "        <td></td>\n",
       "        <td></td>\n",
       "        <td>This interdisciplinary study of these two aspects of the business environment is cross-listed as</td>\n",
       "    </tr>\n",
       "    <tr>\n",
       "        <td>9</td>\n",
       "        <td>BL 0101</td>\n",
       "        <td>BL</td>\n",
       "        <td>Black Studies</td>\n",
       "        <td>Black Lives Matter</td>\n",
       "        <td></td>\n",
       "        <td></td>\n",
       "        <td></td>\n",
       "        <td>ASGW American Studies: Gateway, BSFC Black Studies Focus Course, BSSS Black Studies: Social and Behavioral Sciences, PJST Peace and Justice Studies, UDIV U.S. Diversity</td>\n",
       "        <td>In the context of Ferguson, Charleston, and other national crises, this course responds to the call of students from our campus community to raise questions about and critically reflect upon the failures of democracy to recognize the value of Black Life. This course employs collective thinking, teaching, and research to focus on questions surrounding race, structural inequality, and violence. It examines the historical, geographical, cultural, social, and political ways in which race has been configured and deployed in the United States. Various faculty will bring to bear their respective scholarly lenses so that students understand race and racism across intellectual disciplines.</td>\n",
       "    </tr>\n",
       "    <tr>\n",
       "        <td>10</td>\n",
       "        <td>BL 0398</td>\n",
       "        <td>BL</td>\n",
       "        <td>Black Studies</td>\n",
       "        <td>Independent Study</td>\n",
       "        <td></td>\n",
       "        <td></td>\n",
       "        <td></td>\n",
       "        <td>BSCP Black Studies Capstone Course</td>\n",
       "        <td>Upon request and by agreement with a professor in the program, a Black Studies minor may conduct a one-semester independent study on a defined research topic or field of study.</td>\n",
       "    </tr>\n",
       "    <tr>\n",
       "        <td>11</td>\n",
       "        <td>BEN 0201</td>\n",
       "        <td>BEN</td>\n",
       "        <td>Bioengineering</td>\n",
       "        <td>Biomechanics</td>\n",
       "        <td>MA 0145, PS 0115.</td>\n",
       "        <td></td>\n",
       "        <td></td>\n",
       "        <td></td>\n",
       "        <td>This course covers solid mechanics of bone with a focus on stress, strain, stiffness, and strength. Joint forces and muscle attachments will be analyzed using free-body diagrams. Introductory musculoskeletal physiology will be covered and Biopac Student Lab software will be used for gait and muscle force analysis.</td>\n",
       "    </tr>\n",
       "    <tr>\n",
       "        <td>12</td>\n",
       "        <td>BEN 0300</td>\n",
       "        <td>BEN</td>\n",
       "        <td>Bioengineering</td>\n",
       "        <td>Biomedical Instrumentation</td>\n",
       "        <td>BI 0107 or BI 0170; EE 0213.</td>\n",
       "        <td></td>\n",
       "        <td></td>\n",
       "        <td>HSST Health Studies: Science and Technology</td>\n",
       "        <td>Instrumentation and techniques used in acquisition, processing, and presentation of biomedical signals: transducers, sensors, Fourier analysis, flow measurement, biosensors, amplifiers, bridge circuits, and measurement of physical parameters and electrophysiological signals.</td>\n",
       "    </tr>\n",
       "    <tr>\n",
       "        <td>13</td>\n",
       "        <td>BEN 0331</td>\n",
       "        <td>BEN</td>\n",
       "        <td>Bioengineering</td>\n",
       "        <td>Biomedical Signal Processing</td>\n",
       "        <td>CS 0131 or CS 0142 or SW 0407; MA 0146.</td>\n",
       "        <td></td>\n",
       "        <td></td>\n",
       "        <td>HSST Health Studies: Science and Technology</td>\n",
       "        <td>This course presents an overview of different methods used in biomedical signal processing. Signals with bioelectric origin are given special attention and their properties and clinical significance are reviewed. In many cases, the methods used for processing and analyzing biomedical signals are derived from a modeling perspective based on statistical signal descriptions. The purpose of the signal processing methods ranges from reduction of noise and artifacts to extraction of clinically significant features. The course gives each participant the opportunity to study the performance of a method on real, biomedical signals.</td>\n",
       "    </tr>\n",
       "    <tr>\n",
       "        <td>14</td>\n",
       "        <td>BEN 0332</td>\n",
       "        <td>BEN</td>\n",
       "        <td>Bioengineering</td>\n",
       "        <td>Biomedical Imaging</td>\n",
       "        <td>BEN 0331 or CR 0331.</td>\n",
       "        <td></td>\n",
       "        <td></td>\n",
       "        <td>HSST Health Studies: Science and Technology</td>\n",
       "        <td>This course presents the fundamentals and applications of common medical imaging techniques, for example: x-ray imaging and computed tomography, nuclear medicine, magnetic resonance imaging, ultrasound, and optical imaging. In addition, as a basis for biomedical imaging, introductory material on general image formation concepts and characteristics are presented, including human visual perception and psychophysics.</td>\n",
       "    </tr>\n",
       "    <tr>\n",
       "        <td>15</td>\n",
       "        <td>BEN 0333</td>\n",
       "        <td>BEN</td>\n",
       "        <td>Bioengineering</td>\n",
       "        <td>Biomedical Visualization</td>\n",
       "        <td>CS 0131.</td>\n",
       "        <td></td>\n",
       "        <td></td>\n",
       "        <td></td>\n",
       "        <td>This course is an introduction to 3-D biomedical visualization. Various technologies are introduced, including UltraSound, MRI, CAT scans, PET scans, etc. Students will learn about spatial data structures, computational geometry and solid modeling with applications in 3-D molecular and anatomical modeling.</td>\n",
       "    </tr>\n",
       "    <tr>\n",
       "        <td>16</td>\n",
       "        <td>BEN 0390</td>\n",
       "        <td>BEN</td>\n",
       "        <td>Bioengineering</td>\n",
       "        <td>Bioengineering Design Project I</td>\n",
       "        <td>Completion of all non-elective program courses; completion of other program requirements to enable graduation within the year of completion of BEN 0391.</td>\n",
       "        <td></td>\n",
       "        <td></td>\n",
       "        <td></td>\n",
       "        <td>In this capstone course, students work in teams on advanced projects that emphasize engineering design with due attention to design constraints and engineering standards. The overarching scope of this course is to transform engineering students to practicing engineers. Under the guidance of a faculty instructor and a mentor, each team conducts literature searches, write a technical proposal and its members develop skills in information analysis and synthesis; they model and test prototypes of their devices, and make frequent oral and poster presentations of their work to faculty and peers, and submit timely progress reports. In the process, they receive instruction in effective communication and presentation practices, and develop an appreciation of teamwork and collective success. This two-semester course begins in the fall of the academic year and concludes at the end of the spring term with a final team oral presentation and a final written report, and a working prototype of the team&#x27;s project.</td>\n",
       "    </tr>\n",
       "    <tr>\n",
       "        <td>17</td>\n",
       "        <td>BEN 0391</td>\n",
       "        <td>BEN</td>\n",
       "        <td>Bioengineering</td>\n",
       "        <td>Bioengineering Design Project II</td>\n",
       "        <td>EG 0390.</td>\n",
       "        <td></td>\n",
       "        <td></td>\n",
       "        <td></td>\n",
       "        <td>In this capstone course, students work in teams on advanced projects that emphasize engineering design with due attention to design constraints and engineering standards. The overarching scope of this course is to transform engineering students to practicing engineers. Under the guidance of a faculty instructor and a mentor, each team conducts literature searches, write a technical proposal and its members develop skills in information analysis and synthesis; they model and test prototypes of their devices, and make frequent oral and poster presentations of their work to faculty and peers, and submit timely progress reports. In the process, they receive instruction in effective communication and presentation practices, and develop an appreciation of teamwork and collective success. This two-semester course begins in the fall of the academic year and concludes at the end of the spring term with a final team oral presentation and a final written report, and a working prototype of the team&#x27;s project.</td>\n",
       "    </tr>\n",
       "    <tr>\n",
       "        <td>18</td>\n",
       "        <td>AR 0110</td>\n",
       "        <td>AR</td>\n",
       "        <td>Arabic</td>\n",
       "        <td>Elementary Modern Standard Arabic I</td>\n",
       "        <td></td>\n",
       "        <td></td>\n",
       "        <td></td>\n",
       "        <td></td>\n",
       "        <td>The first course, the first of a two-semester sequence, teaches the essentials of phonology, script, structure, and usage, allowing students to acquire the skills of listening, speaking, reading, and writing in the standard means of communicating in the Arab world. Teaching is proficiency-based, implying that all activities within the courses are aimed at placing student learners in the context of the native-speaking environment.</td>\n",
       "    </tr>\n",
       "    <tr>\n",
       "        <td>19</td>\n",
       "        <td>AR 0111</td>\n",
       "        <td>AR</td>\n",
       "        <td>Arabic</td>\n",
       "        <td>Elementary Modern Standard Arabic II</td>\n",
       "        <td>AR 0110.</td>\n",
       "        <td></td>\n",
       "        <td></td>\n",
       "        <td></td>\n",
       "        <td>A continuation of</td>\n",
       "    </tr>\n",
       "    <tr>\n",
       "        <td>20</td>\n",
       "        <td>AR 0210</td>\n",
       "        <td>AR</td>\n",
       "        <td>Arabic</td>\n",
       "        <td>Intermediate Modern Standard Arabic I</td>\n",
       "        <td>AR 0111.</td>\n",
       "        <td></td>\n",
       "        <td></td>\n",
       "        <td></td>\n",
       "        <td>This course, the first in a two-semester sequence, continues to build upon the skills acquired in the first-year course. Emphasis will be placed upon improving grammar, listening comprehension, and speaking and reading skills. Students will gain confidence in conversing with native speakers on a variety of topics, will be able to write more complex texts on everyday themes, and will acquire the skills to read uncomplicated authentic texts, such as newspaper articles on familiar topics.</td>\n",
       "    </tr>\n",
       "</table>"
      ],
      "text/plain": [
       "[(1, 'AN 0301', 'AN', 'Asian Studies', 'Independent Study', '', '', '', '', 'Students undertake an individualized program of study in consultation with a director from the Asian studies faculty.'),\n",
       " (2, 'AN 0310', 'AN', 'Asian Studies', 'Asian Studies Seminar', '', '', '', '', 'This seminar examines selected topics concerning Asia. This course is taught in conjunction with another 100-300 level course from a rotation of cour ... (412 characters truncated) ... e term paper in substitution of some portion of the conjoined course requirements, as determined by the instructor. Open to juniors and seniors only.'),\n",
       " (3, 'BU 0211', 'BU', 'Business', 'Legal Environment of Business', 'Junior standing.', '', '', '', 'This course examines the broad philosophical as well as practical nature and function of the legal system, and introduces students to the legal and s ... (171 characters truncated) ... ivil process, and regulatory areas such as employment discrimination, protection of the environment, and corporate governance and securities markets.'),\n",
       " (4, 'BU 0220', 'BU', 'Business', 'Environmental Law and Policy', '', '', '', 'EVME Environmental Studies Major Elective, EVPE Environmental Studies Elective, EVSS Environmental Studies: Social Science, MGEL Management: General Elective', 'This course surveys issues arising out of federal laws designed to protect the environment and manage resources. It considers in detail the role of t ... (298 characters truncated) ... t groups in shaping environmental policy, giving special attention to the impact of environmental regulation on business and private property rights.'),\n",
       " (5, 'BU 0311', 'BU', 'Business', 'The Law of Contracts, Sales, and Property', 'BU 0211.', '', '', '', 'This course examines the components of common law contracts including the concepts of offer and acceptance, consideration, capacity and legality, ass ... (117 characters truncated) ...  the Uniform Commercial Code relating to leases, sales of goods, and warranties. The course also considers personal and real property, and bailments.'),\n",
       " (6, 'BU 0312', 'BU', 'Business', 'The Law of Business Organizations and Financial Transactions', 'BU 0211.', '', '', '', 'This course offers an analysis of legal principles related to the law of agency, sole proprietorships, partnerships, corporations, limited liability  ... (163 characters truncated) ... collections and deposits and secured transactions. Finally, the course examines the law of suretyship, debtor-creditor relationships, and bankruptcy.'),\n",
       " (7, 'BU 0320', 'BU', 'Business', 'Employment Law and Discrimination in the Workplace', '', '', '', 'MGEL Management: General Elective, UDIV U.S. Diversity', 'This course examines a variety of legal issues related to the workplace including the doctrine of employment at will, employee privacy, and the histo ... (279 characters truncated) ... gin, age, and disability occupies a major portion of the course. Other employment issues include affirmative action, worker safety, and compensation.'),\n",
       " (8, 'BU 0391', 'BU', 'Business', 'Seminar in Business Law and Ethics', 'AE 0291, BU 0211, two additional courses in law or applied ethics.', '', '', '', 'This interdisciplinary study of these two aspects of the business environment is cross-listed as'),\n",
       " (9, 'BL 0101', 'BL', 'Black Studies', 'Black Lives Matter', '', '', '', 'ASGW American Studies: Gateway, BSFC Black Studies Focus Course, BSSS Black Studies: Social and Behavioral Sciences, PJST Peace and Justice Studies, UDIV U.S. Diversity', 'In the context of Ferguson, Charleston, and other national crises, this course responds to the call of students from our campus community to raise qu ... (391 characters truncated) ... es. Various faculty will bring to bear their respective scholarly lenses so that students understand race and racism across intellectual disciplines.'),\n",
       " (10, 'BL 0398', 'BL', 'Black Studies', 'Independent Study', '', '', '', 'BSCP Black Studies Capstone Course', 'Upon request and by agreement with a professor in the program, a Black Studies minor may conduct a one-semester independent study on a defined research topic or field of study.'),\n",
       " (11, 'BEN 0201', 'BEN', 'Bioengineering', 'Biomechanics', 'MA 0145, PS 0115.', '', '', '', 'This course covers solid mechanics of bone with a focus on stress, strain, stiffness, and strength. Joint forces and muscle attachments will be analy ... (17 characters truncated) ... dy diagrams. Introductory musculoskeletal physiology will be covered and Biopac Student Lab software will be used for gait and muscle force analysis.'),\n",
       " (12, 'BEN 0300', 'BEN', 'Bioengineering', 'Biomedical Instrumentation', 'BI 0107 or BI 0170; EE 0213.', '', '', 'HSST Health Studies: Science and Technology', 'Instrumentation and techniques used in acquisition, processing, and presentation of biomedical signals: transducers, sensors, Fourier analysis, flow measurement, biosensors, amplifiers, bridge circuits, and measurement of physical parameters and electrophysiological signals.'),\n",
       " (13, 'BEN 0331', 'BEN', 'Bioengineering', 'Biomedical Signal Processing', 'CS 0131 or CS 0142 or SW 0407; MA 0146.', '', '', 'HSST Health Studies: Science and Technology', 'This course presents an overview of different methods used in biomedical signal processing. Signals with bioelectric origin are given special attenti ... (332 characters truncated) ...  clinically significant features. The course gives each participant the opportunity to study the performance of a method on real, biomedical signals.'),\n",
       " (14, 'BEN 0332', 'BEN', 'Bioengineering', 'Biomedical Imaging', 'BEN 0331 or CR 0331.', '', '', 'HSST Health Studies: Science and Technology', 'This course presents the fundamentals and applications of common medical imaging techniques, for example: x-ray imaging and computed tomography, nucl ... (119 characters truncated) ... ng, introductory material on general image formation concepts and characteristics are presented, including human visual perception and psychophysics.'),\n",
       " (15, 'BEN 0333', 'BEN', 'Bioengineering', 'Biomedical Visualization', 'CS 0131.', '', '', '', 'This course is an introduction to 3-D biomedical visualization. Various technologies are introduced, including UltraSound, MRI, CAT scans, PET scans, ... (9 characters truncated) ... dents will learn about spatial data structures, computational geometry and solid modeling with applications in 3-D molecular and anatomical modeling.'),\n",
       " (16, 'BEN 0390', 'BEN', 'Bioengineering', 'Bioengineering Design Project I', 'Completion of all non-elective program courses; completion of other program requirements to enable graduation within the year of completion of BEN 0391.', '', '', '', \"In this capstone course, students work in teams on advanced projects that emphasize engineering design with due attention to design constraints and e ... (714 characters truncated) ... oncludes at the end of the spring term with a final team oral presentation and a final written report, and a working prototype of the team's project.\"),\n",
       " (17, 'BEN 0391', 'BEN', 'Bioengineering', 'Bioengineering Design Project II', 'EG 0390.', '', '', '', \"In this capstone course, students work in teams on advanced projects that emphasize engineering design with due attention to design constraints and e ... (714 characters truncated) ... oncludes at the end of the spring term with a final team oral presentation and a final written report, and a working prototype of the team's project.\"),\n",
       " (18, 'AR 0110', 'AR', 'Arabic', 'Elementary Modern Standard Arabic I', '', '', '', '', 'The first course, the first of a two-semester sequence, teaches the essentials of phonology, script, structure, and usage, allowing students to acqui ... (135 characters truncated) ... iency-based, implying that all activities within the courses are aimed at placing student learners in the context of the native-speaking environment.'),\n",
       " (19, 'AR 0111', 'AR', 'Arabic', 'Elementary Modern Standard Arabic II', 'AR 0110.', '', '', '', 'A continuation of'),\n",
       " (20, 'AR 0210', 'AR', 'Arabic', 'Intermediate Modern Standard Arabic I', 'AR 0111.', '', '', '', 'This course, the first in a two-semester sequence, continues to build upon the skills acquired in the first-year course. Emphasis will be placed upon ... (192 characters truncated) ... e complex texts on everyday themes, and will acquire the skills to read uncomplicated authentic texts, such as newspaper articles on familiar topics.')]"
      ]
     },
     "execution_count": 28,
     "metadata": {},
     "output_type": "execute_result"
    }
   ],
   "source": [
    "%%sql\n",
    "SELECT * FROM COURSECATALOGS\n",
    "limit 20;"
   ]
  },
  {
   "cell_type": "code",
   "execution_count": 29,
   "metadata": {},
   "outputs": [
    {
     "name": "stdout",
     "output_type": "stream",
     "text": [
      " * sqlite:///CourseData.db\n",
      "1105 rows affected.\n"
     ]
    },
    {
     "data": {
      "text/plain": [
       "[]"
      ]
     },
     "execution_count": 29,
     "metadata": {},
     "output_type": "execute_result"
    }
   ],
   "source": [
    "%%sql\n",
    "INSERT INTO TEACHERS (\n",
    "    primary_instructor\n",
    ")\n",
    "SELECT DISTINCT\n",
    "    primary_instructor\n",
    "    FROM import_courses\n",
    "    ;"
   ]
  },
  {
   "cell_type": "code",
   "execution_count": 15,
   "metadata": {},
   "outputs": [
    {
     "name": "stdout",
     "output_type": "stream",
     "text": [
      " * sqlite:///CourseData.db\n",
      "Done.\n"
     ]
    },
    {
     "data": {
      "text/html": [
       "<table>\n",
       "    <tr>\n",
       "        <th>TID</th>\n",
       "        <th>primary_instructor</th>\n",
       "    </tr>\n",
       "    <tr>\n",
       "        <td>1</td>\n",
       "        <td>Michael P.  Coyne</td>\n",
       "    </tr>\n",
       "    <tr>\n",
       "        <td>2</td>\n",
       "        <td>Rebecca I.  Bloch</td>\n",
       "    </tr>\n",
       "    <tr>\n",
       "        <td>3</td>\n",
       "        <td>Paul   Caster</td>\n",
       "    </tr>\n",
       "    <tr>\n",
       "        <td>4</td>\n",
       "        <td>Jo Ann   Drusbosky</td>\n",
       "    </tr>\n",
       "    <tr>\n",
       "        <td>5</td>\n",
       "        <td>Arleen N.  Kardos</td>\n",
       "    </tr>\n",
       "</table>"
      ],
      "text/plain": [
       "[(1, 'Michael P.  Coyne'),\n",
       " (2, 'Rebecca I.  Bloch'),\n",
       " (3, 'Paul   Caster'),\n",
       " (4, 'Jo Ann   Drusbosky'),\n",
       " (5, 'Arleen N.  Kardos')]"
      ]
     },
     "execution_count": 15,
     "metadata": {},
     "output_type": "execute_result"
    }
   ],
   "source": [
    "%%sql\n",
    "SELECT * FROM TEACHERS\n",
    "limit 5;"
   ]
  },
  {
   "cell_type": "code",
   "execution_count": 30,
   "metadata": {},
   "outputs": [
    {
     "name": "stdout",
     "output_type": "stream",
     "text": [
      " * sqlite:///CourseData.db\n",
      "311142 rows affected.\n"
     ]
    },
    {
     "data": {
      "text/plain": [
       "[]"
      ]
     },
     "execution_count": 30,
     "metadata": {},
     "output_type": "execute_result"
    }
   ],
   "source": [
    "%%sql \n",
    "INSERT INTO COURSEMEETINGS (\n",
    "    term,\n",
    "    crn,\n",
    "    location,\t\n",
    "    day,\n",
    "    start,\n",
    "    end)\n",
    " SELECT DISTINCT\n",
    "    crn,\n",
    "    term,\n",
    "    location,\t\n",
    "    day,\n",
    "    start,\n",
    "    end\n",
    "    FROM import_course_meetings\n",
    "    ;"
   ]
  },
  {
   "cell_type": "code",
   "execution_count": 42,
   "metadata": {},
   "outputs": [
    {
     "name": "stdout",
     "output_type": "stream",
     "text": [
      " * sqlite:///CourseData.db\n",
      "0 rows affected.\n"
     ]
    },
    {
     "data": {
      "text/plain": [
       "[]"
      ]
     },
     "execution_count": 42,
     "metadata": {},
     "output_type": "execute_result"
    }
   ],
   "source": [
    "%%sql\n",
    "INSERT INTO COURSES (\n",
    "                 TID, \n",
    "                 CCID,\n",
    "                 CMID,\n",
    "                 primary_instructor,\n",
    "                 catalog_id,\n",
    "                 crn,\n",
    "                 term,\n",
    "                 section,\n",
    "                 credits,\n",
    "                 title,\n",
    "                 meetings,\n",
    "                 timecodes,\n",
    "                 cap,\n",
    "                 act,\n",
    "                 rem\n",
    ")\n",
    " SELECT DISTINCT\n",
    "                TEACHERS.TID,\n",
    "                COURSECATALOGS.CCID,\n",
    "                COURSEMEETINGS.CMID,\n",
    "                import_courses.primary_instructor,\n",
    "                import_courses.catalog_id,\n",
    "                import_courses.crn,\n",
    "                import_courses.term,\n",
    "                section,\n",
    "                credits,\n",
    "                 title,\n",
    "                meetings,\n",
    "                 timecodes,\n",
    "                cap,\n",
    "                act,\n",
    "                 rem\n",
    "                FROM import_courses\n",
    "                JOIN TEACHERS ON TEACHERS.primary_instructor = import_courses.primary_instructor\n",
    "                JOIN COURSECATALOGS ON COURSECATALOGS.catalog_id  = import_courses.catalog_id\n",
    "                JOIN COURSEMEETINGS ON COURSEMEETINGS.crn = import_courses.crn\n",
    "                ;\n"
   ]
  },
  {
   "cell_type": "code",
   "execution_count": 40,
   "metadata": {},
   "outputs": [
    {
     "name": "stdout",
     "output_type": "stream",
     "text": [
      " * sqlite:///CourseData.db\n",
      "Done.\n"
     ]
    },
    {
     "data": {
      "text/html": [
       "<table>\n",
       "    <tr>\n",
       "        <th>CID</th>\n",
       "        <th>catalog_id</th>\n",
       "        <th>crn</th>\n",
       "        <th>term</th>\n",
       "        <th>section</th>\n",
       "        <th>credits</th>\n",
       "        <th>title</th>\n",
       "        <th>meetings</th>\n",
       "        <th>timecodes</th>\n",
       "        <th>primary_instructor</th>\n",
       "        <th>cap</th>\n",
       "        <th>act</th>\n",
       "        <th>rem</th>\n",
       "        <th>CCID</th>\n",
       "        <th>TID</th>\n",
       "        <th>CMID</th>\n",
       "    </tr>\n",
       "</table>"
      ],
      "text/plain": [
       "[]"
      ]
     },
     "execution_count": 40,
     "metadata": {},
     "output_type": "execute_result"
    }
   ],
   "source": [
    "%%sql\n",
    "SELECT * FROM COURSES\n",
    "limit 5;"
   ]
  },
  {
   "cell_type": "code",
   "execution_count": 19,
   "metadata": {},
   "outputs": [
    {
     "name": "stdout",
     "output_type": "stream",
     "text": [
      " * sqlite:///CourseData.db\n",
      "Done.\n"
     ]
    },
    {
     "data": {
      "text/html": [
       "<table>\n",
       "    <tr>\n",
       "        <th>TID</th>\n",
       "    </tr>\n",
       "    <tr>\n",
       "        <td>1</td>\n",
       "    </tr>\n",
       "    <tr>\n",
       "        <td>2</td>\n",
       "    </tr>\n",
       "    <tr>\n",
       "        <td>3</td>\n",
       "    </tr>\n",
       "    <tr>\n",
       "        <td>4</td>\n",
       "    </tr>\n",
       "    <tr>\n",
       "        <td>5</td>\n",
       "    </tr>\n",
       "</table>"
      ],
      "text/plain": [
       "[(1,), (2,), (3,), (4,), (5,)]"
      ]
     },
     "execution_count": 19,
     "metadata": {},
     "output_type": "execute_result"
    }
   ],
   "source": [
    "%%sql\n",
    "SELECT TID FROM TEACHERS\n",
    "limit 5;"
   ]
  },
  {
   "cell_type": "markdown",
   "metadata": {},
   "source": [
    "# 5. Run SELECT Queries"
   ]
  },
  {
   "cell_type": "code",
   "execution_count": 20,
   "metadata": {},
   "outputs": [
    {
     "data": {
      "text/plain": [
       "'Connected: @CourseData.db'"
      ]
     },
     "execution_count": 20,
     "metadata": {},
     "output_type": "execute_result"
    }
   ],
   "source": [
    "%reload_ext sql\n",
    "%sql sqlite:///CourseData.db"
   ]
  },
  {
   "cell_type": "markdown",
   "metadata": {},
   "source": [
    "## SELECT Query for all unique classrooms \n",
    "- only included those with a character lenght of 7 (some had 2, 8, etc.)\n",
    "- can't figure out how to get a distinct location when including additinonal fields."
   ]
  },
  {
   "cell_type": "code",
   "execution_count": 21,
   "metadata": {},
   "outputs": [
    {
     "name": "stdout",
     "output_type": "stream",
     "text": [
      " * sqlite:///CourseData.db\n",
      "(sqlite3.OperationalError) no such table: COURSEMEETINGS [SQL: 'SELECT DISTINCT \\nlocation\\nFROM COURSEMEETINGS\\nWHERE LENGTH(location) = 7\\nORDER BY location\\nLIMIT 20\\n;'] (Background on this error at: http://sqlalche.me/e/e3q8)\n"
     ]
    }
   ],
   "source": [
    "%%sql\n",
    "SELECT DISTINCT \n",
    "location\n",
    "FROM COURSEMEETINGS\n",
    "WHERE LENGTH(location) = 7\n",
    "ORDER BY location\n",
    "LIMIT 20\n",
    ";"
   ]
  },
  {
   "cell_type": "markdown",
   "metadata": {},
   "source": [
    "## SELECT Query displaying all courses in MSBA Program '18-'19\n",
    "- still have to get rid of blank by making defining description as NOT NULL.\n",
    "- is there an easier way?"
   ]
  },
  {
   "cell_type": "code",
   "execution_count": 22,
   "metadata": {},
   "outputs": [
    {
     "name": "stdout",
     "output_type": "stream",
     "text": [
      " * sqlite:///CourseData.db\n",
      "Done.\n"
     ]
    },
    {
     "data": {
      "text/html": [
       "<table>\n",
       "    <tr>\n",
       "        <th>Course</th>\n",
       "        <th>Program</th>\n",
       "        <th>Code</th>\n",
       "        <th>Description</th>\n",
       "    </tr>\n",
       "    <tr>\n",
       "        <td>Information Systems and Database Management</td>\n",
       "        <td>Information Systems</td>\n",
       "        <td>IS 0500</td>\n",
       "        <td>This course introduces the basic concepts and tools relevant to information systems and database management, and their enabling roles in business strategies and operations. Case studies are used to facilitate discussions of practical applications and issues involving strategic alignments of organizations, resource allocation, integration, planning, and analysis of cost, benefit and performance in light of the big data challenges. Specific emphases involve database design and implementation and emerging strategies and technologies such as business intelligence, big data management, web security, and online business analytics.</td>\n",
       "    </tr>\n",
       "    <tr>\n",
       "        <td>International Information Systems</td>\n",
       "        <td>Information Systems</td>\n",
       "        <td>IS 0501</td>\n",
       "        <td>This course examines information technology environments around the world, and attendant challenges to business strategy and information systems design. The course identifies geographic and institutional variables that create borders in the global Internet economy: material infrastructures, socio-economic elements, and political-legal systems. The course emphasizes national and regional strategies, emergent technologies, hybrid systems, and equity issues.</td>\n",
       "    </tr>\n",
       "    <tr>\n",
       "        <td>Python for Business Analytics</td>\n",
       "        <td>Information Systems</td>\n",
       "        <td>IS 0505</td>\n",
       "        <td>In this course, we introduce Python as a language and tool for collecting, preprocessing, and visualizing data for business analytics. since Python is one of the most popular programming languages, along with R, in data mining and business analytics, its fundamental programming logic and knowledge is essential for students to apply in data mining and to succeed in the job market. Specifically, this course focuses on the data-engineering phase, which includes collecting, preprocessing, and visualizing data, with respect to applications in business modeling, optimization, and statistical analysis. In addition, a number of mini projects will be used as vehicles to cover the main applications of data analytics, including recommender systems, text analytics, and web analytics.</td>\n",
       "    </tr>\n",
       "    <tr>\n",
       "        <td>Databases for Business Analytics</td>\n",
       "        <td>Information Systems</td>\n",
       "        <td>IS 0510</td>\n",
       "        <td>This course introduces databases and data management in three parts. The first part covers basic database fundamentals. The second part is a hands-on introduction to Structured Query Language (SQL) for defining, manipulating, accessing, and managing data, accompanied by the basics of data modeling and normalization needed to ensure data integrity. The course concludes with a comprehensive database project that gives each student the opportunity to integrate and apply the new knowledge and skills learned from this class. Advanced topics such as distributed database systems, data services, and NoSQL databases are also discussed.</td>\n",
       "    </tr>\n",
       "    <tr>\n",
       "        <td>Project Management</td>\n",
       "        <td>Information Systems</td>\n",
       "        <td>IS 0520</td>\n",
       "        <td>This course explores the process and practice of project management. Topics to be covered include project lifecycle and organizations, teambuilding and productivity, task scheduling and resource allocation, and progress tracking and control. Cases will be used to consider the implications for change management, consulting, IT implementation, and other related disciplines. Small team projects and experiential exercises will also be used to provide an active learning environment. This course is designed to count toward professional project management certification.</td>\n",
       "    </tr>\n",
       "    <tr>\n",
       "        <td>Data Mining and Business Intelligence</td>\n",
       "        <td>Information Systems</td>\n",
       "        <td>IS 0540</td>\n",
       "        <td>This course will change the way you think about data and its role in business. Businesses, governments, and individuals create massive collections of data as a byproduct of their activity. Increasingly, managers rely on intelligent technology to systematically analyze data to improve their decision-making. In many cases, automating analytical and decision-making processes is necessary because of the large volume of data and the speed with which new data are generated. In this course, we will examine how data analysis technologies can be used to improve managerial decision making. We will study the fundamental principles and techniques of data mining through real-world examples and cases to place data mining techniques in context, to develop data-analytic thinking, and to illustrate that proper application of these techniques is as much an art as it is a science. In addition, we will work &quot;hands-on&quot; with contemporary data mining software.</td>\n",
       "    </tr>\n",
       "    <tr>\n",
       "        <td>Business Analytics and Big Data Management</td>\n",
       "        <td>Information Systems</td>\n",
       "        <td>IS 0550</td>\n",
       "        <td>This course will survey state-of-the-art topics in Big Data, looking at data collection (via smartphones, sensors, the Web), data storage and processing (scalable relational databases, Hadoop, Spark, etc.), extracting structured data from unstructured databases, systems issues (exploiting multicore, security), analytics (machine learning, data compression, efficient algorithms), data visualization, and a range of applications. Each of these five modules will introduce broad concepts as well as provide the most recent developments in the area.</td>\n",
       "    </tr>\n",
       "    <tr>\n",
       "        <td>Contemporary Topics in Information Systems and Operations Management</td>\n",
       "        <td>Information Systems</td>\n",
       "        <td>IS 0585</td>\n",
       "        <td>This course draws from current literature and practice on information systems and/or operations management. The topics change from semester to semester, depending on student and faculty interest and may include: project management, e-business, management science with spreadsheets, e-procurement, executive information systems, ethics, and other socio-economic factors in the use of information technology.</td>\n",
       "    </tr>\n",
       "    <tr>\n",
       "        <td>Contemporary Topics: Advanced Data Mining Applications</td>\n",
       "        <td>Information Systems</td>\n",
       "        <td>IS 0585B</td>\n",
       "        <td></td>\n",
       "    </tr>\n",
       "    <tr>\n",
       "        <td>Independent Study in Information Systems and Operations Management</td>\n",
       "        <td>Information Systems</td>\n",
       "        <td>IS 0598</td>\n",
       "        <td>This course provides an opportunity for students to complete a project or perform research under the direction of an Information Systems and Operations Management (ISOM) faculty member who has expertise in the topic being investigated. Students are expected to complete a significant project or research paper as the primary requirement of this course. Enrollment by permission of the ISOM Department Chair only.</td>\n",
       "    </tr>\n",
       "</table>"
      ],
      "text/plain": [
       "[('Information Systems and Database Management', 'Information Systems', 'IS 0500', 'This course introduces the basic concepts and tools relevant to information systems and database management, and their enabling roles in business str ... (334 characters truncated) ... lementation and emerging strategies and technologies such as business intelligence, big data management, web security, and online business analytics.'),\n",
       " ('International Information Systems', 'Information Systems', 'IS 0501', 'This course examines information technology environments around the world, and attendant challenges to business strategy and information systems desi ... (161 characters truncated) ... ments, and political-legal systems. The course emphasizes national and regional strategies, emergent technologies, hybrid systems, and equity issues.'),\n",
       " ('Python for Business Analytics', 'Information Systems', 'IS 0505', 'In this course, we introduce Python as a language and tool for collecting, preprocessing, and visualizing data for business analytics. since Python i ... (484 characters truncated) ... projects will be used as vehicles to cover the main applications of data analytics, including recommender systems, text analytics, and web analytics.'),\n",
       " ('Databases for Business Analytics', 'Information Systems', 'IS 0510', 'This course introduces databases and data management in three parts. The first part covers basic database fundamentals. The second part is a hands-on ... (336 characters truncated) ... edge and skills learned from this class. Advanced topics such as distributed database systems, data services, and NoSQL databases are also discussed.'),\n",
       " ('Project Management', 'Information Systems', 'IS 0520', 'This course explores the process and practice of project management. Topics to be covered include project lifecycle and organizations, teambuilding a ... (271 characters truncated) ... s will also be used to provide an active learning environment. This course is designed to count toward professional project management certification.'),\n",
       " ('Data Mining and Business Intelligence', 'Information Systems', 'IS 0540', 'This course will change the way you think about data and its role in business. Businesses, governments, and individuals create massive collections of ... (653 characters truncated) ... er application of these techniques is as much an art as it is a science. In addition, we will work \"hands-on\" with contemporary data mining software.'),\n",
       " ('Business Analytics and Big Data Management', 'Information Systems', 'IS 0550', 'This course will survey state-of-the-art topics in Big Data, looking at data collection (via smartphones, sensors, the Web), data storage and process ... (250 characters truncated) ... n, and a range of applications. Each of these five modules will introduce broad concepts as well as provide the most recent developments in the area.'),\n",
       " ('Contemporary Topics in Information Systems and Operations Management', 'Information Systems', 'IS 0585', 'This course draws from current literature and practice on information systems and/or operations management. The topics change from semester to semest ... (108 characters truncated) ... ience with spreadsheets, e-procurement, executive information systems, ethics, and other socio-economic factors in the use of information technology.'),\n",
       " ('Contemporary Topics: Advanced Data Mining Applications', 'Information Systems', 'IS 0585B', ''),\n",
       " ('Independent Study in Information Systems and Operations Management', 'Information Systems', 'IS 0598', 'This course provides an opportunity for students to complete a project or perform research under the direction of an Information Systems and Operatio ... (114 characters truncated) ... mplete a significant project or research paper as the primary requirement of this course. Enrollment by permission of the ISOM Department Chair only.')]"
      ]
     },
     "execution_count": 22,
     "metadata": {},
     "output_type": "execute_result"
    }
   ],
   "source": [
    "%%sql\n",
    "SELECT course_title AS Course, program_name AS Program, catalog_id AS Code, description AS Description\n",
    "FROM COURSECATALOGS\n",
    "WHERE program_name = 'Information Systems'\n",
    "AND\n",
    "Code LIKE \"IS 05%\"\n",
    "ORDER BY program_name\n",
    "LIMIT 50;"
   ]
  },
  {
   "cell_type": "markdown",
   "metadata": {},
   "source": [
    "# JOIN Testing"
   ]
  },
  {
   "cell_type": "code",
   "execution_count": 23,
   "metadata": {},
   "outputs": [
    {
     "name": "stdout",
     "output_type": "stream",
     "text": [
      " * sqlite:///CourseData.db\n",
      "Done.\n"
     ]
    },
    {
     "data": {
      "text/html": [
       "<table>\n",
       "    <tr>\n",
       "        <th>CID</th>\n",
       "        <th>catalog_id</th>\n",
       "        <th>crn</th>\n",
       "        <th>term</th>\n",
       "        <th>section</th>\n",
       "        <th>credits</th>\n",
       "        <th>title</th>\n",
       "        <th>meetings</th>\n",
       "        <th>timecodes</th>\n",
       "        <th>primary_instructor</th>\n",
       "        <th>cap</th>\n",
       "        <th>act</th>\n",
       "        <th>rem</th>\n",
       "        <th>CCID</th>\n",
       "        <th>TID</th>\n",
       "        <th>CMID</th>\n",
       "    </tr>\n",
       "</table>"
      ],
      "text/plain": [
       "[]"
      ]
     },
     "execution_count": 23,
     "metadata": {},
     "output_type": "execute_result"
    }
   ],
   "source": [
    "%%sql\n",
    "SELECT *\n",
    "FROM COURSES\n",
    "LIMIT 10;"
   ]
  },
  {
   "cell_type": "code",
   "execution_count": 24,
   "metadata": {},
   "outputs": [
    {
     "name": "stdout",
     "output_type": "stream",
     "text": [
      " * sqlite:///CourseData.db\n",
      "(sqlite3.OperationalError) no such column: t.TI [SQL: 'SELECT t.primary_instructor, c.catalog_id\\nFROM COURSES as c\\nJOIN TEACHERS as t ON c.TID = t.TI;'] (Background on this error at: http://sqlalche.me/e/e3q8)\n"
     ]
    }
   ],
   "source": [
    "%%sql\n",
    "SELECT t.primary_instructor, c.catalog_id\n",
    "FROM COURSES as c\n",
    "JOIN TEACHERS as t ON c.TID = t.TI;"
   ]
  },
  {
   "cell_type": "code",
   "execution_count": 25,
   "metadata": {},
   "outputs": [
    {
     "name": "stdout",
     "output_type": "stream",
     "text": [
      " * sqlite:///CourseData.db\n",
      "Done.\n"
     ]
    },
    {
     "data": {
      "text/html": [
       "<table>\n",
       "    <tr>\n",
       "        <th>TID</th>\n",
       "        <th>primary_instructor</th>\n",
       "    </tr>\n",
       "    <tr>\n",
       "        <td>1</td>\n",
       "        <td>Michael P.  Coyne</td>\n",
       "    </tr>\n",
       "    <tr>\n",
       "        <td>2</td>\n",
       "        <td>Rebecca I.  Bloch</td>\n",
       "    </tr>\n",
       "    <tr>\n",
       "        <td>3</td>\n",
       "        <td>Paul   Caster</td>\n",
       "    </tr>\n",
       "    <tr>\n",
       "        <td>4</td>\n",
       "        <td>Jo Ann   Drusbosky</td>\n",
       "    </tr>\n",
       "    <tr>\n",
       "        <td>5</td>\n",
       "        <td>Arleen N.  Kardos</td>\n",
       "    </tr>\n",
       "    <tr>\n",
       "        <td>6</td>\n",
       "        <td>Scott M  Brenner</td>\n",
       "    </tr>\n",
       "    <tr>\n",
       "        <td>7</td>\n",
       "        <td>Kevin C.  Cassidy</td>\n",
       "    </tr>\n",
       "    <tr>\n",
       "        <td>8</td>\n",
       "        <td>Bruce   Bradford</td>\n",
       "    </tr>\n",
       "    <tr>\n",
       "        <td>9</td>\n",
       "        <td>Milo W.  Peck</td>\n",
       "    </tr>\n",
       "    <tr>\n",
       "        <td>10</td>\n",
       "        <td>Stephen E.  Yost</td>\n",
       "    </tr>\n",
       "</table>"
      ],
      "text/plain": [
       "[(1, 'Michael P.  Coyne'),\n",
       " (2, 'Rebecca I.  Bloch'),\n",
       " (3, 'Paul   Caster'),\n",
       " (4, 'Jo Ann   Drusbosky'),\n",
       " (5, 'Arleen N.  Kardos'),\n",
       " (6, 'Scott M  Brenner'),\n",
       " (7, 'Kevin C.  Cassidy'),\n",
       " (8, 'Bruce   Bradford'),\n",
       " (9, 'Milo W.  Peck'),\n",
       " (10, 'Stephen E.  Yost')]"
      ]
     },
     "execution_count": 25,
     "metadata": {},
     "output_type": "execute_result"
    }
   ],
   "source": [
    "%%sql\n",
    "SELECT TID, primary_instructor FROM TEACHERS\n",
    "limit 10;\n"
   ]
  },
  {
   "cell_type": "markdown",
   "metadata": {},
   "source": [
    "Have to finish insterting COURSES column"
   ]
  },
  {
   "cell_type": "code",
   "execution_count": 43,
   "metadata": {},
   "outputs": [
    {
     "name": "stdout",
     "output_type": "stream",
     "text": [
      " * sqlite:///CourseData.db\n",
      "Done.\n"
     ]
    },
    {
     "data": {
      "text/plain": [
       "[]"
      ]
     },
     "execution_count": 43,
     "metadata": {},
     "output_type": "execute_result"
    }
   ],
   "source": [
    "%%sql\n",
    "VACUUM;"
   ]
  },
  {
   "cell_type": "code",
   "execution_count": null,
   "metadata": {},
   "outputs": [],
   "source": []
  }
 ],
 "metadata": {
  "kernelspec": {
   "display_name": "Python 3",
   "language": "python",
   "name": "python3"
  },
  "language_info": {
   "codemirror_mode": {
    "name": "ipython",
    "version": 3
   },
   "file_extension": ".py",
   "mimetype": "text/x-python",
   "name": "python",
   "nbconvert_exporter": "python",
   "pygments_lexer": "ipython3",
   "version": "3.6.5"
  }
 },
 "nbformat": 4,
 "nbformat_minor": 2
}
