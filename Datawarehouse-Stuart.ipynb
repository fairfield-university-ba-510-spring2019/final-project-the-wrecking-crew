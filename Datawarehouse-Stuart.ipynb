{
 "cells": [
  {
   "cell_type": "markdown",
   "metadata": {},
   "source": [
    "# 1. Load SQLite and Database\n",
    "- 'CourseData.db'\n",
    "- note the 3 backslashes"
   ]
  },
  {
   "cell_type": "code",
   "execution_count": 1,
   "metadata": {},
   "outputs": [
    {
     "data": {
      "text/plain": [
       "'Connected: @CourseData.db'"
      ]
     },
     "execution_count": 1,
     "metadata": {},
     "output_type": "execute_result"
    }
   ],
   "source": [
    "%reload_ext sql\n",
    "%sql sqlite:///CourseData.db"
   ]
  },
  {
   "cell_type": "code",
   "execution_count": 2,
   "metadata": {},
   "outputs": [
    {
     "name": "stdout",
     "output_type": "stream",
     "text": [
      " * sqlite:///CourseData.db\n",
      "Done.\n"
     ]
    },
    {
     "data": {
      "text/plain": [
       "[]"
      ]
     },
     "execution_count": 2,
     "metadata": {},
     "output_type": "execute_result"
    }
   ],
   "source": [
    "%%sql\n",
    "DROP TABLE IF EXISTS CourseData;"
   ]
  },
  {
   "cell_type": "markdown",
   "metadata": {},
   "source": [
    "## DROP Tables "
   ]
  },
  {
   "cell_type": "code",
   "execution_count": 3,
   "metadata": {},
   "outputs": [
    {
     "name": "stdout",
     "output_type": "stream",
     "text": [
      "Done.\n",
      "Done.\n",
      "Done.\n",
      "Done.\n"
     ]
    },
    {
     "data": {
      "text/plain": [
       "[]"
      ]
     },
     "execution_count": 3,
     "metadata": {},
     "output_type": "execute_result"
    }
   ],
   "source": [
    "%%sql\n",
    "sqlite:///CourseData.db\n",
    "DROP TABLE IF EXISTS COURSECATALOGS;\n",
    "DROP TABLE IF EXISTS COURSES;\n",
    "DROP TABLE IF EXISTS TEACHERS;\n",
    "DROP TABLE IF EXISTS COURSEMEETINGS;"
   ]
  },
  {
   "cell_type": "markdown",
   "metadata": {},
   "source": [
    "# 2. Find COUNT of each .csv file"
   ]
  },
  {
   "cell_type": "code",
   "execution_count": 4,
   "metadata": {},
   "outputs": [
    {
     "name": "stdout",
     "output_type": "stream",
     "text": [
      " * sqlite:///CourseData.db\n",
      "Done.\n"
     ]
    },
    {
     "data": {
      "text/html": [
       "<table>\n",
       "    <tr>\n",
       "        <th>Count(*)</th>\n",
       "    </tr>\n",
       "    <tr>\n",
       "        <td>317339</td>\n",
       "    </tr>\n",
       "</table>"
      ],
      "text/plain": [
       "[(317339,)]"
      ]
     },
     "execution_count": 4,
     "metadata": {},
     "output_type": "execute_result"
    }
   ],
   "source": [
    "%%sql\n",
    "SELECT Count(*) FROM import_course_meetings;"
   ]
  },
  {
   "cell_type": "code",
   "execution_count": 5,
   "metadata": {},
   "outputs": [
    {
     "name": "stdout",
     "output_type": "stream",
     "text": [
      " * sqlite:///CourseData.db\n",
      "Done.\n"
     ]
    },
    {
     "data": {
      "text/html": [
       "<table>\n",
       "    <tr>\n",
       "        <th>Count(*)</th>\n",
       "    </tr>\n",
       "    <tr>\n",
       "        <td>15955</td>\n",
       "    </tr>\n",
       "</table>"
      ],
      "text/plain": [
       "[(15955,)]"
      ]
     },
     "execution_count": 5,
     "metadata": {},
     "output_type": "execute_result"
    }
   ],
   "source": [
    "%%sql\n",
    "SELECT Count(*) FROM import_courses;"
   ]
  },
  {
   "cell_type": "code",
   "execution_count": 6,
   "metadata": {},
   "outputs": [
    {
     "name": "stdout",
     "output_type": "stream",
     "text": [
      " * sqlite:///CourseData.db\n",
      "Done.\n"
     ]
    },
    {
     "data": {
      "text/html": [
       "<table>\n",
       "    <tr>\n",
       "        <th>catalog_id</th>\n",
       "    </tr>\n",
       "    <tr>\n",
       "        <td>AN 0301</td>\n",
       "    </tr>\n",
       "</table>"
      ],
      "text/plain": [
       "[('AN 0301',)]"
      ]
     },
     "execution_count": 6,
     "metadata": {},
     "output_type": "execute_result"
    }
   ],
   "source": [
    "%%sql\n",
    "SELECT catalog_id FROM import_Course_Catalog limit 1;\n"
   ]
  },
  {
   "cell_type": "code",
   "execution_count": null,
   "metadata": {},
   "outputs": [],
   "source": []
  },
  {
   "cell_type": "code",
   "execution_count": 7,
   "metadata": {},
   "outputs": [
    {
     "name": "stdout",
     "output_type": "stream",
     "text": [
      " * sqlite:///CourseData.db\n",
      "Done.\n"
     ]
    },
    {
     "data": {
      "text/html": [
       "<table>\n",
       "    <tr>\n",
       "        <th>Count(*)</th>\n",
       "    </tr>\n",
       "    <tr>\n",
       "        <td>4441</td>\n",
       "    </tr>\n",
       "</table>"
      ],
      "text/plain": [
       "[(4441,)]"
      ]
     },
     "execution_count": 7,
     "metadata": {},
     "output_type": "execute_result"
    }
   ],
   "source": [
    "%%sql\n",
    "SELECT Count(*) FROM import_Course_Catalog;"
   ]
  },
  {
   "cell_type": "markdown",
   "metadata": {},
   "source": [
    "# 3. Create Tables\n",
    "- primary key is generated on every table by naming new surrogate key/field that isn't already in .csv files.\n",
    "- don't need NOT NULL for PK because it's implied in SQLite.\n"
   ]
  },
  {
   "cell_type": "code",
   "execution_count": 8,
   "metadata": {},
   "outputs": [
    {
     "name": "stdout",
     "output_type": "stream",
     "text": [
      " * sqlite:///CourseData.db\n",
      "Done.\n"
     ]
    },
    {
     "data": {
      "text/plain": [
       "[]"
      ]
     },
     "execution_count": 8,
     "metadata": {},
     "output_type": "execute_result"
    }
   ],
   "source": [
    "%%sql\n",
    "CREATE TABLE COURSECATALOGS (\n",
    "    CCID INTEGER PRIMARY KEY,\n",
    "    catalog_id TEXT,\n",
    "    program_code TEXT,    \n",
    "    program_name TEXT,\n",
    "    course_title TEXT,\n",
    "    prereqs TEXT,    \n",
    "    coreqs TEXT,\n",
    "    fees TEXT,\n",
    "    attributes TEXT,    \n",
    "    description TEXT\n",
    ");"
   ]
  },
  {
   "cell_type": "code",
   "execution_count": 9,
   "metadata": {},
   "outputs": [
    {
     "name": "stdout",
     "output_type": "stream",
     "text": [
      " * sqlite:///CourseData.db\n",
      "Done.\n"
     ]
    },
    {
     "data": {
      "text/plain": [
       "[]"
      ]
     },
     "execution_count": 9,
     "metadata": {},
     "output_type": "execute_result"
    }
   ],
   "source": [
    "%%sql\n",
    "CREATE TABLE TEACHERS (\n",
    " TID INTEGER PRIMARY KEY,\n",
    " primary_instructor TEXT NOT NULL\n",
    ");"
   ]
  },
  {
   "cell_type": "code",
   "execution_count": 10,
   "metadata": {},
   "outputs": [
    {
     "name": "stdout",
     "output_type": "stream",
     "text": [
      " * sqlite:///CourseData.db\n",
      "Done.\n"
     ]
    },
    {
     "data": {
      "text/plain": [
       "[]"
      ]
     },
     "execution_count": 10,
     "metadata": {},
     "output_type": "execute_result"
    }
   ],
   "source": [
    "%%sql\n",
    "CREATE TABLE COURSES (\n",
    "                 crn SMALLINT,\n",
    "                 term VARCAR(20),\n",
    "                 catalog_id TEXT,\n",
    "                 section TEXT,\n",
    "                 credits TEXT,\n",
    "                 title TEXT,\n",
    "                 meetings TEXT,\n",
    "                 timecodes TEXT,\n",
    "                 cap TEXT,\n",
    "                 act TEXT,\n",
    "                 rem TEXT,\n",
    "                 TID INTEGER,\n",
    "                 PRIMARY KEY(crn,term)\n",
    ");"
   ]
  },
  {
   "cell_type": "code",
   "execution_count": 11,
   "metadata": {},
   "outputs": [
    {
     "name": "stdout",
     "output_type": "stream",
     "text": [
      " * sqlite:///CourseData.db\n",
      "Done.\n"
     ]
    },
    {
     "data": {
      "text/plain": [
       "[]"
      ]
     },
     "execution_count": 11,
     "metadata": {},
     "output_type": "execute_result"
    }
   ],
   "source": [
    "%%sql\n",
    "CREATE TABLE COURSEMEETINGS (\n",
    "    \n",
    "    CID INTEGER PRIMARY KEY,\n",
    "    crn SMALLINT,\n",
    "    term VARCHAR(20),\n",
    "    location TEXT NOT NULL,\n",
    "    day TEXT NOT NULL,\n",
    "    start TIME NOT NULL,\n",
    "    end TIME NOT NULL  \n",
    ");"
   ]
  },
  {
   "cell_type": "markdown",
   "metadata": {},
   "source": [
    "# 4. Do INSERT Statements"
   ]
  },
  {
   "cell_type": "code",
   "execution_count": 12,
   "metadata": {},
   "outputs": [
    {
     "name": "stdout",
     "output_type": "stream",
     "text": [
      " * sqlite:///CourseData.db\n",
      "2221 rows affected.\n"
     ]
    },
    {
     "data": {
      "text/plain": [
       "[]"
      ]
     },
     "execution_count": 12,
     "metadata": {},
     "output_type": "execute_result"
    }
   ],
   "source": [
    "%%sql\n",
    "INSERT INTO COURSECATALOGS (catalog_id, program_code, program_name, course_title, prereqs, coreqs, fees, attributes, description) \n",
    "SELECT DISTINCT catalog_id, program_code, program_name, course_title, prereqs, coreqs, fees, attributes, description\n",
    "FROM import_Course_Catalog;"
   ]
  },
  {
   "cell_type": "code",
   "execution_count": 13,
   "metadata": {},
   "outputs": [
    {
     "name": "stdout",
     "output_type": "stream",
     "text": [
      " * sqlite:///CourseData.db\n",
      "Done.\n"
     ]
    },
    {
     "data": {
      "text/html": [
       "<table>\n",
       "    <tr>\n",
       "        <th>CCID</th>\n",
       "        <th>catalog_id</th>\n",
       "        <th>program_code</th>\n",
       "        <th>program_name</th>\n",
       "        <th>course_title</th>\n",
       "        <th>prereqs</th>\n",
       "        <th>coreqs</th>\n",
       "        <th>fees</th>\n",
       "        <th>attributes</th>\n",
       "        <th>description</th>\n",
       "    </tr>\n",
       "    <tr>\n",
       "        <td>1</td>\n",
       "        <td>AN 0301</td>\n",
       "        <td>AN</td>\n",
       "        <td>Asian Studies</td>\n",
       "        <td>Independent Study</td>\n",
       "        <td></td>\n",
       "        <td></td>\n",
       "        <td></td>\n",
       "        <td></td>\n",
       "        <td>Students undertake an individualized program of study in consultation with a director from the Asian studies faculty.</td>\n",
       "    </tr>\n",
       "    <tr>\n",
       "        <td>2</td>\n",
       "        <td>AN 0310</td>\n",
       "        <td>AN</td>\n",
       "        <td>Asian Studies</td>\n",
       "        <td>Asian Studies Seminar</td>\n",
       "        <td></td>\n",
       "        <td></td>\n",
       "        <td></td>\n",
       "        <td></td>\n",
       "        <td>This seminar examines selected topics concerning Asia. This course is taught in conjunction with another 100-300 level course from a rotation of course offerings. Consult the Asian Studies director to identify the conjoined course for a given semester. The seminar concentrates on topics within the parameters of the conjoined course syllabus but adds research emphasis. Students registered for this course must complete a research project, to include 300-level research, in addition to the regular research requirements of the conjoined course, and a 25-50 page term paper in substitution of some portion of the conjoined course requirements, as determined by the instructor. Open to juniors and seniors only.</td>\n",
       "    </tr>\n",
       "</table>"
      ],
      "text/plain": [
       "[(1, 'AN 0301', 'AN', 'Asian Studies', 'Independent Study', '', '', '', '', 'Students undertake an individualized program of study in consultation with a director from the Asian studies faculty.'),\n",
       " (2, 'AN 0310', 'AN', 'Asian Studies', 'Asian Studies Seminar', '', '', '', '', 'This seminar examines selected topics concerning Asia. This course is taught in conjunction with another 100-300 level course from a rotation of cour ... (412 characters truncated) ... e term paper in substitution of some portion of the conjoined course requirements, as determined by the instructor. Open to juniors and seniors only.')]"
      ]
     },
     "execution_count": 13,
     "metadata": {},
     "output_type": "execute_result"
    }
   ],
   "source": [
    "%%sql\n",
    "SELECT * FROM COURSECATALOGS\n",
    "limit 2;"
   ]
  },
  {
   "cell_type": "markdown",
   "metadata": {},
   "source": [
    "# INSERT TEACHERS"
   ]
  },
  {
   "cell_type": "code",
   "execution_count": 14,
   "metadata": {},
   "outputs": [
    {
     "name": "stdout",
     "output_type": "stream",
     "text": [
      " * sqlite:///CourseData.db\n",
      "0 rows affected.\n",
      "1105 rows affected.\n"
     ]
    },
    {
     "data": {
      "text/plain": [
       "[]"
      ]
     },
     "execution_count": 14,
     "metadata": {},
     "output_type": "execute_result"
    }
   ],
   "source": [
    "%%sql\n",
    "DELETE FROM TEACHERS;\n",
    "\n",
    "INSERT INTO TEACHERS  (primary_instructor)\n",
    "SELECT DISTINCT primary_instructor\n",
    "    FROM import_courses\n",
    "    ;"
   ]
  },
  {
   "cell_type": "code",
   "execution_count": 15,
   "metadata": {},
   "outputs": [
    {
     "name": "stdout",
     "output_type": "stream",
     "text": [
      " * sqlite:///CourseData.db\n",
      "Done.\n"
     ]
    },
    {
     "data": {
      "text/html": [
       "<table>\n",
       "    <tr>\n",
       "        <th>TID</th>\n",
       "        <th>primary_instructor</th>\n",
       "    </tr>\n",
       "    <tr>\n",
       "        <td>1</td>\n",
       "        <td>Michael P.  Coyne</td>\n",
       "    </tr>\n",
       "    <tr>\n",
       "        <td>2</td>\n",
       "        <td>Rebecca I.  Bloch</td>\n",
       "    </tr>\n",
       "</table>"
      ],
      "text/plain": [
       "[(1, 'Michael P.  Coyne'), (2, 'Rebecca I.  Bloch')]"
      ]
     },
     "execution_count": 15,
     "metadata": {},
     "output_type": "execute_result"
    }
   ],
   "source": [
    "%%sql\n",
    "SELECT * FROM TEACHERS\n",
    "limit 2;"
   ]
  },
  {
   "cell_type": "markdown",
   "metadata": {},
   "source": [
    "# INSERT COURSEMEETINGS"
   ]
  },
  {
   "cell_type": "code",
   "execution_count": 16,
   "metadata": {},
   "outputs": [
    {
     "name": "stdout",
     "output_type": "stream",
     "text": [
      " * sqlite:///CourseData.db\n",
      "311142 rows affected.\n"
     ]
    },
    {
     "data": {
      "text/plain": [
       "[]"
      ]
     },
     "execution_count": 16,
     "metadata": {},
     "output_type": "execute_result"
    }
   ],
   "source": [
    "%%sql \n",
    "INSERT INTO COURSEMEETINGS ( crn, term, location, day, start, end)\n",
    "SELECT DISTINCT crn, term, location, day, start, end\n",
    "FROM import_course_meetings\n"
   ]
  },
  {
   "cell_type": "code",
   "execution_count": 17,
   "metadata": {},
   "outputs": [
    {
     "name": "stdout",
     "output_type": "stream",
     "text": [
      " * sqlite:///CourseData.db\n",
      "Done.\n"
     ]
    },
    {
     "data": {
      "text/html": [
       "<table>\n",
       "    <tr>\n",
       "        <th>CID</th>\n",
       "        <th>crn</th>\n",
       "        <th>term</th>\n",
       "        <th>location</th>\n",
       "        <th>day</th>\n",
       "        <th>start</th>\n",
       "        <th>end</th>\n",
       "    </tr>\n",
       "    <tr>\n",
       "        <td>1</td>\n",
       "        <td>70384</td>\n",
       "        <td>Fall2014</td>\n",
       "        <td>DSB 105</td>\n",
       "        <td>T</td>\n",
       "        <td>2014-09-02T08:00:00</td>\n",
       "        <td>2014-09-02T09:15:00</td>\n",
       "    </tr>\n",
       "    <tr>\n",
       "        <td>2</td>\n",
       "        <td>70384</td>\n",
       "        <td>Fall2014</td>\n",
       "        <td>DSB 105</td>\n",
       "        <td>F</td>\n",
       "        <td>2014-09-05T08:00:00</td>\n",
       "        <td>2014-09-05T09:15:00</td>\n",
       "    </tr>\n",
       "    <tr>\n",
       "        <td>3</td>\n",
       "        <td>70384</td>\n",
       "        <td>Fall2014</td>\n",
       "        <td>DSB 105</td>\n",
       "        <td>T</td>\n",
       "        <td>2014-09-09T08:00:00</td>\n",
       "        <td>2014-09-09T09:15:00</td>\n",
       "    </tr>\n",
       "    <tr>\n",
       "        <td>4</td>\n",
       "        <td>70384</td>\n",
       "        <td>Fall2014</td>\n",
       "        <td>DSB 105</td>\n",
       "        <td>F</td>\n",
       "        <td>2014-09-12T08:00:00</td>\n",
       "        <td>2014-09-12T09:15:00</td>\n",
       "    </tr>\n",
       "    <tr>\n",
       "        <td>5</td>\n",
       "        <td>70384</td>\n",
       "        <td>Fall2014</td>\n",
       "        <td>DSB 105</td>\n",
       "        <td>T</td>\n",
       "        <td>2014-09-16T08:00:00</td>\n",
       "        <td>2014-09-16T09:15:00</td>\n",
       "    </tr>\n",
       "    <tr>\n",
       "        <td>6</td>\n",
       "        <td>70384</td>\n",
       "        <td>Fall2014</td>\n",
       "        <td>DSB 105</td>\n",
       "        <td>F</td>\n",
       "        <td>2014-09-19T08:00:00</td>\n",
       "        <td>2014-09-19T09:15:00</td>\n",
       "    </tr>\n",
       "    <tr>\n",
       "        <td>7</td>\n",
       "        <td>70384</td>\n",
       "        <td>Fall2014</td>\n",
       "        <td>DSB 105</td>\n",
       "        <td>T</td>\n",
       "        <td>2014-09-23T08:00:00</td>\n",
       "        <td>2014-09-23T09:15:00</td>\n",
       "    </tr>\n",
       "    <tr>\n",
       "        <td>8</td>\n",
       "        <td>70384</td>\n",
       "        <td>Fall2014</td>\n",
       "        <td>DSB 105</td>\n",
       "        <td>F</td>\n",
       "        <td>2014-09-26T08:00:00</td>\n",
       "        <td>2014-09-26T09:15:00</td>\n",
       "    </tr>\n",
       "    <tr>\n",
       "        <td>9</td>\n",
       "        <td>70384</td>\n",
       "        <td>Fall2014</td>\n",
       "        <td>DSB 105</td>\n",
       "        <td>T</td>\n",
       "        <td>2014-09-30T08:00:00</td>\n",
       "        <td>2014-09-30T09:15:00</td>\n",
       "    </tr>\n",
       "    <tr>\n",
       "        <td>10</td>\n",
       "        <td>70384</td>\n",
       "        <td>Fall2014</td>\n",
       "        <td>DSB 105</td>\n",
       "        <td>F</td>\n",
       "        <td>2014-10-03T08:00:00</td>\n",
       "        <td>2014-10-03T09:15:00</td>\n",
       "    </tr>\n",
       "</table>"
      ],
      "text/plain": [
       "[(1, 70384, 'Fall2014', 'DSB 105', 'T', '2014-09-02T08:00:00', '2014-09-02T09:15:00'),\n",
       " (2, 70384, 'Fall2014', 'DSB 105', 'F', '2014-09-05T08:00:00', '2014-09-05T09:15:00'),\n",
       " (3, 70384, 'Fall2014', 'DSB 105', 'T', '2014-09-09T08:00:00', '2014-09-09T09:15:00'),\n",
       " (4, 70384, 'Fall2014', 'DSB 105', 'F', '2014-09-12T08:00:00', '2014-09-12T09:15:00'),\n",
       " (5, 70384, 'Fall2014', 'DSB 105', 'T', '2014-09-16T08:00:00', '2014-09-16T09:15:00'),\n",
       " (6, 70384, 'Fall2014', 'DSB 105', 'F', '2014-09-19T08:00:00', '2014-09-19T09:15:00'),\n",
       " (7, 70384, 'Fall2014', 'DSB 105', 'T', '2014-09-23T08:00:00', '2014-09-23T09:15:00'),\n",
       " (8, 70384, 'Fall2014', 'DSB 105', 'F', '2014-09-26T08:00:00', '2014-09-26T09:15:00'),\n",
       " (9, 70384, 'Fall2014', 'DSB 105', 'T', '2014-09-30T08:00:00', '2014-09-30T09:15:00'),\n",
       " (10, 70384, 'Fall2014', 'DSB 105', 'F', '2014-10-03T08:00:00', '2014-10-03T09:15:00')]"
      ]
     },
     "execution_count": 17,
     "metadata": {},
     "output_type": "execute_result"
    }
   ],
   "source": [
    "%%sql\n",
    "SELECT * FROM COURSEMEETINGS\n",
    "LIMIT 10;"
   ]
  },
  {
   "cell_type": "markdown",
   "metadata": {},
   "source": [
    "# INSERT COURSES\n",
    "- _key:_ do NOT need primary_instructor in courses table since we're going to join in the teachers table that has this value.  We are simply telling it what to JOIN these tables on, but primary_instructor does not need to be in both tables.\n",
    "\n",
    "- still need to add additional FKs"
   ]
  },
  {
   "cell_type": "code",
   "execution_count": 18,
   "metadata": {},
   "outputs": [
    {
     "name": "stdout",
     "output_type": "stream",
     "text": [
      " * sqlite:///CourseData.db\n",
      "15938 rows affected.\n"
     ]
    },
    {
     "data": {
      "text/plain": [
       "[]"
      ]
     },
     "execution_count": 18,
     "metadata": {},
     "output_type": "execute_result"
    }
   ],
   "source": [
    "%%sql\n",
    "INSERT INTO COURSES (crn, term,catalog_id, section, credits, title, meetings, timecodes, cap, act, rem, TID)\n",
    "SELECT DISTINCT crn, term, catalog_id, section, credits, title, meetings, timecodes, cap, act, rem, TID\n",
    "FROM import_courses\n",
    "JOIN TEACHERS ON TEACHERS.primary_instructor = import_courses.primary_instructor;\n"
   ]
  },
  {
   "cell_type": "code",
   "execution_count": 19,
   "metadata": {},
   "outputs": [
    {
     "name": "stdout",
     "output_type": "stream",
     "text": [
      " * sqlite:///CourseData.db\n",
      "Done.\n"
     ]
    },
    {
     "data": {
      "text/html": [
       "<table>\n",
       "    <tr>\n",
       "        <th>crn</th>\n",
       "        <th>term</th>\n",
       "        <th>catalog_id</th>\n",
       "        <th>section</th>\n",
       "        <th>credits</th>\n",
       "        <th>title</th>\n",
       "        <th>meetings</th>\n",
       "        <th>timecodes</th>\n",
       "        <th>cap</th>\n",
       "        <th>act</th>\n",
       "        <th>rem</th>\n",
       "        <th>TID</th>\n",
       "    </tr>\n",
       "    <tr>\n",
       "        <td>70384</td>\n",
       "        <td>Fall2014</td>\n",
       "        <td>AC 0011</td>\n",
       "        <td>C01</td>\n",
       "        <td>3.000</td>\n",
       "        <td>Introduction to Financial Accounting</td>\n",
       "        <td>[{&#x27;days&#x27;: &#x27;TF&#x27;, &#x27;times&#x27;: &#x27;0800am-0915am&#x27;, &#x27;dates&#x27;: &#x27;09/02-12/08&#x27;, &#x27;location&#x27;: &#x27;DSB 105&#x27;}]</td>\n",
       "        <td>[&#x27;TF 0800am-0915am 09/02-12/08 DSB 105&#x27;]</td>\n",
       "        <td>0</td>\n",
       "        <td>31</td>\n",
       "        <td>-31</td>\n",
       "        <td>1</td>\n",
       "    </tr>\n",
       "    <tr>\n",
       "        <td>70385</td>\n",
       "        <td>Fall2014</td>\n",
       "        <td>AC 0011</td>\n",
       "        <td>C02</td>\n",
       "        <td>3.000</td>\n",
       "        <td>Introduction to Financial Accounting</td>\n",
       "        <td>[{&#x27;days&#x27;: &#x27;TF&#x27;, &#x27;times&#x27;: &#x27;0930am-1045am&#x27;, &#x27;dates&#x27;: &#x27;09/02-12/08&#x27;, &#x27;location&#x27;: &#x27;DSB 105&#x27;}]</td>\n",
       "        <td>[&#x27;TF 0930am-1045am 09/02-12/08 DSB 105&#x27;]</td>\n",
       "        <td>0</td>\n",
       "        <td>31</td>\n",
       "        <td>-31</td>\n",
       "        <td>1</td>\n",
       "    </tr>\n",
       "    <tr>\n",
       "        <td>70382</td>\n",
       "        <td>Fall2014</td>\n",
       "        <td>AC 0011</td>\n",
       "        <td>C03</td>\n",
       "        <td>3.000</td>\n",
       "        <td>Introduction to Financial Accounting</td>\n",
       "        <td>[{&#x27;days&#x27;: &#x27;TF&#x27;, &#x27;times&#x27;: &#x27;1230pm-0145pm&#x27;, &#x27;dates&#x27;: &#x27;09/02-12/08&#x27;, &#x27;location&#x27;: &#x27;DSB 105&#x27;}]</td>\n",
       "        <td>[&#x27;TF 1230pm-0145pm 09/02-12/08 DSB 105&#x27;]</td>\n",
       "        <td>0</td>\n",
       "        <td>31</td>\n",
       "        <td>-31</td>\n",
       "        <td>1</td>\n",
       "    </tr>\n",
       "    <tr>\n",
       "        <td>70291</td>\n",
       "        <td>Fall2014</td>\n",
       "        <td>AC 0011</td>\n",
       "        <td>C04</td>\n",
       "        <td>3.000</td>\n",
       "        <td>Introduction to Financial Accounting</td>\n",
       "        <td>[{&#x27;days&#x27;: &#x27;MR&#x27;, &#x27;times&#x27;: &#x27;1100am-1215pm&#x27;, &#x27;dates&#x27;: &#x27;09/02-12/08&#x27;, &#x27;location&#x27;: &#x27;DSB 111&#x27;}]</td>\n",
       "        <td>[&#x27;MR 1100am-1215pm 09/02-12/08 DSB 111&#x27;]</td>\n",
       "        <td>0</td>\n",
       "        <td>29</td>\n",
       "        <td>-29</td>\n",
       "        <td>2</td>\n",
       "    </tr>\n",
       "    <tr>\n",
       "        <td>70350</td>\n",
       "        <td>Fall2014</td>\n",
       "        <td>AC 0011</td>\n",
       "        <td>C05</td>\n",
       "        <td>3.000</td>\n",
       "        <td>Introduction to Financial Accounting</td>\n",
       "        <td>[{&#x27;days&#x27;: &#x27;MR&#x27;, &#x27;times&#x27;: &#x27;1230pm-0145pm&#x27;, &#x27;dates&#x27;: &#x27;09/02-12/08&#x27;, &#x27;location&#x27;: &#x27;DSB 111&#x27;}]</td>\n",
       "        <td>[&#x27;MR 1230pm-0145pm 09/02-12/08 DSB 111&#x27;]</td>\n",
       "        <td>0</td>\n",
       "        <td>30</td>\n",
       "        <td>-30</td>\n",
       "        <td>2</td>\n",
       "    </tr>\n",
       "</table>"
      ],
      "text/plain": [
       "[(70384, 'Fall2014', 'AC 0011', 'C01', '3.000', 'Introduction to Financial Accounting', \"[{'days': 'TF', 'times': '0800am-0915am', 'dates': '09/02-12/08', 'location': 'DSB 105'}]\", \"['TF 0800am-0915am 09/02-12/08 DSB 105']\", '0', '31', '-31', 1),\n",
       " (70385, 'Fall2014', 'AC 0011', 'C02', '3.000', 'Introduction to Financial Accounting', \"[{'days': 'TF', 'times': '0930am-1045am', 'dates': '09/02-12/08', 'location': 'DSB 105'}]\", \"['TF 0930am-1045am 09/02-12/08 DSB 105']\", '0', '31', '-31', 1),\n",
       " (70382, 'Fall2014', 'AC 0011', 'C03', '3.000', 'Introduction to Financial Accounting', \"[{'days': 'TF', 'times': '1230pm-0145pm', 'dates': '09/02-12/08', 'location': 'DSB 105'}]\", \"['TF 1230pm-0145pm 09/02-12/08 DSB 105']\", '0', '31', '-31', 1),\n",
       " (70291, 'Fall2014', 'AC 0011', 'C04', '3.000', 'Introduction to Financial Accounting', \"[{'days': 'MR', 'times': '1100am-1215pm', 'dates': '09/02-12/08', 'location': 'DSB 111'}]\", \"['MR 1100am-1215pm 09/02-12/08 DSB 111']\", '0', '29', '-29', 2),\n",
       " (70350, 'Fall2014', 'AC 0011', 'C05', '3.000', 'Introduction to Financial Accounting', \"[{'days': 'MR', 'times': '1230pm-0145pm', 'dates': '09/02-12/08', 'location': 'DSB 111'}]\", \"['MR 1230pm-0145pm 09/02-12/08 DSB 111']\", '0', '30', '-30', 2)]"
      ]
     },
     "execution_count": 19,
     "metadata": {},
     "output_type": "execute_result"
    }
   ],
   "source": [
    "%%sql\n",
    "SELECT * FROM COURSES\n",
    "LIMIT 5;"
   ]
  },
  {
   "cell_type": "code",
   "execution_count": 20,
   "metadata": {},
   "outputs": [
    {
     "name": "stdout",
     "output_type": "stream",
     "text": [
      " * sqlite:///CourseData.db\n",
      "Done.\n"
     ]
    },
    {
     "data": {
      "text/html": [
       "<table>\n",
       "    <tr>\n",
       "        <th>catalog_id</th>\n",
       "        <th>primary_instructor</th>\n",
       "    </tr>\n",
       "    <tr>\n",
       "        <td>AC 0011</td>\n",
       "        <td>Michael P.  Coyne</td>\n",
       "    </tr>\n",
       "    <tr>\n",
       "        <td>AC 0011</td>\n",
       "        <td>Michael P.  Coyne</td>\n",
       "    </tr>\n",
       "    <tr>\n",
       "        <td>AC 0011</td>\n",
       "        <td>Michael P.  Coyne</td>\n",
       "    </tr>\n",
       "    <tr>\n",
       "        <td>AC 0011</td>\n",
       "        <td>Rebecca I.  Bloch</td>\n",
       "    </tr>\n",
       "    <tr>\n",
       "        <td>AC 0011</td>\n",
       "        <td>Rebecca I.  Bloch</td>\n",
       "    </tr>\n",
       "    <tr>\n",
       "        <td>AC 0011</td>\n",
       "        <td>Rebecca I.  Bloch</td>\n",
       "    </tr>\n",
       "    <tr>\n",
       "        <td>AC 0011</td>\n",
       "        <td>Paul   Caster</td>\n",
       "    </tr>\n",
       "    <tr>\n",
       "        <td>AC 0011</td>\n",
       "        <td>Jo Ann   Drusbosky</td>\n",
       "    </tr>\n",
       "    <tr>\n",
       "        <td>AC 0011</td>\n",
       "        <td>Jo Ann   Drusbosky</td>\n",
       "    </tr>\n",
       "    <tr>\n",
       "        <td>AC 0011</td>\n",
       "        <td>Jo Ann   Drusbosky</td>\n",
       "    </tr>\n",
       "</table>"
      ],
      "text/plain": [
       "[('AC 0011', 'Michael P.  Coyne'),\n",
       " ('AC 0011', 'Michael P.  Coyne'),\n",
       " ('AC 0011', 'Michael P.  Coyne'),\n",
       " ('AC 0011', 'Rebecca I.  Bloch'),\n",
       " ('AC 0011', 'Rebecca I.  Bloch'),\n",
       " ('AC 0011', 'Rebecca I.  Bloch'),\n",
       " ('AC 0011', 'Paul   Caster'),\n",
       " ('AC 0011', 'Jo Ann   Drusbosky'),\n",
       " ('AC 0011', 'Jo Ann   Drusbosky'),\n",
       " ('AC 0011', 'Jo Ann   Drusbosky')]"
      ]
     },
     "execution_count": 20,
     "metadata": {},
     "output_type": "execute_result"
    }
   ],
   "source": [
    "%%sql\n",
    "SELECT catalog_id, primary_instructor \n",
    "FROM COURSES\n",
    "JOIN TEACHERS USING (TID)\n",
    "limit 10;"
   ]
  },
  {
   "cell_type": "code",
   "execution_count": 21,
   "metadata": {},
   "outputs": [
    {
     "name": "stdout",
     "output_type": "stream",
     "text": [
      " * sqlite:///CourseData.db\n",
      "Done.\n"
     ]
    },
    {
     "data": {
      "text/html": [
       "<table>\n",
       "    <tr>\n",
       "        <th>crn</th>\n",
       "        <th>term</th>\n",
       "        <th>catalog_id</th>\n",
       "        <th>section</th>\n",
       "        <th>credits</th>\n",
       "        <th>title</th>\n",
       "        <th>meetings</th>\n",
       "        <th>timecodes</th>\n",
       "        <th>cap</th>\n",
       "        <th>act</th>\n",
       "        <th>rem</th>\n",
       "        <th>TID</th>\n",
       "    </tr>\n",
       "    <tr>\n",
       "        <td>70384</td>\n",
       "        <td>Fall2014</td>\n",
       "        <td>AC 0011</td>\n",
       "        <td>C01</td>\n",
       "        <td>3.000</td>\n",
       "        <td>Introduction to Financial Accounting</td>\n",
       "        <td>[{&#x27;days&#x27;: &#x27;TF&#x27;, &#x27;times&#x27;: &#x27;0800am-0915am&#x27;, &#x27;dates&#x27;: &#x27;09/02-12/08&#x27;, &#x27;location&#x27;: &#x27;DSB 105&#x27;}]</td>\n",
       "        <td>[&#x27;TF 0800am-0915am 09/02-12/08 DSB 105&#x27;]</td>\n",
       "        <td>0</td>\n",
       "        <td>31</td>\n",
       "        <td>-31</td>\n",
       "        <td>1</td>\n",
       "    </tr>\n",
       "    <tr>\n",
       "        <td>70385</td>\n",
       "        <td>Fall2014</td>\n",
       "        <td>AC 0011</td>\n",
       "        <td>C02</td>\n",
       "        <td>3.000</td>\n",
       "        <td>Introduction to Financial Accounting</td>\n",
       "        <td>[{&#x27;days&#x27;: &#x27;TF&#x27;, &#x27;times&#x27;: &#x27;0930am-1045am&#x27;, &#x27;dates&#x27;: &#x27;09/02-12/08&#x27;, &#x27;location&#x27;: &#x27;DSB 105&#x27;}]</td>\n",
       "        <td>[&#x27;TF 0930am-1045am 09/02-12/08 DSB 105&#x27;]</td>\n",
       "        <td>0</td>\n",
       "        <td>31</td>\n",
       "        <td>-31</td>\n",
       "        <td>1</td>\n",
       "    </tr>\n",
       "    <tr>\n",
       "        <td>70382</td>\n",
       "        <td>Fall2014</td>\n",
       "        <td>AC 0011</td>\n",
       "        <td>C03</td>\n",
       "        <td>3.000</td>\n",
       "        <td>Introduction to Financial Accounting</td>\n",
       "        <td>[{&#x27;days&#x27;: &#x27;TF&#x27;, &#x27;times&#x27;: &#x27;1230pm-0145pm&#x27;, &#x27;dates&#x27;: &#x27;09/02-12/08&#x27;, &#x27;location&#x27;: &#x27;DSB 105&#x27;}]</td>\n",
       "        <td>[&#x27;TF 1230pm-0145pm 09/02-12/08 DSB 105&#x27;]</td>\n",
       "        <td>0</td>\n",
       "        <td>31</td>\n",
       "        <td>-31</td>\n",
       "        <td>1</td>\n",
       "    </tr>\n",
       "    <tr>\n",
       "        <td>70291</td>\n",
       "        <td>Fall2014</td>\n",
       "        <td>AC 0011</td>\n",
       "        <td>C04</td>\n",
       "        <td>3.000</td>\n",
       "        <td>Introduction to Financial Accounting</td>\n",
       "        <td>[{&#x27;days&#x27;: &#x27;MR&#x27;, &#x27;times&#x27;: &#x27;1100am-1215pm&#x27;, &#x27;dates&#x27;: &#x27;09/02-12/08&#x27;, &#x27;location&#x27;: &#x27;DSB 111&#x27;}]</td>\n",
       "        <td>[&#x27;MR 1100am-1215pm 09/02-12/08 DSB 111&#x27;]</td>\n",
       "        <td>0</td>\n",
       "        <td>29</td>\n",
       "        <td>-29</td>\n",
       "        <td>2</td>\n",
       "    </tr>\n",
       "    <tr>\n",
       "        <td>70350</td>\n",
       "        <td>Fall2014</td>\n",
       "        <td>AC 0011</td>\n",
       "        <td>C05</td>\n",
       "        <td>3.000</td>\n",
       "        <td>Introduction to Financial Accounting</td>\n",
       "        <td>[{&#x27;days&#x27;: &#x27;MR&#x27;, &#x27;times&#x27;: &#x27;1230pm-0145pm&#x27;, &#x27;dates&#x27;: &#x27;09/02-12/08&#x27;, &#x27;location&#x27;: &#x27;DSB 111&#x27;}]</td>\n",
       "        <td>[&#x27;MR 1230pm-0145pm 09/02-12/08 DSB 111&#x27;]</td>\n",
       "        <td>0</td>\n",
       "        <td>30</td>\n",
       "        <td>-30</td>\n",
       "        <td>2</td>\n",
       "    </tr>\n",
       "</table>"
      ],
      "text/plain": [
       "[(70384, 'Fall2014', 'AC 0011', 'C01', '3.000', 'Introduction to Financial Accounting', \"[{'days': 'TF', 'times': '0800am-0915am', 'dates': '09/02-12/08', 'location': 'DSB 105'}]\", \"['TF 0800am-0915am 09/02-12/08 DSB 105']\", '0', '31', '-31', 1),\n",
       " (70385, 'Fall2014', 'AC 0011', 'C02', '3.000', 'Introduction to Financial Accounting', \"[{'days': 'TF', 'times': '0930am-1045am', 'dates': '09/02-12/08', 'location': 'DSB 105'}]\", \"['TF 0930am-1045am 09/02-12/08 DSB 105']\", '0', '31', '-31', 1),\n",
       " (70382, 'Fall2014', 'AC 0011', 'C03', '3.000', 'Introduction to Financial Accounting', \"[{'days': 'TF', 'times': '1230pm-0145pm', 'dates': '09/02-12/08', 'location': 'DSB 105'}]\", \"['TF 1230pm-0145pm 09/02-12/08 DSB 105']\", '0', '31', '-31', 1),\n",
       " (70291, 'Fall2014', 'AC 0011', 'C04', '3.000', 'Introduction to Financial Accounting', \"[{'days': 'MR', 'times': '1100am-1215pm', 'dates': '09/02-12/08', 'location': 'DSB 111'}]\", \"['MR 1100am-1215pm 09/02-12/08 DSB 111']\", '0', '29', '-29', 2),\n",
       " (70350, 'Fall2014', 'AC 0011', 'C05', '3.000', 'Introduction to Financial Accounting', \"[{'days': 'MR', 'times': '1230pm-0145pm', 'dates': '09/02-12/08', 'location': 'DSB 111'}]\", \"['MR 1230pm-0145pm 09/02-12/08 DSB 111']\", '0', '30', '-30', 2)]"
      ]
     },
     "execution_count": 21,
     "metadata": {},
     "output_type": "execute_result"
    }
   ],
   "source": [
    "%%sql\n",
    "SELECT * FROM COURSES\n",
    "limit 5\n",
    ";\n"
   ]
  },
  {
   "cell_type": "code",
   "execution_count": 22,
   "metadata": {},
   "outputs": [
    {
     "name": "stdout",
     "output_type": "stream",
     "text": [
      " * sqlite:///CourseData.db\n",
      "Done.\n"
     ]
    },
    {
     "data": {
      "text/html": [
       "<table>\n",
       "    <tr>\n",
       "        <th>TID</th>\n",
       "    </tr>\n",
       "    <tr>\n",
       "        <td>1</td>\n",
       "    </tr>\n",
       "    <tr>\n",
       "        <td>2</td>\n",
       "    </tr>\n",
       "    <tr>\n",
       "        <td>3</td>\n",
       "    </tr>\n",
       "</table>"
      ],
      "text/plain": [
       "[(1,), (2,), (3,)]"
      ]
     },
     "execution_count": 22,
     "metadata": {},
     "output_type": "execute_result"
    }
   ],
   "source": [
    "%%sql\n",
    "SELECT TID FROM TEACHERS\n",
    "limit 3;"
   ]
  },
  {
   "cell_type": "markdown",
   "metadata": {},
   "source": [
    "# 5. Run SELECT Queries"
   ]
  },
  {
   "cell_type": "code",
   "execution_count": 23,
   "metadata": {},
   "outputs": [
    {
     "data": {
      "text/plain": [
       "'Connected: @CourseData.db'"
      ]
     },
     "execution_count": 23,
     "metadata": {},
     "output_type": "execute_result"
    }
   ],
   "source": [
    "%reload_ext sql\n",
    "%sql sqlite:///CourseData.db"
   ]
  },
  {
   "cell_type": "markdown",
   "metadata": {},
   "source": [
    "## SELECT Query for all unique classrooms \n",
    "- only included those with a character lenght of 7 (some had 2, 8, etc.)\n",
    "- can't figure out how to get a distinct location when including additinonal fields."
   ]
  },
  {
   "cell_type": "code",
   "execution_count": 24,
   "metadata": {},
   "outputs": [
    {
     "name": "stdout",
     "output_type": "stream",
     "text": [
      " * sqlite:///CourseData.db\n",
      "Done.\n"
     ]
    },
    {
     "data": {
      "text/html": [
       "<table>\n",
       "    <tr>\n",
       "        <th>location</th>\n",
       "    </tr>\n",
       "    <tr>\n",
       "        <td>BCC 200</td>\n",
       "    </tr>\n",
       "    <tr>\n",
       "        <td>BLM 112</td>\n",
       "    </tr>\n",
       "    <tr>\n",
       "        <td>BNW 124</td>\n",
       "    </tr>\n",
       "    <tr>\n",
       "        <td>BNW 127</td>\n",
       "    </tr>\n",
       "    <tr>\n",
       "        <td>BNW 128</td>\n",
       "    </tr>\n",
       "    <tr>\n",
       "        <td>BNW 130</td>\n",
       "    </tr>\n",
       "    <tr>\n",
       "        <td>BNW 131</td>\n",
       "    </tr>\n",
       "    <tr>\n",
       "        <td>BNW 133</td>\n",
       "    </tr>\n",
       "    <tr>\n",
       "        <td>BNW 136</td>\n",
       "    </tr>\n",
       "    <tr>\n",
       "        <td>BNW 137</td>\n",
       "    </tr>\n",
       "    <tr>\n",
       "        <td>BNW 138</td>\n",
       "    </tr>\n",
       "    <tr>\n",
       "        <td>BNW 139</td>\n",
       "    </tr>\n",
       "    <tr>\n",
       "        <td>BNW 143</td>\n",
       "    </tr>\n",
       "    <tr>\n",
       "        <td>BNW 144</td>\n",
       "    </tr>\n",
       "    <tr>\n",
       "        <td>BNW 162</td>\n",
       "    </tr>\n",
       "    <tr>\n",
       "        <td>BNW 163</td>\n",
       "    </tr>\n",
       "    <tr>\n",
       "        <td>BNW 166</td>\n",
       "    </tr>\n",
       "    <tr>\n",
       "        <td>BNW 236</td>\n",
       "    </tr>\n",
       "    <tr>\n",
       "        <td>BNW 240</td>\n",
       "    </tr>\n",
       "    <tr>\n",
       "        <td>BNW 245</td>\n",
       "    </tr>\n",
       "</table>"
      ],
      "text/plain": [
       "[('BCC 200',),\n",
       " ('BLM 112',),\n",
       " ('BNW 124',),\n",
       " ('BNW 127',),\n",
       " ('BNW 128',),\n",
       " ('BNW 130',),\n",
       " ('BNW 131',),\n",
       " ('BNW 133',),\n",
       " ('BNW 136',),\n",
       " ('BNW 137',),\n",
       " ('BNW 138',),\n",
       " ('BNW 139',),\n",
       " ('BNW 143',),\n",
       " ('BNW 144',),\n",
       " ('BNW 162',),\n",
       " ('BNW 163',),\n",
       " ('BNW 166',),\n",
       " ('BNW 236',),\n",
       " ('BNW 240',),\n",
       " ('BNW 245',)]"
      ]
     },
     "execution_count": 24,
     "metadata": {},
     "output_type": "execute_result"
    }
   ],
   "source": [
    "%%sql\n",
    "SELECT DISTINCT \n",
    "location\n",
    "FROM COURSEMEETINGS\n",
    "WHERE LENGTH(location) = 7\n",
    "ORDER BY location\n",
    "LIMIT 20\n",
    ";"
   ]
  },
  {
   "cell_type": "markdown",
   "metadata": {},
   "source": [
    "## SELECT Query displaying all courses in MSBA Program '18-'19\n",
    "- still have to get rid of blank by making defining description as NOT NULL.\n",
    "- is there an easier way?"
   ]
  },
  {
   "cell_type": "code",
   "execution_count": 39,
   "metadata": {},
   "outputs": [
    {
     "name": "stdout",
     "output_type": "stream",
     "text": [
      " * sqlite:///CourseData.db\n",
      "(sqlite3.OperationalError) no such table: BA 05% [SQL: \"SELECT course_title AS Course, program_name AS Program, catalog_id AS Code, description AS Description\\nFROM COURSECATALOGS\\nWHERE catalog_id IN 'BA 05%'\\nLIMIT 10;\"] (Background on this error at: http://sqlalche.me/e/e3q8)\n"
     ]
    }
   ],
   "source": [
    "%%sql\n",
    "SELECT course_title AS Course, program_name AS Program, catalog_id AS Code, description AS Description\n",
    "FROM COURSECATALOGS\n",
    "WHERE catalog_id IN 'BA 05%'\n",
    "LIMIT 10;\n"
   ]
  },
  {
   "cell_type": "code",
   "execution_count": 28,
   "metadata": {},
   "outputs": [
    {
     "name": "stdout",
     "output_type": "stream",
     "text": [
      " * sqlite:///CourseData.db\n",
      "Done.\n"
     ]
    },
    {
     "data": {
      "text/html": [
       "<table>\n",
       "    <tr>\n",
       "        <th>Required</th>\n",
       "        <th>Attributes</th>\n",
       "        <th>Course</th>\n",
       "        <th>Program</th>\n",
       "        <th>Code</th>\n",
       "        <th>Description</th>\n",
       "    </tr>\n",
       "    <tr>\n",
       "        <td>prereqs</td>\n",
       "        <td>attributes</td>\n",
       "        <td>course_title</td>\n",
       "        <td>program_name</td>\n",
       "        <td>catalog_id</td>\n",
       "        <td>description</td>\n",
       "    </tr>\n",
       "    <tr>\n",
       "        <td>junior or senior standing, three environmental studies program courses, and program approval.</td>\n",
       "        <td>EVCA Environmental Studies: Capstone, EVPE Environmental Studies Elective</td>\n",
       "        <td>Independent Study</td>\n",
       "        <td>Environmental Studies</td>\n",
       "        <td>EV 0299</td>\n",
       "        <td>A student may conduct a one-semester independent study on a defined research topic or field of study under the supervision of a professor in the Environmental Studies Program. Credit requires prior approval by the Professor which whom the student will work as well as the Director of the Environmental Studies Program. Students must have a GPA of 3.0 or higher.</td>\n",
       "    </tr>\n",
       "    <tr>\n",
       "        <td>Two previous courses in Philosophy.</td>\n",
       "        <td>CAOT Catholic Studies: Non-Religious Studies</td>\n",
       "        <td>Metaphysics</td>\n",
       "        <td>Philosophy</td>\n",
       "        <td>PH 0320</td>\n",
       "        <td>This course concerns itself with being and our knowledge of being, developing in student minds an operative habit of viewing reality in its ultimate context.</td>\n",
       "    </tr>\n",
       "    <tr>\n",
       "        <td>Two courses in music or theatre.</td>\n",
       "        <td>VPC2 Visual and Performing Arts Core: Applied Course</td>\n",
       "        <td>Performing Arts Administration Principles and Practices</td>\n",
       "        <td>Music</td>\n",
       "        <td>MU 0306</td>\n",
       "        <td>This course explores the fundamental principles associated with not-for-profit performing arts organizations. This course is for all arts students, as the study of arts administration core principles sets a foundation of essential knowledge vital for employment within a non-profit arts organization. Such training also is for practicing artists and those with for-profit intentions. Students will come away with knowledge and skills, as well as a strong self-awareness of their leadership and management capacities. Previously VPA 0306.</td>\n",
       "    </tr>\n",
       "    <tr>\n",
       "        <td>Two courses in Philosophy.</td>\n",
       "        <td></td>\n",
       "        <td>Plato</td>\n",
       "        <td>Philosophy</td>\n",
       "        <td>PH 0300</td>\n",
       "        <td>This course covers central ontological and epistemological themes in selected early, middle, and late Platonic dialogues, paying particular attention to Plato&#x27;s inclination to identify virtue with knowledge.</td>\n",
       "    </tr>\n",
       "    <tr>\n",
       "        <td>Two courses in Philosophy.</td>\n",
       "        <td></td>\n",
       "        <td>Aristotle</td>\n",
       "        <td>Philosophy</td>\n",
       "        <td>PH 0301</td>\n",
       "        <td>This course introduces Aristotle through a selection of his works, exploring their relation to other works, their place in the scheme of the sciences, and thoroughly investigating their subject matter.</td>\n",
       "    </tr>\n",
       "    <tr>\n",
       "        <td>Two courses in Philosophy.</td>\n",
       "        <td>ISIF Italian Studies: Italy-Focused</td>\n",
       "        <td>Aquinas</td>\n",
       "        <td>Philosophy</td>\n",
       "        <td>PH 0304</td>\n",
       "        <td>This course focuses on Aquinas&#x27;s most mature work, Summa Theologiae. This work exemplifies the Christian intellectual reaction to Islamic Aristotelianism, while at the same time bearing witness to Thomas&#x27;s belief in the unity of truth. The course examines and analyzes such questions as the existence and intelligibility of God, the nature and powers of the human composite, human destiny, the human act, good and evil, providence and freedom, natural law, and the virtues.</td>\n",
       "    </tr>\n",
       "    <tr>\n",
       "        <td>Two courses in Philosophy.</td>\n",
       "        <td>FREN French Course Taught in English</td>\n",
       "        <td>Descartes</td>\n",
       "        <td>Philosophy</td>\n",
       "        <td>PH 0307</td>\n",
       "        <td>Three years after he finished college, Descartes got stuck in a snowstorm on his way to fight in a war. Alone in his room, he reflected on his education, coming to believe that many of the things he had been taught in college were pretty dubious. He also realized that he had believed many things all his life without giving thought to his reasons for believing them. He decided the best thing he could do was rid himself of all his old beliefs and then, relying only on his own mind, replace them with only those beliefs for which he could find good reasons. This course discusses the development and results of Descartes&#x27; search for truth.</td>\n",
       "    </tr>\n",
       "    <tr>\n",
       "        <td>Two courses in Philosophy.</td>\n",
       "        <td></td>\n",
       "        <td>Leibniz</td>\n",
       "        <td>Philosophy</td>\n",
       "        <td>PH 0309</td>\n",
       "        <td>Can everything in the world be rationally explained? Even the existence of the world itself? G.W. Leibniz (1646-1716) thought so.Together with his understanding of the nature of truth, this led him to some startling conclusions, such as nothing causally interacts with anything else, everything internally reflects everything else, and even though evil exists this is the best of all possible worlds.In this course we examine these conclusions as well as Leibniz&#x27;s theories about such puzzling topics as the nature of the mind, body, God, freedom, and space.</td>\n",
       "    </tr>\n",
       "    <tr>\n",
       "        <td>Two courses in Philosophy.</td>\n",
       "        <td></td>\n",
       "        <td>Hume</td>\n",
       "        <td>Philosophy</td>\n",
       "        <td>PH 0310</td>\n",
       "        <td>This course offers an in-depth understanding of the philosophy of David Hume. Hume, one of the most interesting (and influential) of the 18th-century philosophers, made major contributions to our understanding of causation, morality, and the mind, to name just a few. Hume began with principles that seemed quite plausible but, taking these ideas to their logical conclusions, arrived at a philosophy that is, to say the least, surprising.</td>\n",
       "    </tr>\n",
       "    <tr>\n",
       "        <td>Two courses in Philosophy.</td>\n",
       "        <td></td>\n",
       "        <td>Kant</td>\n",
       "        <td>Philosophy</td>\n",
       "        <td>PH 0311</td>\n",
       "        <td>Almost everyone recognizes that through experience the human mind is shaped by the world. Immanuel Kant, however, argued for the revolutionary claim that the world is shaped by the human mind. In developing this position Kant was led to formulate a radical view concerning the nature of space and time. It also led him to draw striking conclusions about our knowledge of ourselves, objects, causation, God, freedom, and immortality - conclusions that changed philosophy forever. In this class we will study Kant&#x27;s revolution in philosophy.</td>\n",
       "    </tr>\n",
       "    <tr>\n",
       "        <td>Two courses in Philosophy.</td>\n",
       "        <td></td>\n",
       "        <td>Hegel</td>\n",
       "        <td>Philosophy</td>\n",
       "        <td>PH 0312</td>\n",
       "        <td>The philosophy of G.W.F. Hegel, the most famous of the German idealists, directly spawned the philosophy of Karl Marx. Hegel is considered the father of existentialism and influenced contemporary schools of critical theory, continental philosophy, and post-structuralism. This course focuses on Hegel&#x27;s most famous work, Phenomenology of Spirit. Students learn the mechanics of dialectical reasoning by examining Hegel&#x27;s reflections upon time and space, perception, scientific reasoning, the concepts of life and death, the master-slave dialectic, and self-consciousness. The course works through this text in detail, and pays particularly close attention to how Hegel interprets the philosophy of Immanuel Kant.</td>\n",
       "    </tr>\n",
       "    <tr>\n",
       "        <td>Two courses in Philosophy.</td>\n",
       "        <td></td>\n",
       "        <td>Nietzsche</td>\n",
       "        <td>Philosophy</td>\n",
       "        <td>PH 0314</td>\n",
       "        <td>This course deals with the thought of one of the leading philosophical figures of the 19th century, Friedrich Nietzsche.In terms of both style and content, Nietzsche was an innovator who called into question the traditional notions of science, systematic knowledge, ethics, and culture as such.The task of the course is to examine several themes central to Nietzsche&#x27;s work, among them the will to power, the perspectival approach to truth, the concept of genealogy, the revaluation of values, eternal recurrence, and the death of God.</td>\n",
       "    </tr>\n",
       "    <tr>\n",
       "        <td>Two courses in Philosophy.</td>\n",
       "        <td>FREN French Course Taught in English</td>\n",
       "        <td>Bergson</td>\n",
       "        <td>Philosophy</td>\n",
       "        <td>PH 0316</td>\n",
       "        <td>This course explores the work of Henri Bergson (1859-1941).The course primarily takes the form of a close reading of Time and Free Will (1889), Matter and Memory (1911), and The Two Sources of Morality and Religion (1932). The course will also explore the influence of Bergson&#x27;s work on contemporary philosophy, psychology, science, and religion.</td>\n",
       "    </tr>\n",
       "    <tr>\n",
       "        <td>Two courses in Philosophy.</td>\n",
       "        <td></td>\n",
       "        <td>Heidegger</td>\n",
       "        <td>Philosophy</td>\n",
       "        <td>PH 0317</td>\n",
       "        <td>This course explores the work of Martin Heidegger (1889-1976), one of the most influential philosophers of the 20th century. It primarily takes the form of a close reading of Being and Time (1927) and The Origin of the Work of Art (1936). The course hinges on Derrida&#x27;s reading of Heidegger&#x27;s existential analysis of death.</td>\n",
       "    </tr>\n",
       "    <tr>\n",
       "        <td>Two courses in Philosophy.</td>\n",
       "        <td></td>\n",
       "        <td>Knowledge</td>\n",
       "        <td>Philosophy</td>\n",
       "        <td>PH 0321</td>\n",
       "        <td>The focus of this course is to examine the fundamental questions concerning human knowledge. For example: What is knowledge? Can I know anything? Do I know something because I can trace it back to some indubitable foundation or because it fits together with everything else like a piece of a jigsaw puzzle? Can I have knowledge without being able to say how I know it? Do men and women know things in different ways? Is knowledge something I can gain on my own or is knowledge essentially a social activity?</td>\n",
       "    </tr>\n",
       "    <tr>\n",
       "        <td>Two courses in Philosophy.</td>\n",
       "        <td></td>\n",
       "        <td>Philosophy of Mind</td>\n",
       "        <td>Philosophy</td>\n",
       "        <td>PH 0323</td>\n",
       "        <td>This course acquaints students with the most recent philosophical theories on the workings of the mind. Although it emphasizes philosophical theories of the mind, it also pays close attention to the philosophical implications of recent research in sciences such as psychology and neuroscience. This is an exciting topic; join us on this quest to address the Delphic dictum: Know Thyself!</td>\n",
       "    </tr>\n",
       "    <tr>\n",
       "        <td>Two courses in Philosophy.</td>\n",
       "        <td></td>\n",
       "        <td>Philosophy of Language</td>\n",
       "        <td>Philosophy</td>\n",
       "        <td>PH 0331</td>\n",
       "        <td>This course introduces the student to the philosophy of language: its themes, complexities and problems. Employing a historical approach, the course surveys key philosophers who investigate the meaning, source and structure of language. Typically their primary question investigates various ways that the human person, while immersed within a context, understands language. After a brief investigation of ancient and medieval thinkers, the course focuses on a number of modern and contemporary figures who represent the mainstream discussion of the philosophy of language, including representatives of both analytic and continental traditions.</td>\n",
       "    </tr>\n",
       "    <tr>\n",
       "        <td>Two courses in Philosophy.</td>\n",
       "        <td></td>\n",
       "        <td>Advanced Topics in Ethics</td>\n",
       "        <td>Philosophy</td>\n",
       "        <td>PH 0350</td>\n",
       "        <td>This course examines questions pertaining to the status and content of morality, such as the following. Are there universal moral truths, and what makes them true? Is morality objective, or is it constructed by communities or individuals? What makes an action right or wrong? What reasons do we have to be moral? This course examines competing answers to such questions and considers philosophical defenses of them.</td>\n",
       "    </tr>\n",
       "    <tr>\n",
       "        <td>Two courses in Philosophy.</td>\n",
       "        <td>BSAH Black Studies: Arts and Humanities, BSFC Black Studies Focus Course, PJST Peace and Justice Studies, UDIV U.S. Diversity</td>\n",
       "        <td>Critical Race Theory</td>\n",
       "        <td>Philosophy</td>\n",
       "        <td>PH 0360</td>\n",
       "        <td>Although race can be considered as one of several physical features of an individual, this course will investigate the recent research and literature in the field of Critical Race Theory that critiques this purely biological conception. For the purpose of understanding how race functions in our socio-political world, this body of work treats the concept as a social construction, drawing heavily on the phenomenological and existential traditions.Pertinent themes like lived experience, authenticity, and racial privilege will be explored using key texts (by Jean-Paul Sartre, Franz Fanon, Lewis Gordon, and Robert Bernasconi, to name a few).</td>\n",
       "    </tr>\n",
       "    <tr>\n",
       "        <td>Two courses in Philosophy.</td>\n",
       "        <td></td>\n",
       "        <td>Philosophy of Literature</td>\n",
       "        <td>Philosophy</td>\n",
       "        <td>PH 0370</td>\n",
       "        <td>This course examines the philosophy &quot;of&quot; literature (the general nature of poetry and prose) and philosophy &quot;in&quot; literature (specific works that harbor philosophical ideas).</td>\n",
       "    </tr>\n",
       "    <tr>\n",
       "        <td>Two courses in Philosophy.</td>\n",
       "        <td></td>\n",
       "        <td>Capstone Experience</td>\n",
       "        <td>Philosophy</td>\n",
       "        <td>PH 0399</td>\n",
       "        <td>This course is the culminating experience in a student&#x27;s study of philosophy at Fairfield University. Students will be asked to reflect on their philosophical writings and activities over the course of their study, to synthesize and expand a selection of these, to critically and collegially engage with other students for the mutual improvement of their philosophical projects, and to prepare for a philosophical life after graduation regardless of their career choices. Enrollment by permission only.</td>\n",
       "    </tr>\n",
       "    <tr>\n",
       "        <td>Two courses in Philosophy or Religious Studies.</td>\n",
       "        <td>EVPE Environmental Studies Elective, LCEL LACS Minor: Elective, WDIV World Diversity</td>\n",
       "        <td>Reflections of the Environment: Focus on Latin America and the Caribbean</td>\n",
       "        <td>Applied Ethics</td>\n",
       "        <td>AE 0384</td>\n",
       "        <td>This seminar examines environmental, ethical, and socio-economic issues of Latin America and the Caribbean. It integrates the hard sciences (biology, chemistry, physics, and physical geography), the social sciences (sociology, politics, economics, and business), and the humanities (history, ethics, theology, and literature). The capstone experience provides students with an overview of multiple perspectives on the environment of Latin America and the Caribbean with a focus on some specific countries and issues. Students conduct independent research projects that demonstrate their mastery of at least one component of each disciplinary group. This seminar counts for the capstone requirement for the minor in Applied Ethics and the minor in Latin American and Caribbean Studies.</td>\n",
       "    </tr>\n",
       "    <tr>\n",
       "        <td>Two courses in Philosophy or Religious Studies.</td>\n",
       "        <td></td>\n",
       "        <td>Seminar in Business Law, Regulation, and Ethics</td>\n",
       "        <td>Applied Ethics</td>\n",
       "        <td>AE 0391</td>\n",
       "        <td>This seminar investigates ethical dilemmas of business management, primarily as encountered in real cases. Themes vary from year to year. Format: guest presentations by members of the business community, followed by discussion.</td>\n",
       "    </tr>\n",
       "    <tr>\n",
       "        <td>Two courses in Philosophy or Religious Studies.</td>\n",
       "        <td></td>\n",
       "        <td>Seminar in War, Peace, and Public Policy</td>\n",
       "        <td>Applied Ethics</td>\n",
       "        <td>AE 0393</td>\n",
       "        <td>This seminar examines the philosophical, political, and religious aspects of war and peace. Topics include the origin and development of just war theory, the pacifist tradition, revolution, guerrilla warfare, and military preparedness. The course focuses on the increased complexity of these issues in the 20th century and especially in the nuclear age.</td>\n",
       "    </tr>\n",
       "    <tr>\n",
       "        <td>Two courses in Philosophy or Religious Studies.</td>\n",
       "        <td></td>\n",
       "        <td>Seminar in Legal Ethics</td>\n",
       "        <td>Applied Ethics</td>\n",
       "        <td>AE 0395</td>\n",
       "        <td>This seminar examines the peculiar ethical dilemmas confronting lawyers: confidentiality, protection of the guilty, roles in public policy, conflict of interest, and, in general, responsibility for the functioning of the adversary system.</td>\n",
       "    </tr>\n",
       "    <tr>\n",
       "        <td>Two courses in Philosophy or Religious Studies.</td>\n",
       "        <td>HSTE Health Studies: Traditions, Delivery, and Ethics, UDIV U.S. Diversity</td>\n",
       "        <td>Seminar in Bioethics I: Ethical Issues in Health Care Practice</td>\n",
       "        <td>Applied Ethics</td>\n",
       "        <td>AE 0397</td>\n",
       "        <td>This seminar presents an intensive study of select problems in the ethics of medicine and healthcare practice, including abortion; euthanasia; prenatal diagnosis; reproductive engineering and surrogate motherhood; and treatment decisions for very ill newborns.</td>\n",
       "    </tr>\n",
       "    <tr>\n",
       "        <td>Two courses in Philosophy or Religious Studies.</td>\n",
       "        <td>HSTE Health Studies: Traditions, Delivery, and Ethics</td>\n",
       "        <td>Seminar in Bioethics II: Ethical Issues in Biomedical Research and Resource Allocation</td>\n",
       "        <td>Applied Ethics</td>\n",
       "        <td>AE 0398</td>\n",
       "        <td>This seminar offers an intensive study of select problems in the ethics, law, and public policy surrounding healthcare, especially in the United States. Topics include research with human subjects, the professional/patient relationship, allocation of scarce resources, and cost containment.</td>\n",
       "    </tr>\n",
       "    <tr>\n",
       "        <td>Three politics courses.</td>\n",
       "        <td></td>\n",
       "        <td>Internship</td>\n",
       "        <td>Politics</td>\n",
       "        <td>PO 0298</td>\n",
       "        <td>Politics majors gain firsthand experience working off campus in fields related to their major. Typically, an internship requires 10 to 12 hours per week on site. The internship requires a journal and a term paper. An on-site supervisor and a politics professor evaluate student work. Students must have a GPA or 3.0 or higher. Enrollment by departmental permission only.</td>\n",
       "    </tr>\n",
       "    <tr>\n",
       "        <td>Three courses in Studio Art.</td>\n",
       "        <td>GDSA Graphic Design: Studio Arts, VPC2 Visual and Performing Arts Core: Applied Course</td>\n",
       "        <td>Advanced Projects Seminar</td>\n",
       "        <td>Studio Art</td>\n",
       "        <td>SA 0299</td>\n",
       "        <td>Required for students majoring and an option for students minoring in Studio Art, this course helps students develop a unique body of work representative of their explorations, discoveries and development. Emphasis is on preparing a portfolio reflective of their individual practice. Students read and discuss contemporary and art historical issues. Visiting artists and critics are a feature of the class. Open to majors and minors only.</td>\n",
       "    </tr>\n",
       "    <tr>\n",
       "        <td>Teaching certification.</td>\n",
       "        <td></td>\n",
       "        <td>Critical Literacies Beyond the Classroom Walls</td>\n",
       "        <td>Education</td>\n",
       "        <td>ED 0529</td>\n",
       "        <td>Designed for K-12 teachers and community leaders, this course explores socio-cultural and developmental models of how varied literacies are constructed, understood and used in and outside schools in the United States. Through the design of extra-curricular and in-school projects and activities for students, families and community members, candidates in this course will recognize, value and employ culturally sensitive understandings of literacies and their powerful role in our society.</td>\n",
       "    </tr>\n",
       "    <tr>\n",
       "        <td>TX 0510.</td>\n",
       "        <td></td>\n",
       "        <td>Corporate Tax II</td>\n",
       "        <td>Taxation</td>\n",
       "        <td>TX 0512</td>\n",
       "        <td>This course introduces students to advanced concepts of the federal income taxation of corporations, partnerships, trusts and estates. An examination of some advanced topics in estate and gift taxation will also be undertaken. The course will focus on examining case situations and planning opportunities available. After the course, students should be able to identify tax issues in these advanced areas and suggest alternative plans for consideration and implementation. Open only to students enrolled in MS Accounting, MBA Taxation, or SYC Taxation programs, or by permission from the Department Chair or his or her designee.</td>\n",
       "    </tr>\n",
       "    <tr>\n",
       "        <td>TA 0155.</td>\n",
       "        <td>GDTA Graphic Design: Theatre</td>\n",
       "        <td>Costume Design</td>\n",
       "        <td>Theatre</td>\n",
       "        <td>TA 0253</td>\n",
       "        <td>Before a character even speaks, we have a strong sense of who that person is, based on our impression of the costume design. This class focuses on how costume designers engineer strong connections between the world of the play and the audience&#x27;s experience. Play analysis, historical research, visual research, idea-generation, design development and rendering styles are addressed. Emphasis is placed on a sound creative process, as well as grounding our designs with historical accuracy.</td>\n",
       "    </tr>\n",
       "    <tr>\n",
       "        <td>TA 0155.</td>\n",
       "        <td>GDTA Graphic Design: Theatre</td>\n",
       "        <td>Scene Design</td>\n",
       "        <td>Theatre</td>\n",
       "        <td>TA 0288</td>\n",
       "        <td>In a play, scenery provides the context, allowing the audience to connect to the characters and their dramatic journey. Not merely locale, scenery is a visual accompaniment to the action of the play. In this course, students develop their drafting, rendering and model-making skills, as these are the designer&#x27;s principle communication tools. The course includes play reading, analysis and historical research. Emphasis is placed on a sound creative process, as well as grounding designs with historical accuracy.</td>\n",
       "    </tr>\n",
       "    <tr>\n",
       "        <td>TA 0150 or TA 0155.</td>\n",
       "        <td></td>\n",
       "        <td>Stage Lighting</td>\n",
       "        <td>Theatre</td>\n",
       "        <td>TA 0256</td>\n",
       "        <td>With light on stage, we create a vast array of environmental moods. In order to accomplish these effects, students must grasp two separate fields of information. First, there are technical elements: the nature of light, electricity, reflection, refraction, lighting instruments and control systems. Then there is light in the context of the theatrical production. This involves play analysis, visual research, and manipulating light in the theatre space. Both the technical and aesthetic aspects are covered in this class. Safe use of electricity and lighting equipment is emphasized.</td>\n",
       "    </tr>\n",
       "    <tr>\n",
       "        <td>TA 0030.</td>\n",
       "        <td>VPC2 Visual and Performing Arts Core: Applied Course</td>\n",
       "        <td>Acting II</td>\n",
       "        <td>Theatre</td>\n",
       "        <td>TA 0230</td>\n",
       "        <td>This is an intensive acting course that builds upon the basic acting principles taught in Acting I. In this course, students apply what they have learned about the art, analysis, and interpretation of acting to a variety of dramatic styles. Students explore several period acting styles through exercises, scenes and monologues. Students gain a well-rounded and thoughtful understanding of acting as a practical and intellectual art that prepares them for further work in theatre and related performing arts.</td>\n",
       "    </tr>\n",
       "    <tr>\n",
       "        <td>TA 0030.</td>\n",
       "        <td>VPC2 Visual and Performing Arts Core: Applied Course</td>\n",
       "        <td>Acting for the Camera</td>\n",
       "        <td>Theatre</td>\n",
       "        <td>TA 0231</td>\n",
       "        <td>This course is an introduction to the specialized techniques used in successful on-camera acting. On-camera exercises emphasize the importance of listening, truthful moment-to-moment response, and effective communication skills. Initial classes examine the difference between acting for the stage and acting for the camera. Students practice a variety of on-camera styles including comedy, crime drama, and commercials. The course builds towards longer scene work from a screenplay. Topics include script analysis, nuance and depth of performance, relaxation and confidence on-camera.</td>\n",
       "    </tr>\n",
       "    <tr>\n",
       "        <td>TA 0030.</td>\n",
       "        <td>VPC2 Visual and Performing Arts Core: Applied Course</td>\n",
       "        <td>Directing</td>\n",
       "        <td>Theatre</td>\n",
       "        <td>TA 0240</td>\n",
       "        <td>This course for advanced students covers the theory, practice, and history of directing for the theatre. In a workshop format, students explore various ways of bringing a play script from conception to full production. The course includes sessions in text analysis, working with actors and designers, and the role and responsibility of the director to the overall production. Students direct several in-class scenes and a one-act play that is produced in Director&#x27;s Cut, part of Theatre Fairfield&#x27;s season.</td>\n",
       "    </tr>\n",
       "    <tr>\n",
       "        <td>TA 0030.</td>\n",
       "        <td>VPC2 Visual and Performing Arts Core: Applied Course</td>\n",
       "        <td>Acting for the Camera</td>\n",
       "        <td>Film, Television, and Media Arts</td>\n",
       "        <td>FTM 0237</td>\n",
       "        <td>This course is an experiential introduction to the spe­cialized techniques used in successful on-camera acting. On-camera exercises will emphasize the importance of listening, truthful moment-to-moment response, and effective communication skills. Students will practice their skills and apply their training to com­mercials, current television scripts, and screenplays. Initial classes examine the difference between acting for the stage and acting for the camera. Students will practice a variety of on-camera styles including com­edy, crime drama, and commercials. The course builds towards longer scene work from a screenplay. Topics include script analysis, nuance and depth of perfor­mance, and relaxation and confidence on-camera.</td>\n",
       "    </tr>\n",
       "    <tr>\n",
       "        <td>Sophomore standing.</td>\n",
       "        <td></td>\n",
       "        <td>Introduction to Management</td>\n",
       "        <td>Management</td>\n",
       "        <td>MG 0101</td>\n",
       "        <td>This course integrates, through theory and its application, the various topics, concepts, and modalities that make up the Management discipline. Its purpose is twofold: 1) to provide all business students with a strong grounding in how individuals and organizations function to support the strategic goals of business, and 2) to provide a foundation for further study by management majors and minors. The course introduces students to team/group work; the relationship of business to local, national, and global communities; the ethical implications of business decisions and models; organizational behavior; human resource management; leadership and organizational culture.</td>\n",
       "    </tr>\n",
       "    <tr>\n",
       "        <td>Sophomore standing.</td>\n",
       "        <td></td>\n",
       "        <td>Principles of Marketing</td>\n",
       "        <td>Marketing</td>\n",
       "        <td>MK 0101</td>\n",
       "        <td>This course introduces the fundamental concepts and theories that drive day-to-day marketing decisions. A thorough understanding of the marketplace (consumer or business-to-business) is at the heart of such decision making. In this course, students will learn to identify and satisfy customer&#x27;s wants and needs. The core tools that enable managers to move from decision-making to action are addressed, namely: product development, pricing, channel management and structure, and promotions (including advertising and sales). Additional topics include global marketing, societal and marketing ethics, and digital marketing. Students are required to work in a team to construct a marketplace analysis for a chosen product/service.</td>\n",
       "    </tr>\n",
       "    <tr>\n",
       "        <td>Sophomore standing or higher.</td>\n",
       "        <td></td>\n",
       "        <td>Introduction to Health Studies</td>\n",
       "        <td>Health Studies</td>\n",
       "        <td>HS 0101</td>\n",
       "        <td>This course takes an interdisciplinary approach to the evolution of healthcare in America. The course will apply a social science lens to the assessment of various healthcare co-cultures, including: providers, patients, and insurers. The impact of technology, pharmaceuticals, and medical devices on patient longevity, wellness, and disease management will be explored. In addition, the dialectical tensions created by acute care/disease-focused vs. quality-of-life/wellness-centric healthcare delivery models will be examined. The evolving economic burdens of: an aging population, uninsured Americans, expanding technology, provider specialization, and fewer healthcare gatekeepers on the U.S. healthcare system will also be assessed.</td>\n",
       "    </tr>\n",
       "    <tr>\n",
       "        <td>Senior standing.</td>\n",
       "        <td>ISIF Italian Studies: Italy-Focused</td>\n",
       "        <td>Capstone Seminar</td>\n",
       "        <td>Italian</td>\n",
       "        <td>IT 0399</td>\n",
       "        <td>Majors in Italian participate in an interdisciplinary seminar in the spring of their senior year. The focus of this seminar varies according to the professor, but possible topics include European Film, The Grand Tour, Immigration in Europe, Capital Cities, Language Teaching and Technology, Europe and America. Students research their capstone papers in target language and present final work in English. The instructor may, in some cases, evaluate work in the target language in consultation with colleagues in the area of expertise in the department. Seminar is conducted in English.</td>\n",
       "    </tr>\n",
       "    <tr>\n",
       "        <td>Senior standing.</td>\n",
       "        <td></td>\n",
       "        <td>Independent Study</td>\n",
       "        <td>Accounting</td>\n",
       "        <td>AC 0397</td>\n",
       "        <td>This course provides students with the opportunity to study and research a specialized topic under faculty guidance. Students must have a GPA or 2.5 or higher. Open to Accounting majors only. Enrollment by permission only.</td>\n",
       "    </tr>\n",
       "    <tr>\n",
       "        <td>Senior standing.</td>\n",
       "        <td></td>\n",
       "        <td>Independent Study</td>\n",
       "        <td>Accounting</td>\n",
       "        <td>AC 0398</td>\n",
       "        <td>This course provides students with the opportunity to study and research a specialized topic under faculty guidance. Students must have a GPA or 2.5 or higher. Open to Accounting majors only. Enrollment by permission only.</td>\n",
       "    </tr>\n",
       "    <tr>\n",
       "        <td>Senior standing.</td>\n",
       "        <td></td>\n",
       "        <td>Critical Issues in Management</td>\n",
       "        <td>Management</td>\n",
       "        <td>MG 0340</td>\n",
       "        <td>This course applies the knowledge students have acquired from previous management courses by examining integrative topics and issues in both domestic and global contexts. The focus of the course reflects traditional core concepts and their application to emerging critical issues in the field of business management. Case studies and experiential learning are used to enhance the classroom pedagogy.</td>\n",
       "    </tr>\n",
       "    <tr>\n",
       "        <td>Senior standing.</td>\n",
       "        <td>WDIV World Diversity</td>\n",
       "        <td>Managing People for Global Business</td>\n",
       "        <td>Management</td>\n",
       "        <td>MG 0385</td>\n",
       "        <td>This course recognizes the complexities of managing human resources in the global business arena. Modern-day business is characterized by the relentless pace of globalization, through formation of international collaborations, mergers, joint ventures, and the opening up of new markets such as China, India, and Eastern Europe. There has been a dramatic increase in virtual work teams across several countries, globally outsourced work, and cultural diversity in the workplace as more people move across national borders to work. As a result, human resource management practices like recruitment, training, compensation, performance management, and employee relations are more complex. Additionally legal and regulatory requirements of foreign countries, cultural differences, expatriate management, and workforce mobility become important considerations. This course analyzes these complexities along with in-depth study of the people-related issues in different countries in Asia, Africa, Latin America, and Eastern Europe.</td>\n",
       "    </tr>\n",
       "    <tr>\n",
       "        <td>Senior standing.</td>\n",
       "        <td>WDIV World Diversity</td>\n",
       "        <td>Cross-Cultural Management</td>\n",
       "        <td>Management</td>\n",
       "        <td>MG 0390</td>\n",
       "        <td>Globalization, the internationalization of markets and corporations, has changed the way modern corporations do business. This course examines major themes and issues in the area of cross-cultural management. It focuses on three perspectives: the values, attitudes, and behaviors that are common to a cluster of countries, specific to one country, or specific to a major cultural subgroup or subgroups within one country. It explores what happens when cultures clash, and the need to understand different approaches to doing business in a diverse world.</td>\n",
       "    </tr>\n",
       "    <tr>\n",
       "        <td>Senior standing.</td>\n",
       "        <td></td>\n",
       "        <td>Capstone Seminar</td>\n",
       "        <td>German</td>\n",
       "        <td>GM 0399</td>\n",
       "        <td>Majors in German participate in an interdisciplinary seminar in the spring of their senior year. The focus of this seminar varies according to the professor, but possible topics include European Film, The Grand Tour, Immigration in Europe, Capital Cities, Language Teaching and Technology, Europe and America. Students research their capstone papers in target language and present final work in English. The instructor may, in some cases, evaluate work in the target language in consultation with colleagues in the area of expertise in the department. Seminar is conducted in English.</td>\n",
       "    </tr>\n",
       "    <tr>\n",
       "        <td>Senior standing.</td>\n",
       "        <td></td>\n",
       "        <td>Design of Mechatronics Systems</td>\n",
       "        <td>Engineering</td>\n",
       "        <td>EG 0305</td>\n",
       "        <td>This course covers development of mechatronics theory and applications to systems dependent upon the integration of mechanical, electrical and computer engineering. Students assemble hardware components to create a product design that fulfills a specified task in a mechatronics system. Students develop design skills in mechanisms, electrical devices, and software to create, test, and verify system function. Formerly MC 0305.</td>\n",
       "    </tr>\n",
       "</table>"
      ],
      "text/plain": [
       "[('prereqs', 'attributes', 'course_title', 'program_name', 'catalog_id', 'description'),\n",
       " ('junior or senior standing, three environmental studies program courses, and program approval.', 'EVCA Environmental Studies: Capstone, EVPE Environmental Studies Elective', 'Independent Study', 'Environmental Studies', 'EV 0299', 'A student may conduct a one-semester independent study on a defined research topic or field of study under the supervision of a professor in the Envi ... (63 characters truncated) ... e Professor which whom the student will work as well as the Director of the Environmental Studies Program. Students must have a GPA of 3.0 or higher.'),\n",
       " ('Two previous courses in Philosophy.', 'CAOT Catholic Studies: Non-Religious Studies', 'Metaphysics', 'Philosophy', 'PH 0320', 'This course concerns itself with being and our knowledge of being, developing in student minds an operative habit of viewing reality in its ultimate context.'),\n",
       " ('Two courses in music or theatre.', 'VPC2 Visual and Performing Arts Core: Applied Course', 'Performing Arts Administration Principles and Practices', 'Music', 'MU 0306', 'This course explores the fundamental principles associated with not-for-profit performing arts organizations. This course is for all arts students, a ... (239 characters truncated) ... ents will come away with knowledge and skills, as well as a strong self-awareness of their leadership and management capacities. Previously VPA 0306.'),\n",
       " ('Two courses in Philosophy.', '', 'Plato', 'Philosophy', 'PH 0300', \"This course covers central ontological and epistemological themes in selected early, middle, and late Platonic dialogues, paying particular attention to Plato's inclination to identify virtue with knowledge.\"),\n",
       " ('Two courses in Philosophy.', '', 'Aristotle', 'Philosophy', 'PH 0301', 'This course introduces Aristotle through a selection of his works, exploring their relation to other works, their place in the scheme of the sciences, and thoroughly investigating their subject matter.'),\n",
       " ('Two courses in Philosophy.', 'ISIF Italian Studies: Italy-Focused', 'Aquinas', 'Philosophy', 'PH 0304', \"This course focuses on Aquinas's most mature work, Summa Theologiae. This work exemplifies the Christian intellectual reaction to Islamic Aristotelia ... (175 characters truncated) ... God, the nature and powers of the human composite, human destiny, the human act, good and evil, providence and freedom, natural law, and the virtues.\"),\n",
       " ('Two courses in Philosophy.', 'FREN French Course Taught in English', 'Descartes', 'Philosophy', 'PH 0307', \"Three years after he finished college, Descartes got stuck in a snowstorm on his way to fight in a war. Alone in his room, he reflected on his educat ... (343 characters truncated) ...  them with only those beliefs for which he could find good reasons. This course discusses the development and results of Descartes' search for truth.\"),\n",
       " ('Two courses in Philosophy.', '', 'Leibniz', 'Philosophy', 'PH 0309', \"Can everything in the world be rationally explained? Even the existence of the world itself? G.W. Leibniz (1646-1716) thought so.Together with his un ... (260 characters truncated) ... ourse we examine these conclusions as well as Leibniz's theories about such puzzling topics as the nature of the mind, body, God, freedom, and space.\"),\n",
       " ('Two courses in Philosophy.', '', 'Hume', 'Philosophy', 'PH 0310', 'This course offers an in-depth understanding of the philosophy of David Hume. Hume, one of the most interesting (and influential) of the 18th-century ... (141 characters truncated) ... ples that seemed quite plausible but, taking these ideas to their logical conclusions, arrived at a philosophy that is, to say the least, surprising.'),\n",
       " ('Two courses in Philosophy.', '', 'Kant', 'Philosophy', 'PH 0311', \"Almost everyone recognizes that through experience the human mind is shaped by the world. Immanuel Kant, however, argued for the revolutionary claim  ... (241 characters truncated) ...  causation, God, freedom, and immortality - conclusions that changed philosophy forever. In this class we will study Kant's revolution in philosophy.\"),\n",
       " ('Two courses in Philosophy.', '', 'Hegel', 'Philosophy', 'PH 0312', \"The philosophy of G.W.F. Hegel, the most famous of the German idealists, directly spawned the philosophy of Karl Marx. Hegel is considered the father ... (414 characters truncated) ... ousness. The course works through this text in detail, and pays particularly close attention to how Hegel interprets the philosophy of Immanuel Kant.\"),\n",
       " ('Two courses in Philosophy.', '', 'Nietzsche', 'Philosophy', 'PH 0314', \"This course deals with the thought of one of the leading philosophical figures of the 19th century, Friedrich Nietzsche.In terms of both style and co ... (237 characters truncated) ... the will to power, the perspectival approach to truth, the concept of genealogy, the revaluation of values, eternal recurrence, and the death of God.\"),\n",
       " ('Two courses in Philosophy.', 'FREN French Course Taught in English', 'Bergson', 'Philosophy', 'PH 0316', \"This course explores the work of Henri Bergson (1859-1941).The course primarily takes the form of a close reading of Time and Free Will (1889), Matte ... (48 characters truncated) ... lity and Religion (1932). The course will also explore the influence of Bergson's work on contemporary philosophy, psychology, science, and religion.\"),\n",
       " ('Two courses in Philosophy.', '', 'Heidegger', 'Philosophy', 'PH 0317', \"This course explores the work of Martin Heidegger (1889-1976), one of the most influential philosophers of the 20th century. It primarily takes the f ... (25 characters truncated) ...  Being and Time (1927) and The Origin of the Work of Art (1936). The course hinges on Derrida's reading of Heidegger's existential analysis of death.\"),\n",
       " ('Two courses in Philosophy.', '', 'Knowledge', 'Philosophy', 'PH 0321', 'The focus of this course is to examine the fundamental questions concerning human knowledge. For example: What is knowledge? Can I know anything? Do  ... (209 characters truncated) ... I know it? Do men and women know things in different ways? Is knowledge something I can gain on my own or is knowledge essentially a social activity?'),\n",
       " ('Two courses in Philosophy.', '', 'Philosophy of Mind', 'Philosophy', 'PH 0323', 'This course acquaints students with the most recent philosophical theories on the workings of the mind. Although it emphasizes philosophical theories ... (89 characters truncated) ... search in sciences such as psychology and neuroscience. This is an exciting topic; join us on this quest to address the Delphic dictum: Know Thyself!'),\n",
       " ('Two courses in Philosophy.', '', 'Philosophy of Language', 'Philosophy', 'PH 0331', 'This course introduces the student to the philosophy of language: its themes, complexities and problems. Employing a historical approach, the course  ... (345 characters truncated) ... figures who represent the mainstream discussion of the philosophy of language, including representatives of both analytic and continental traditions.'),\n",
       " ('Two courses in Philosophy.', '', 'Advanced Topics in Ethics', 'Philosophy', 'PH 0350', 'This course examines questions pertaining to the status and content of morality, such as the following. Are there universal moral truths, and what ma ... (117 characters truncated) ... or wrong? What reasons do we have to be moral? This course examines competing answers to such questions and considers philosophical defenses of them.'),\n",
       " ('Two courses in Philosophy.', 'BSAH Black Studies: Arts and Humanities, BSFC Black Studies Focus Course, PJST Peace and Justice Studies, UDIV U.S. Diversity', 'Critical Race Theory', 'Philosophy', 'PH 0360', 'Although race can be considered as one of several physical features of an individual, this course will investigate the recent research and literature ... (346 characters truncated) ... ticity, and racial privilege will be explored using key texts (by Jean-Paul Sartre, Franz Fanon, Lewis Gordon, and Robert Bernasconi, to name a few).'),\n",
       " ('Two courses in Philosophy.', '', 'Philosophy of Literature', 'Philosophy', 'PH 0370', 'This course examines the philosophy \"of\" literature (the general nature of poetry and prose) and philosophy \"in\" literature (specific works that harbor philosophical ideas).'),\n",
       " ('Two courses in Philosophy.', '', 'Capstone Experience', 'Philosophy', 'PH 0399', \"This course is the culminating experience in a student's study of philosophy at Fairfield University. Students will be asked to reflect on their phil ... (204 characters truncated) ... r philosophical projects, and to prepare for a philosophical life after graduation regardless of their career choices. Enrollment by permission only.\"),\n",
       " ('Two courses in Philosophy or Religious Studies.', 'EVPE Environmental Studies Elective, LCEL LACS Minor: Elective, WDIV World Diversity', 'Reflections of the Environment: Focus on Latin America and the Caribbean', 'Applied Ethics', 'AE 0384', 'This seminar examines environmental, ethical, and socio-economic issues of Latin America and the Caribbean. It integrates the hard sciences (biology, ... (486 characters truncated) ... linary group. This seminar counts for the capstone requirement for the minor in Applied Ethics and the minor in Latin American and Caribbean Studies.'),\n",
       " ('Two courses in Philosophy or Religious Studies.', '', 'Seminar in Business Law, Regulation, and Ethics', 'Applied Ethics', 'AE 0391', 'This seminar investigates ethical dilemmas of business management, primarily as encountered in real cases. Themes vary from year to year. Format: guest presentations by members of the business community, followed by discussion.'),\n",
       " ('Two courses in Philosophy or Religious Studies.', '', 'Seminar in War, Peace, and Public Policy', 'Applied Ethics', 'AE 0393', 'This seminar examines the philosophical, political, and religious aspects of war and peace. Topics include the origin and development of just war the ... (55 characters truncated) ... are, and military preparedness. The course focuses on the increased complexity of these issues in the 20th century and especially in the nuclear age.'),\n",
       " ('Two courses in Philosophy or Religious Studies.', '', 'Seminar in Legal Ethics', 'Applied Ethics', 'AE 0395', 'This seminar examines the peculiar ethical dilemmas confronting lawyers: confidentiality, protection of the guilty, roles in public policy, conflict of interest, and, in general, responsibility for the functioning of the adversary system.'),\n",
       " ('Two courses in Philosophy or Religious Studies.', 'HSTE Health Studies: Traditions, Delivery, and Ethics, UDIV U.S. Diversity', 'Seminar in Bioethics I: Ethical Issues in Health Care Practice', 'Applied Ethics', 'AE 0397', 'This seminar presents an intensive study of select problems in the ethics of medicine and healthcare practice, including abortion; euthanasia; prenatal diagnosis; reproductive engineering and surrogate motherhood; and treatment decisions for very ill newborns.'),\n",
       " ('Two courses in Philosophy or Religious Studies.', 'HSTE Health Studies: Traditions, Delivery, and Ethics', 'Seminar in Bioethics II: Ethical Issues in Biomedical Research and Resource Allocation', 'Applied Ethics', 'AE 0398', 'This seminar offers an intensive study of select problems in the ethics, law, and public policy surrounding healthcare, especially in the United States. Topics include research with human subjects, the professional/patient relationship, allocation of scarce resources, and cost containment.'),\n",
       " ('Three politics courses.', '', 'Internship', 'Politics', 'PO 0298', 'Politics majors gain firsthand experience working off campus in fields related to their major. Typically, an internship requires 10 to 12 hours per w ... (72 characters truncated) ... ite supervisor and a politics professor evaluate student work. Students must have a GPA or 3.0 or higher. Enrollment by departmental permission only.'),\n",
       " ('Three courses in Studio Art.', 'GDSA Graphic Design: Studio Arts, VPC2 Visual and Performing Arts Core: Applied Course', 'Advanced Projects Seminar', 'Studio Art', 'SA 0299', 'Required for students majoring and an option for students minoring in Studio Art, this course helps students develop a unique body of work representa ... (140 characters truncated) ... nts read and discuss contemporary and art historical issues. Visiting artists and critics are a feature of the class. Open to majors and minors only.'),\n",
       " ('Teaching certification.', '', 'Critical Literacies Beyond the Classroom Walls', 'Education', 'ED 0529', 'Designed for K-12 teachers and community leaders, this course explores socio-cultural and developmental models of how varied literacies are construct ... (191 characters truncated) ...  candidates in this course will recognize, value and employ culturally sensitive understandings of literacies and their powerful role in our society.'),\n",
       " ('TX 0510.', '', 'Corporate Tax II', 'Taxation', 'TX 0512', 'This course introduces students to advanced concepts of the federal income taxation of corporations, partnerships, trusts and estates. An examination ... (330 characters truncated) ... nly to students enrolled in MS Accounting, MBA Taxation, or SYC Taxation programs, or by permission from the Department Chair or his or her designee.'),\n",
       " ('TA 0155.', 'GDTA Graphic Design: Theatre', 'Costume Design', 'Theatre', 'TA 0253', \"Before a character even speaks, we have a strong sense of who that person is, based on our impression of the costume design. This class focuses on ho ... (191 characters truncated) ... opment and rendering styles are addressed. Emphasis is placed on a sound creative process, as well as grounding our designs with historical accuracy.\"),\n",
       " ('TA 0155.', 'GDTA Graphic Design: Theatre', 'Scene Design', 'Theatre', 'TA 0288', \"In a play, scenery provides the context, allowing the audience to connect to the characters and their dramatic journey. Not merely locale, scenery is ... (215 characters truncated) ... lay reading, analysis and historical research. Emphasis is placed on a sound creative process, as well as grounding designs with historical accuracy.\"),\n",
       " ('TA 0150 or TA 0155.', '', 'Stage Lighting', 'Theatre', 'TA 0256', 'With light on stage, we create a vast array of environmental moods. In order to accomplish these effects, students must grasp two separate fields of  ... (286 characters truncated) ...  the theatre space. Both the technical and aesthetic aspects are covered in this class. Safe use of electricity and lighting equipment is emphasized.'),\n",
       " ('TA 0030.', 'VPC2 Visual and Performing Arts Core: Applied Course', 'Acting II', 'Theatre', 'TA 0230', 'This is an intensive acting course that builds upon the basic acting principles taught in Acting I. In this course, students apply what they have lea ... (210 characters truncated) ... nd thoughtful understanding of acting as a practical and intellectual art that prepares them for further work in theatre and related performing arts.'),\n",
       " ('TA 0030.', 'VPC2 Visual and Performing Arts Core: Applied Course', 'Acting for the Camera', 'Theatre', 'TA 0231', 'This course is an introduction to the specialized techniques used in successful on-camera acting. On-camera exercises emphasize the importance of lis ... (286 characters truncated) ... ds towards longer scene work from a screenplay. Topics include script analysis, nuance and depth of performance, relaxation and confidence on-camera.'),\n",
       " ('TA 0030.', 'VPC2 Visual and Performing Arts Core: Applied Course', 'Directing', 'Theatre', 'TA 0240', \"This course for advanced students covers the theory, practice, and history of directing for the theatre. In a workshop format, students explore vario ... (208 characters truncated) ... verall production. Students direct several in-class scenes and a one-act play that is produced in Director's Cut, part of Theatre Fairfield's season.\"),\n",
       " ('TA 0030.', 'VPC2 Visual and Performing Arts Core: Applied Course', 'Acting for the Camera', 'Film, Television, and Media Arts', 'FTM 0237', 'This course is an experiential introduction to the spe\\xadcialized techniques used in successful on-camera acting. On-camera exercises will emphasize ... (451 characters truncated) ... ds longer scene work from a screenplay. Topics include script analysis, nuance and depth of perfor\\xadmance, and relaxation and confidence on-camera.'),\n",
       " ('Sophomore standing.', '', 'Introduction to Management', 'Management', 'MG 0101', 'This course integrates, through theory and its application, the various topics, concepts, and modalities that make up the Management discipline. Its  ... (376 characters truncated) ... the ethical implications of business decisions and models; organizational behavior; human resource management; leadership and organizational culture.'),\n",
       " ('Sophomore standing.', '', 'Principles of Marketing', 'Marketing', 'MK 0101', \"This course introduces the fundamental concepts and theories that drive day-to-day marketing decisions. A thorough understanding of the marketplace ( ... (429 characters truncated) ... nd marketing ethics, and digital marketing. Students are required to work in a team to construct a marketplace analysis for a chosen product/service.\"),\n",
       " ('Sophomore standing or higher.', '', 'Introduction to Health Studies', 'Health Studies', 'HS 0101', 'This course takes an interdisciplinary approach to the evolution of healthcare in America. The course will apply a social science lens to the assessm ... (438 characters truncated) ... sured Americans, expanding technology, provider specialization, and fewer healthcare gatekeepers on the U.S. healthcare system will also be assessed.'),\n",
       " ('Senior standing.', 'ISIF Italian Studies: Italy-Focused', 'Capstone Seminar', 'Italian', 'IT 0399', 'Majors in Italian participate in an interdisciplinary seminar in the spring of their senior year. The focus of this seminar varies according to the p ... (287 characters truncated) ... es, evaluate work in the target language in consultation with colleagues in the area of expertise in the department. Seminar is conducted in English.'),\n",
       " ('Senior standing.', '', 'Independent Study', 'Accounting', 'AC 0397', 'This course provides students with the opportunity to study and research a specialized topic under faculty guidance. Students must have a GPA or 2.5 or higher. Open to Accounting majors only. Enrollment by permission only.'),\n",
       " ('Senior standing.', '', 'Independent Study', 'Accounting', 'AC 0398', 'This course provides students with the opportunity to study and research a specialized topic under faculty guidance. Students must have a GPA or 2.5 or higher. Open to Accounting majors only. Enrollment by permission only.'),\n",
       " ('Senior standing.', '', 'Critical Issues in Management', 'Management', 'MG 0340', 'This course applies the knowledge students have acquired from previous management courses by examining integrative topics and issues in both domestic ... (101 characters truncated) ... n to emerging critical issues in the field of business management. Case studies and experiential learning are used to enhance the classroom pedagogy.'),\n",
       " ('Senior standing.', 'WDIV World Diversity', 'Managing People for Global Business', 'Management', 'MG 0385', 'This course recognizes the complexities of managing human resources in the global business arena. Modern-day business is characterized by the relentl ... (727 characters truncated) ...  these complexities along with in-depth study of the people-related issues in different countries in Asia, Africa, Latin America, and Eastern Europe.'),\n",
       " ('Senior standing.', 'WDIV World Diversity', 'Cross-Cultural Management', 'Management', 'MG 0390', 'Globalization, the internationalization of markets and corporations, has changed the way modern corporations do business. This course examines major  ... (255 characters truncated) ... thin one country. It explores what happens when cultures clash, and the need to understand different approaches to doing business in a diverse world.'),\n",
       " ('Senior standing.', '', 'Capstone Seminar', 'German', 'GM 0399', 'Majors in German participate in an interdisciplinary seminar in the spring of their senior year. The focus of this seminar varies according to the pr ... (286 characters truncated) ... es, evaluate work in the target language in consultation with colleagues in the area of expertise in the department. Seminar is conducted in English.'),\n",
       " ('Senior standing.', '', 'Design of Mechatronics Systems', 'Engineering', 'EG 0305', 'This course covers development of mechatronics theory and applications to systems dependent upon the integration of mechanical, electrical and comput ... (130 characters truncated) ... system. Students develop design skills in mechanisms, electrical devices, and software to create, test, and verify system function. Formerly MC 0305.')]"
      ]
     },
     "execution_count": 28,
     "metadata": {},
     "output_type": "execute_result"
    }
   ],
   "source": [
    "%%sql\n",
    "SELECT prereqs AS Required, attributes AS Attributes, course_title AS Course, program_name AS Program, catalog_id AS Code, description AS Description\n",
    "FROM COURSECATALOGS\n",
    "WHERE Prereqs > 0\n",
    "ORDER BY prereqs\n",
    "DESC\n",
    "LIMIT 50;"
   ]
  },
  {
   "cell_type": "code",
   "execution_count": null,
   "metadata": {},
   "outputs": [],
   "source": []
  },
  {
   "cell_type": "markdown",
   "metadata": {},
   "source": [
    "# JOIN Testing"
   ]
  },
  {
   "cell_type": "code",
   "execution_count": 26,
   "metadata": {},
   "outputs": [
    {
     "name": "stdout",
     "output_type": "stream",
     "text": [
      " * sqlite:///CourseData.db\n",
      "Done.\n"
     ]
    },
    {
     "data": {
      "text/html": [
       "<table>\n",
       "    <tr>\n",
       "        <th>crn</th>\n",
       "        <th>term</th>\n",
       "        <th>catalog_id</th>\n",
       "        <th>section</th>\n",
       "        <th>credits</th>\n",
       "        <th>title</th>\n",
       "        <th>meetings</th>\n",
       "        <th>timecodes</th>\n",
       "        <th>cap</th>\n",
       "        <th>act</th>\n",
       "        <th>rem</th>\n",
       "        <th>TID</th>\n",
       "    </tr>\n",
       "    <tr>\n",
       "        <td>70384</td>\n",
       "        <td>Fall2014</td>\n",
       "        <td>AC 0011</td>\n",
       "        <td>C01</td>\n",
       "        <td>3.000</td>\n",
       "        <td>Introduction to Financial Accounting</td>\n",
       "        <td>[{&#x27;days&#x27;: &#x27;TF&#x27;, &#x27;times&#x27;: &#x27;0800am-0915am&#x27;, &#x27;dates&#x27;: &#x27;09/02-12/08&#x27;, &#x27;location&#x27;: &#x27;DSB 105&#x27;}]</td>\n",
       "        <td>[&#x27;TF 0800am-0915am 09/02-12/08 DSB 105&#x27;]</td>\n",
       "        <td>0</td>\n",
       "        <td>31</td>\n",
       "        <td>-31</td>\n",
       "        <td>1</td>\n",
       "    </tr>\n",
       "    <tr>\n",
       "        <td>70385</td>\n",
       "        <td>Fall2014</td>\n",
       "        <td>AC 0011</td>\n",
       "        <td>C02</td>\n",
       "        <td>3.000</td>\n",
       "        <td>Introduction to Financial Accounting</td>\n",
       "        <td>[{&#x27;days&#x27;: &#x27;TF&#x27;, &#x27;times&#x27;: &#x27;0930am-1045am&#x27;, &#x27;dates&#x27;: &#x27;09/02-12/08&#x27;, &#x27;location&#x27;: &#x27;DSB 105&#x27;}]</td>\n",
       "        <td>[&#x27;TF 0930am-1045am 09/02-12/08 DSB 105&#x27;]</td>\n",
       "        <td>0</td>\n",
       "        <td>31</td>\n",
       "        <td>-31</td>\n",
       "        <td>1</td>\n",
       "    </tr>\n",
       "    <tr>\n",
       "        <td>70382</td>\n",
       "        <td>Fall2014</td>\n",
       "        <td>AC 0011</td>\n",
       "        <td>C03</td>\n",
       "        <td>3.000</td>\n",
       "        <td>Introduction to Financial Accounting</td>\n",
       "        <td>[{&#x27;days&#x27;: &#x27;TF&#x27;, &#x27;times&#x27;: &#x27;1230pm-0145pm&#x27;, &#x27;dates&#x27;: &#x27;09/02-12/08&#x27;, &#x27;location&#x27;: &#x27;DSB 105&#x27;}]</td>\n",
       "        <td>[&#x27;TF 1230pm-0145pm 09/02-12/08 DSB 105&#x27;]</td>\n",
       "        <td>0</td>\n",
       "        <td>31</td>\n",
       "        <td>-31</td>\n",
       "        <td>1</td>\n",
       "    </tr>\n",
       "    <tr>\n",
       "        <td>70291</td>\n",
       "        <td>Fall2014</td>\n",
       "        <td>AC 0011</td>\n",
       "        <td>C04</td>\n",
       "        <td>3.000</td>\n",
       "        <td>Introduction to Financial Accounting</td>\n",
       "        <td>[{&#x27;days&#x27;: &#x27;MR&#x27;, &#x27;times&#x27;: &#x27;1100am-1215pm&#x27;, &#x27;dates&#x27;: &#x27;09/02-12/08&#x27;, &#x27;location&#x27;: &#x27;DSB 111&#x27;}]</td>\n",
       "        <td>[&#x27;MR 1100am-1215pm 09/02-12/08 DSB 111&#x27;]</td>\n",
       "        <td>0</td>\n",
       "        <td>29</td>\n",
       "        <td>-29</td>\n",
       "        <td>2</td>\n",
       "    </tr>\n",
       "    <tr>\n",
       "        <td>70350</td>\n",
       "        <td>Fall2014</td>\n",
       "        <td>AC 0011</td>\n",
       "        <td>C05</td>\n",
       "        <td>3.000</td>\n",
       "        <td>Introduction to Financial Accounting</td>\n",
       "        <td>[{&#x27;days&#x27;: &#x27;MR&#x27;, &#x27;times&#x27;: &#x27;1230pm-0145pm&#x27;, &#x27;dates&#x27;: &#x27;09/02-12/08&#x27;, &#x27;location&#x27;: &#x27;DSB 111&#x27;}]</td>\n",
       "        <td>[&#x27;MR 1230pm-0145pm 09/02-12/08 DSB 111&#x27;]</td>\n",
       "        <td>0</td>\n",
       "        <td>30</td>\n",
       "        <td>-30</td>\n",
       "        <td>2</td>\n",
       "    </tr>\n",
       "    <tr>\n",
       "        <td>70381</td>\n",
       "        <td>Fall2014</td>\n",
       "        <td>AC 0011</td>\n",
       "        <td>C06</td>\n",
       "        <td>3.000</td>\n",
       "        <td>Introduction to Financial Accounting</td>\n",
       "        <td>[{&#x27;days&#x27;: &#x27;MR&#x27;, &#x27;times&#x27;: &#x27;0330pm-0445pm&#x27;, &#x27;dates&#x27;: &#x27;09/02-12/08&#x27;, &#x27;location&#x27;: &#x27;DSB 110A&#x27;}]</td>\n",
       "        <td>[&#x27;MR 0330pm-0445pm 09/02-12/08 DSB 110A&#x27;]</td>\n",
       "        <td>0</td>\n",
       "        <td>31</td>\n",
       "        <td>-31</td>\n",
       "        <td>2</td>\n",
       "    </tr>\n",
       "    <tr>\n",
       "        <td>70383</td>\n",
       "        <td>Fall2014</td>\n",
       "        <td>AC 0011</td>\n",
       "        <td>G</td>\n",
       "        <td>3.000</td>\n",
       "        <td>Introduction to Financial Accounting</td>\n",
       "        <td>[{&#x27;days&#x27;: &#x27;MR&#x27;, &#x27;times&#x27;: &#x27;0930am-1045am&#x27;, &#x27;dates&#x27;: &#x27;09/02-12/08&#x27;, &#x27;location&#x27;: &#x27;DSB 111&#x27;}]</td>\n",
       "        <td>[&#x27;MR 0930am-1045am 09/02-12/08 DSB 111&#x27;]</td>\n",
       "        <td>30</td>\n",
       "        <td>31</td>\n",
       "        <td>-1</td>\n",
       "        <td>3</td>\n",
       "    </tr>\n",
       "</table>"
      ],
      "text/plain": [
       "[(70384, 'Fall2014', 'AC 0011', 'C01', '3.000', 'Introduction to Financial Accounting', \"[{'days': 'TF', 'times': '0800am-0915am', 'dates': '09/02-12/08', 'location': 'DSB 105'}]\", \"['TF 0800am-0915am 09/02-12/08 DSB 105']\", '0', '31', '-31', 1),\n",
       " (70385, 'Fall2014', 'AC 0011', 'C02', '3.000', 'Introduction to Financial Accounting', \"[{'days': 'TF', 'times': '0930am-1045am', 'dates': '09/02-12/08', 'location': 'DSB 105'}]\", \"['TF 0930am-1045am 09/02-12/08 DSB 105']\", '0', '31', '-31', 1),\n",
       " (70382, 'Fall2014', 'AC 0011', 'C03', '3.000', 'Introduction to Financial Accounting', \"[{'days': 'TF', 'times': '1230pm-0145pm', 'dates': '09/02-12/08', 'location': 'DSB 105'}]\", \"['TF 1230pm-0145pm 09/02-12/08 DSB 105']\", '0', '31', '-31', 1),\n",
       " (70291, 'Fall2014', 'AC 0011', 'C04', '3.000', 'Introduction to Financial Accounting', \"[{'days': 'MR', 'times': '1100am-1215pm', 'dates': '09/02-12/08', 'location': 'DSB 111'}]\", \"['MR 1100am-1215pm 09/02-12/08 DSB 111']\", '0', '29', '-29', 2),\n",
       " (70350, 'Fall2014', 'AC 0011', 'C05', '3.000', 'Introduction to Financial Accounting', \"[{'days': 'MR', 'times': '1230pm-0145pm', 'dates': '09/02-12/08', 'location': 'DSB 111'}]\", \"['MR 1230pm-0145pm 09/02-12/08 DSB 111']\", '0', '30', '-30', 2),\n",
       " (70381, 'Fall2014', 'AC 0011', 'C06', '3.000', 'Introduction to Financial Accounting', \"[{'days': 'MR', 'times': '0330pm-0445pm', 'dates': '09/02-12/08', 'location': 'DSB 110A'}]\", \"['MR 0330pm-0445pm 09/02-12/08 DSB 110A']\", '0', '31', '-31', 2),\n",
       " (70383, 'Fall2014', 'AC 0011', 'G', '3.000', 'Introduction to Financial Accounting', \"[{'days': 'MR', 'times': '0930am-1045am', 'dates': '09/02-12/08', 'location': 'DSB 111'}]\", \"['MR 0930am-1045am 09/02-12/08 DSB 111']\", '30', '31', '-1', 3)]"
      ]
     },
     "execution_count": 26,
     "metadata": {},
     "output_type": "execute_result"
    }
   ],
   "source": [
    "%%sql\n",
    "SELECT *\n",
    "FROM COURSES\n",
    "LIMIT 7;"
   ]
  },
  {
   "cell_type": "markdown",
   "metadata": {},
   "source": [
    "%%sql\n",
    "SELECT t.TID, t.primary_instructor, c.catalog_id\n",
    "FROM COURSES as c\n",
    "JOIN TEACHERS as t ON c.TID = t.TID\n",
    "LIMIT 100;"
   ]
  },
  {
   "cell_type": "markdown",
   "metadata": {},
   "source": [
    "# Dr. Huntley\n",
    "### What Courses has Dr. Huntley Taught?"
   ]
  },
  {
   "cell_type": "code",
   "execution_count": 27,
   "metadata": {},
   "outputs": [
    {
     "name": "stdout",
     "output_type": "stream",
     "text": [
      " * sqlite:///CourseData.db\n",
      "Done.\n"
     ]
    },
    {
     "data": {
      "text/html": [
       "<table>\n",
       "    <tr>\n",
       "        <th>primary_instructor</th>\n",
       "        <th>catalog_id</th>\n",
       "    </tr>\n",
       "    <tr>\n",
       "        <td>Christopher L.  Huntley</td>\n",
       "        <td>IS 0100</td>\n",
       "    </tr>\n",
       "    <tr>\n",
       "        <td>Christopher L.  Huntley</td>\n",
       "        <td>IS 0135</td>\n",
       "    </tr>\n",
       "    <tr>\n",
       "        <td>Christopher L.  Huntley</td>\n",
       "        <td>IS 0320</td>\n",
       "    </tr>\n",
       "    <tr>\n",
       "        <td>Christopher L.  Huntley</td>\n",
       "        <td>IS 0100</td>\n",
       "    </tr>\n",
       "    <tr>\n",
       "        <td>Christopher L.  Huntley</td>\n",
       "        <td>IS 0100</td>\n",
       "    </tr>\n",
       "    <tr>\n",
       "        <td>Christopher L.  Huntley</td>\n",
       "        <td>IS 0135</td>\n",
       "    </tr>\n",
       "    <tr>\n",
       "        <td>Christopher L.  Huntley</td>\n",
       "        <td>IS 0320</td>\n",
       "    </tr>\n",
       "    <tr>\n",
       "        <td>Christopher L.  Huntley</td>\n",
       "        <td>IS 0135</td>\n",
       "    </tr>\n",
       "    <tr>\n",
       "        <td>Christopher L.  Huntley</td>\n",
       "        <td>IS 0240</td>\n",
       "    </tr>\n",
       "    <tr>\n",
       "        <td>Christopher L.  Huntley</td>\n",
       "        <td>IS 0585C</td>\n",
       "    </tr>\n",
       "</table>"
      ],
      "text/plain": [
       "[('Christopher L.  Huntley', 'IS 0100'),\n",
       " ('Christopher L.  Huntley', 'IS 0135'),\n",
       " ('Christopher L.  Huntley', 'IS 0320'),\n",
       " ('Christopher L.  Huntley', 'IS 0100'),\n",
       " ('Christopher L.  Huntley', 'IS 0100'),\n",
       " ('Christopher L.  Huntley', 'IS 0135'),\n",
       " ('Christopher L.  Huntley', 'IS 0320'),\n",
       " ('Christopher L.  Huntley', 'IS 0135'),\n",
       " ('Christopher L.  Huntley', 'IS 0240'),\n",
       " ('Christopher L.  Huntley', 'IS 0585C')]"
      ]
     },
     "execution_count": 27,
     "metadata": {},
     "output_type": "execute_result"
    }
   ],
   "source": [
    "%%sql\n",
    "SELECT t.primary_instructor, c.catalog_id\n",
    "FROM COURSES as c\n",
    "JOIN TEACHERS as t ON c.TID = t.TID\n",
    "WHERE primary_instructor like \"Christopher L.%\"\n",
    "Limit 10;"
   ]
  },
  {
   "cell_type": "markdown",
   "metadata": {},
   "source": [
    "### How Many Courses has Dr. Huntley Taught?"
   ]
  },
  {
   "cell_type": "code",
   "execution_count": 28,
   "metadata": {},
   "outputs": [
    {
     "name": "stdout",
     "output_type": "stream",
     "text": [
      " * sqlite:///CourseData.db\n",
      "Done.\n"
     ]
    },
    {
     "data": {
      "text/html": [
       "<table>\n",
       "    <tr>\n",
       "        <th>primary_instructor</th>\n",
       "        <th>courses_taught</th>\n",
       "    </tr>\n",
       "    <tr>\n",
       "        <td>Christopher L.  Huntley</td>\n",
       "        <td>31</td>\n",
       "    </tr>\n",
       "</table>"
      ],
      "text/plain": [
       "[('Christopher L.  Huntley', 31)]"
      ]
     },
     "execution_count": 28,
     "metadata": {},
     "output_type": "execute_result"
    }
   ],
   "source": [
    "%%sql\n",
    "SELECT DISTINCT t.primary_instructor, COUNT(c.catalog_id) AS courses_taught\n",
    "FROM COURSES as c\n",
    "JOIN TEACHERS as t ON c.TID = t.TID\n",
    "WHERE primary_instructor like \"Christopher L.%\"\n",
    "Limit 10;"
   ]
  },
  {
   "cell_type": "markdown",
   "metadata": {},
   "source": [
    "### What Courses has Dr. Massey Taught?"
   ]
  },
  {
   "cell_type": "code",
   "execution_count": 29,
   "metadata": {},
   "outputs": [
    {
     "name": "stdout",
     "output_type": "stream",
     "text": [
      " * sqlite:///CourseData.db\n",
      "Done.\n"
     ]
    },
    {
     "data": {
      "text/html": [
       "<table>\n",
       "    <tr>\n",
       "        <th>primary_instructor</th>\n",
       "        <th>catalog_id</th>\n",
       "    </tr>\n",
       "    <tr>\n",
       "        <td>Dawn W  Massey</td>\n",
       "        <td>AC 0570</td>\n",
       "    </tr>\n",
       "    <tr>\n",
       "        <td>Dawn W  Massey</td>\n",
       "        <td>AC 0590</td>\n",
       "    </tr>\n",
       "    <tr>\n",
       "        <td>Dawn W  Massey</td>\n",
       "        <td>AC 0590</td>\n",
       "    </tr>\n",
       "    <tr>\n",
       "        <td>Dawn W  Massey</td>\n",
       "        <td>AC 0590</td>\n",
       "    </tr>\n",
       "    <tr>\n",
       "        <td>Dawn W  Massey</td>\n",
       "        <td>AC 0570</td>\n",
       "    </tr>\n",
       "    <tr>\n",
       "        <td>Dawn W  Massey</td>\n",
       "        <td>AC 0590</td>\n",
       "    </tr>\n",
       "    <tr>\n",
       "        <td>Dawn W  Massey</td>\n",
       "        <td>AC 0590</td>\n",
       "    </tr>\n",
       "    <tr>\n",
       "        <td>Dawn W  Massey</td>\n",
       "        <td>AC 0590</td>\n",
       "    </tr>\n",
       "    <tr>\n",
       "        <td>Dawn W  Massey</td>\n",
       "        <td>AC 0570</td>\n",
       "    </tr>\n",
       "    <tr>\n",
       "        <td>Dawn W  Massey</td>\n",
       "        <td>AC 0570</td>\n",
       "    </tr>\n",
       "</table>"
      ],
      "text/plain": [
       "[('Dawn W  Massey', 'AC 0570'),\n",
       " ('Dawn W  Massey', 'AC 0590'),\n",
       " ('Dawn W  Massey', 'AC 0590'),\n",
       " ('Dawn W  Massey', 'AC 0590'),\n",
       " ('Dawn W  Massey', 'AC 0570'),\n",
       " ('Dawn W  Massey', 'AC 0590'),\n",
       " ('Dawn W  Massey', 'AC 0590'),\n",
       " ('Dawn W  Massey', 'AC 0590'),\n",
       " ('Dawn W  Massey', 'AC 0570'),\n",
       " ('Dawn W  Massey', 'AC 0570')]"
      ]
     },
     "execution_count": 29,
     "metadata": {},
     "output_type": "execute_result"
    }
   ],
   "source": [
    "%%sql\n",
    "SELECT t.primary_instructor, c.catalog_id\n",
    "FROM COURSES as c\n",
    "JOIN TEACHERS as t ON c.TID = t.TID\n",
    "WHERE primary_instructor like \"Dawn W%\"\n",
    "Limit 10;"
   ]
  },
  {
   "cell_type": "markdown",
   "metadata": {},
   "source": [
    "### How Many Courses has Dr. Massey Taught?"
   ]
  },
  {
   "cell_type": "code",
   "execution_count": 30,
   "metadata": {},
   "outputs": [
    {
     "name": "stdout",
     "output_type": "stream",
     "text": [
      " * sqlite:///CourseData.db\n",
      "Done.\n"
     ]
    },
    {
     "data": {
      "text/html": [
       "<table>\n",
       "    <tr>\n",
       "        <th>primary_instructor</th>\n",
       "        <th>courses_taught</th>\n",
       "    </tr>\n",
       "    <tr>\n",
       "        <td>Dawn W  Massey</td>\n",
       "        <td>52</td>\n",
       "    </tr>\n",
       "</table>"
      ],
      "text/plain": [
       "[('Dawn W  Massey', 52)]"
      ]
     },
     "execution_count": 30,
     "metadata": {},
     "output_type": "execute_result"
    }
   ],
   "source": [
    "%%sql\n",
    "SELECT DISTINCT t.primary_instructor, COUNT(c.catalog_id) AS courses_taught\n",
    "FROM COURSES as c\n",
    "JOIN TEACHERS as t ON c.TID = t.TID\n",
    "WHERE primary_instructor like \"Dawn%\"\n",
    "Limit 10;"
   ]
  },
  {
   "cell_type": "code",
   "execution_count": 31,
   "metadata": {},
   "outputs": [
    {
     "name": "stdout",
     "output_type": "stream",
     "text": [
      " * sqlite:///CourseData.db\n",
      "Done.\n"
     ]
    },
    {
     "data": {
      "text/html": [
       "<table>\n",
       "    <tr>\n",
       "        <th>TID</th>\n",
       "        <th>primary_instructor</th>\n",
       "    </tr>\n",
       "    <tr>\n",
       "        <td>1</td>\n",
       "        <td>Michael P.  Coyne</td>\n",
       "    </tr>\n",
       "    <tr>\n",
       "        <td>2</td>\n",
       "        <td>Rebecca I.  Bloch</td>\n",
       "    </tr>\n",
       "    <tr>\n",
       "        <td>3</td>\n",
       "        <td>Paul   Caster</td>\n",
       "    </tr>\n",
       "    <tr>\n",
       "        <td>4</td>\n",
       "        <td>Jo Ann   Drusbosky</td>\n",
       "    </tr>\n",
       "    <tr>\n",
       "        <td>5</td>\n",
       "        <td>Arleen N.  Kardos</td>\n",
       "    </tr>\n",
       "    <tr>\n",
       "        <td>6</td>\n",
       "        <td>Scott M  Brenner</td>\n",
       "    </tr>\n",
       "    <tr>\n",
       "        <td>7</td>\n",
       "        <td>Kevin C.  Cassidy</td>\n",
       "    </tr>\n",
       "    <tr>\n",
       "        <td>8</td>\n",
       "        <td>Bruce   Bradford</td>\n",
       "    </tr>\n",
       "    <tr>\n",
       "        <td>9</td>\n",
       "        <td>Milo W.  Peck</td>\n",
       "    </tr>\n",
       "    <tr>\n",
       "        <td>10</td>\n",
       "        <td>Stephen E.  Yost</td>\n",
       "    </tr>\n",
       "</table>"
      ],
      "text/plain": [
       "[(1, 'Michael P.  Coyne'),\n",
       " (2, 'Rebecca I.  Bloch'),\n",
       " (3, 'Paul   Caster'),\n",
       " (4, 'Jo Ann   Drusbosky'),\n",
       " (5, 'Arleen N.  Kardos'),\n",
       " (6, 'Scott M  Brenner'),\n",
       " (7, 'Kevin C.  Cassidy'),\n",
       " (8, 'Bruce   Bradford'),\n",
       " (9, 'Milo W.  Peck'),\n",
       " (10, 'Stephen E.  Yost')]"
      ]
     },
     "execution_count": 31,
     "metadata": {},
     "output_type": "execute_result"
    }
   ],
   "source": [
    "%%sql\n",
    "SELECT TID, primary_instructor FROM TEACHERS\n",
    "limit 10;\n"
   ]
  },
  {
   "cell_type": "code",
   "execution_count": 32,
   "metadata": {},
   "outputs": [
    {
     "name": "stdout",
     "output_type": "stream",
     "text": [
      " * sqlite:///CourseData.db\n",
      "Done.\n"
     ]
    },
    {
     "data": {
      "text/html": [
       "<table>\n",
       "    <tr>\n",
       "        <th>term</th>\n",
       "        <th>start</th>\n",
       "        <th>location</th>\n",
       "        <th>catalog_id</th>\n",
       "    </tr>\n",
       "    <tr>\n",
       "        <td>Fall2014</td>\n",
       "        <td>2014-09-02T08:00:00</td>\n",
       "        <td>DSB 105</td>\n",
       "        <td>AC 0011</td>\n",
       "    </tr>\n",
       "    <tr>\n",
       "        <td>Fall2014</td>\n",
       "        <td>2014-09-05T08:00:00</td>\n",
       "        <td>DSB 105</td>\n",
       "        <td>AC 0011</td>\n",
       "    </tr>\n",
       "    <tr>\n",
       "        <td>Fall2014</td>\n",
       "        <td>2014-09-09T08:00:00</td>\n",
       "        <td>DSB 105</td>\n",
       "        <td>AC 0011</td>\n",
       "    </tr>\n",
       "    <tr>\n",
       "        <td>Fall2014</td>\n",
       "        <td>2014-09-12T08:00:00</td>\n",
       "        <td>DSB 105</td>\n",
       "        <td>AC 0011</td>\n",
       "    </tr>\n",
       "    <tr>\n",
       "        <td>Fall2014</td>\n",
       "        <td>2014-09-16T08:00:00</td>\n",
       "        <td>DSB 105</td>\n",
       "        <td>AC 0011</td>\n",
       "    </tr>\n",
       "    <tr>\n",
       "        <td>Fall2014</td>\n",
       "        <td>2014-09-19T08:00:00</td>\n",
       "        <td>DSB 105</td>\n",
       "        <td>AC 0011</td>\n",
       "    </tr>\n",
       "    <tr>\n",
       "        <td>Fall2014</td>\n",
       "        <td>2014-09-23T08:00:00</td>\n",
       "        <td>DSB 105</td>\n",
       "        <td>AC 0011</td>\n",
       "    </tr>\n",
       "    <tr>\n",
       "        <td>Fall2014</td>\n",
       "        <td>2014-09-26T08:00:00</td>\n",
       "        <td>DSB 105</td>\n",
       "        <td>AC 0011</td>\n",
       "    </tr>\n",
       "    <tr>\n",
       "        <td>Fall2014</td>\n",
       "        <td>2014-09-30T08:00:00</td>\n",
       "        <td>DSB 105</td>\n",
       "        <td>AC 0011</td>\n",
       "    </tr>\n",
       "    <tr>\n",
       "        <td>Fall2014</td>\n",
       "        <td>2014-10-03T08:00:00</td>\n",
       "        <td>DSB 105</td>\n",
       "        <td>AC 0011</td>\n",
       "    </tr>\n",
       "    <tr>\n",
       "        <td>Fall2014</td>\n",
       "        <td>2014-10-07T08:00:00</td>\n",
       "        <td>DSB 105</td>\n",
       "        <td>AC 0011</td>\n",
       "    </tr>\n",
       "    <tr>\n",
       "        <td>Fall2014</td>\n",
       "        <td>2014-10-10T08:00:00</td>\n",
       "        <td>DSB 105</td>\n",
       "        <td>AC 0011</td>\n",
       "    </tr>\n",
       "    <tr>\n",
       "        <td>Fall2014</td>\n",
       "        <td>2014-10-17T08:00:00</td>\n",
       "        <td>DSB 105</td>\n",
       "        <td>AC 0011</td>\n",
       "    </tr>\n",
       "    <tr>\n",
       "        <td>Fall2014</td>\n",
       "        <td>2014-10-21T08:00:00</td>\n",
       "        <td>DSB 105</td>\n",
       "        <td>AC 0011</td>\n",
       "    </tr>\n",
       "    <tr>\n",
       "        <td>Fall2014</td>\n",
       "        <td>2014-10-24T08:00:00</td>\n",
       "        <td>DSB 105</td>\n",
       "        <td>AC 0011</td>\n",
       "    </tr>\n",
       "    <tr>\n",
       "        <td>Fall2014</td>\n",
       "        <td>2014-10-28T08:00:00</td>\n",
       "        <td>DSB 105</td>\n",
       "        <td>AC 0011</td>\n",
       "    </tr>\n",
       "    <tr>\n",
       "        <td>Fall2014</td>\n",
       "        <td>2014-10-31T08:00:00</td>\n",
       "        <td>DSB 105</td>\n",
       "        <td>AC 0011</td>\n",
       "    </tr>\n",
       "    <tr>\n",
       "        <td>Fall2014</td>\n",
       "        <td>2014-11-04T08:00:00</td>\n",
       "        <td>DSB 105</td>\n",
       "        <td>AC 0011</td>\n",
       "    </tr>\n",
       "    <tr>\n",
       "        <td>Fall2014</td>\n",
       "        <td>2014-11-07T08:00:00</td>\n",
       "        <td>DSB 105</td>\n",
       "        <td>AC 0011</td>\n",
       "    </tr>\n",
       "    <tr>\n",
       "        <td>Fall2014</td>\n",
       "        <td>2014-11-11T08:00:00</td>\n",
       "        <td>DSB 105</td>\n",
       "        <td>AC 0011</td>\n",
       "    </tr>\n",
       "</table>"
      ],
      "text/plain": [
       "[('Fall2014', '2014-09-02T08:00:00', 'DSB 105', 'AC 0011'),\n",
       " ('Fall2014', '2014-09-05T08:00:00', 'DSB 105', 'AC 0011'),\n",
       " ('Fall2014', '2014-09-09T08:00:00', 'DSB 105', 'AC 0011'),\n",
       " ('Fall2014', '2014-09-12T08:00:00', 'DSB 105', 'AC 0011'),\n",
       " ('Fall2014', '2014-09-16T08:00:00', 'DSB 105', 'AC 0011'),\n",
       " ('Fall2014', '2014-09-19T08:00:00', 'DSB 105', 'AC 0011'),\n",
       " ('Fall2014', '2014-09-23T08:00:00', 'DSB 105', 'AC 0011'),\n",
       " ('Fall2014', '2014-09-26T08:00:00', 'DSB 105', 'AC 0011'),\n",
       " ('Fall2014', '2014-09-30T08:00:00', 'DSB 105', 'AC 0011'),\n",
       " ('Fall2014', '2014-10-03T08:00:00', 'DSB 105', 'AC 0011'),\n",
       " ('Fall2014', '2014-10-07T08:00:00', 'DSB 105', 'AC 0011'),\n",
       " ('Fall2014', '2014-10-10T08:00:00', 'DSB 105', 'AC 0011'),\n",
       " ('Fall2014', '2014-10-17T08:00:00', 'DSB 105', 'AC 0011'),\n",
       " ('Fall2014', '2014-10-21T08:00:00', 'DSB 105', 'AC 0011'),\n",
       " ('Fall2014', '2014-10-24T08:00:00', 'DSB 105', 'AC 0011'),\n",
       " ('Fall2014', '2014-10-28T08:00:00', 'DSB 105', 'AC 0011'),\n",
       " ('Fall2014', '2014-10-31T08:00:00', 'DSB 105', 'AC 0011'),\n",
       " ('Fall2014', '2014-11-04T08:00:00', 'DSB 105', 'AC 0011'),\n",
       " ('Fall2014', '2014-11-07T08:00:00', 'DSB 105', 'AC 0011'),\n",
       " ('Fall2014', '2014-11-11T08:00:00', 'DSB 105', 'AC 0011')]"
      ]
     },
     "execution_count": 32,
     "metadata": {},
     "output_type": "execute_result"
    }
   ],
   "source": [
    "%%sql\n",
    "SELECT c.term, cm.start, cm.location, c.catalog_id\n",
    "FROM COURSES AS c\n",
    "JOIN COURSEMEETINGS AS cm\n",
    "LIMIT 20;"
   ]
  },
  {
   "cell_type": "code",
   "execution_count": 33,
   "metadata": {},
   "outputs": [
    {
     "name": "stdout",
     "output_type": "stream",
     "text": [
      " * sqlite:///CourseData.db\n",
      "Done.\n"
     ]
    },
    {
     "data": {
      "text/html": [
       "<table>\n",
       "    <tr>\n",
       "        <th>start</th>\n",
       "        <th>catalog_id</th>\n",
       "    </tr>\n",
       "    <tr>\n",
       "        <td>2014-09-02T08:00:00</td>\n",
       "        <td>AC 0011</td>\n",
       "    </tr>\n",
       "    <tr>\n",
       "        <td>2014-09-05T08:00:00</td>\n",
       "        <td>AC 0011</td>\n",
       "    </tr>\n",
       "    <tr>\n",
       "        <td>2014-09-09T08:00:00</td>\n",
       "        <td>AC 0011</td>\n",
       "    </tr>\n",
       "    <tr>\n",
       "        <td>2014-09-12T08:00:00</td>\n",
       "        <td>AC 0011</td>\n",
       "    </tr>\n",
       "    <tr>\n",
       "        <td>2014-09-16T08:00:00</td>\n",
       "        <td>AC 0011</td>\n",
       "    </tr>\n",
       "    <tr>\n",
       "        <td>2014-09-19T08:00:00</td>\n",
       "        <td>AC 0011</td>\n",
       "    </tr>\n",
       "    <tr>\n",
       "        <td>2014-09-23T08:00:00</td>\n",
       "        <td>AC 0011</td>\n",
       "    </tr>\n",
       "    <tr>\n",
       "        <td>2014-09-26T08:00:00</td>\n",
       "        <td>AC 0011</td>\n",
       "    </tr>\n",
       "    <tr>\n",
       "        <td>2014-09-30T08:00:00</td>\n",
       "        <td>AC 0011</td>\n",
       "    </tr>\n",
       "    <tr>\n",
       "        <td>2014-10-03T08:00:00</td>\n",
       "        <td>AC 0011</td>\n",
       "    </tr>\n",
       "</table>"
      ],
      "text/plain": [
       "[('2014-09-02T08:00:00', 'AC 0011'),\n",
       " ('2014-09-05T08:00:00', 'AC 0011'),\n",
       " ('2014-09-09T08:00:00', 'AC 0011'),\n",
       " ('2014-09-12T08:00:00', 'AC 0011'),\n",
       " ('2014-09-16T08:00:00', 'AC 0011'),\n",
       " ('2014-09-19T08:00:00', 'AC 0011'),\n",
       " ('2014-09-23T08:00:00', 'AC 0011'),\n",
       " ('2014-09-26T08:00:00', 'AC 0011'),\n",
       " ('2014-09-30T08:00:00', 'AC 0011'),\n",
       " ('2014-10-03T08:00:00', 'AC 0011')]"
      ]
     },
     "execution_count": 33,
     "metadata": {},
     "output_type": "execute_result"
    }
   ],
   "source": [
    "%%sql\n",
    "SELECT cm.start, c.catalog_id\n",
    "FROM COURSES AS c\n",
    "JOIN COURSEMEETINGS AS cm\n",
    "LIMIT 10;"
   ]
  },
  {
   "cell_type": "markdown",
   "metadata": {},
   "source": [
    "Have to finish insterting COURSES column"
   ]
  },
  {
   "cell_type": "code",
   "execution_count": 34,
   "metadata": {},
   "outputs": [
    {
     "name": "stdout",
     "output_type": "stream",
     "text": [
      " * sqlite:///CourseData.db\n",
      "Done.\n"
     ]
    },
    {
     "data": {
      "text/html": [
       "<table>\n",
       "    <tr>\n",
       "        <th>TID</th>\n",
       "        <th>primary_instructor</th>\n",
       "    </tr>\n",
       "    <tr>\n",
       "        <td>1</td>\n",
       "        <td>Michael P.  Coyne</td>\n",
       "    </tr>\n",
       "    <tr>\n",
       "        <td>2</td>\n",
       "        <td>Rebecca I.  Bloch</td>\n",
       "    </tr>\n",
       "    <tr>\n",
       "        <td>3</td>\n",
       "        <td>Paul   Caster</td>\n",
       "    </tr>\n",
       "    <tr>\n",
       "        <td>4</td>\n",
       "        <td>Jo Ann   Drusbosky</td>\n",
       "    </tr>\n",
       "    <tr>\n",
       "        <td>5</td>\n",
       "        <td>Arleen N.  Kardos</td>\n",
       "    </tr>\n",
       "    <tr>\n",
       "        <td>6</td>\n",
       "        <td>Scott M  Brenner</td>\n",
       "    </tr>\n",
       "    <tr>\n",
       "        <td>7</td>\n",
       "        <td>Kevin C.  Cassidy</td>\n",
       "    </tr>\n",
       "    <tr>\n",
       "        <td>8</td>\n",
       "        <td>Bruce   Bradford</td>\n",
       "    </tr>\n",
       "    <tr>\n",
       "        <td>9</td>\n",
       "        <td>Milo W.  Peck</td>\n",
       "    </tr>\n",
       "    <tr>\n",
       "        <td>10</td>\n",
       "        <td>Stephen E.  Yost</td>\n",
       "    </tr>\n",
       "</table>"
      ],
      "text/plain": [
       "[(1, 'Michael P.  Coyne'),\n",
       " (2, 'Rebecca I.  Bloch'),\n",
       " (3, 'Paul   Caster'),\n",
       " (4, 'Jo Ann   Drusbosky'),\n",
       " (5, 'Arleen N.  Kardos'),\n",
       " (6, 'Scott M  Brenner'),\n",
       " (7, 'Kevin C.  Cassidy'),\n",
       " (8, 'Bruce   Bradford'),\n",
       " (9, 'Milo W.  Peck'),\n",
       " (10, 'Stephen E.  Yost')]"
      ]
     },
     "execution_count": 34,
     "metadata": {},
     "output_type": "execute_result"
    }
   ],
   "source": [
    "%%sql\n",
    "SELECT TID, primary_instructor FROM TEACHERS\n",
    "limit 10;"
   ]
  },
  {
   "cell_type": "code",
   "execution_count": 35,
   "metadata": {},
   "outputs": [
    {
     "name": "stdout",
     "output_type": "stream",
     "text": [
      " * sqlite:///CourseData.db\n",
      "(sqlite3.OperationalError) near \"FROM\": syntax error [SQL: 'SELECT course_title AS Course,  catalog_id AS Code, program_name AS Program, \\nFROM COURSECATALOGS\\nWHERE credits = \"6 credits\"\\nLIMIT 50;'] (Background on this error at: http://sqlalche.me/e/e3q8)\n"
     ]
    }
   ],
   "source": [
    "%%sql\n",
    "SELECT course_title AS Course,  catalog_id AS Code, program_name AS Program, \n",
    "FROM COURSECATALOGS\n",
    "WHERE credits = \"6 credits\"\n",
    "LIMIT 50;"
   ]
  },
  {
   "cell_type": "code",
   "execution_count": null,
   "metadata": {},
   "outputs": [],
   "source": []
  },
  {
   "cell_type": "code",
   "execution_count": 36,
   "metadata": {},
   "outputs": [
    {
     "name": "stdout",
     "output_type": "stream",
     "text": [
      " * sqlite:///CourseData.db\n",
      "Done.\n"
     ]
    },
    {
     "data": {
      "text/plain": [
       "[]"
      ]
     },
     "execution_count": 36,
     "metadata": {},
     "output_type": "execute_result"
    }
   ],
   "source": [
    "%%sql\n",
    "VACUUM;"
   ]
  },
  {
   "cell_type": "code",
   "execution_count": null,
   "metadata": {},
   "outputs": [],
   "source": []
  }
 ],
 "metadata": {
  "kernelspec": {
   "display_name": "Python 3",
   "language": "python",
   "name": "python3"
  },
  "language_info": {
   "codemirror_mode": {
    "name": "ipython",
    "version": 3
   },
   "file_extension": ".py",
   "mimetype": "text/x-python",
   "name": "python",
   "nbconvert_exporter": "python",
   "pygments_lexer": "ipython3",
   "version": "3.6.5"
  }
 },
 "nbformat": 4,
 "nbformat_minor": 2
}
