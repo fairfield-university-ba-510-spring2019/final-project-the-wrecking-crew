{
 "cells": [
  {
   "cell_type": "markdown",
   "metadata": {},
   "source": [
    "# Data Warehouse\n",
    "## 1. Load SQLite and Database\n",
    "- 'CourseData.db'\n",
<<<<<<< HEAD
    "- note the 3 backslashes\n",
    "-  **[CourseDataDictionary.md](Docs/CourseDataDictionary.md)**"
=======
    "- note the 3 backslashes"
>>>>>>> c01be7af8df82c5cd656cf4f9f4477a0840873eb
   ]
  },
  {
   "cell_type": "code",
   "execution_count": 1,
   "metadata": {},
   "outputs": [
    {
     "data": {
      "text/plain": [
       "'Connected: @Warehouse.db'"
      ]
     },
     "execution_count": 1,
     "metadata": {},
     "output_type": "execute_result"
    }
   ],
   "source": [
    "%reload_ext sql\n",
    "%sql sqlite:///Warehouse.db"
   ]
  },
  {
   "cell_type": "code",
   "execution_count": 2,
   "metadata": {},
   "outputs": [],
   "source": [
    "##%%sql\n",
    "#-- attach \"CourseData.db\" as origdb"
   ]
  },
  {
   "cell_type": "code",
   "execution_count": 3,
   "metadata": {},
   "outputs": [
    {
     "name": "stdout",
     "output_type": "stream",
     "text": [
      " * sqlite:///Warehouse.db\n",
      "Done.\n"
     ]
    },
    {
     "data": {
      "text/plain": [
       "[]"
      ]
     },
     "execution_count": 3,
     "metadata": {},
     "output_type": "execute_result"
    }
   ],
   "source": [
    "%%sql\n",
    "DROP TABLE IF EXISTS CourseData;"
   ]
  },
  {
   "cell_type": "markdown",
   "metadata": {},
   "source": [
    "## DROP Tables "
   ]
  },
  {
   "cell_type": "code",
   "execution_count": 4,
   "metadata": {},
   "outputs": [
    {
     "name": "stdout",
     "output_type": "stream",
     "text": [
      "Done.\n",
      "Done.\n",
      "Done.\n",
      "Done.\n",
      "Done.\n"
     ]
    },
    {
     "data": {
      "text/plain": [
       "[]"
      ]
     },
     "execution_count": 4,
     "metadata": {},
     "output_type": "execute_result"
    }
   ],
   "source": [
    "%%sql\n",
    "sqlite:///Warehouse.db\n",
    "DROP TABLE IF EXISTS COURSE_DIM;\n",
    "DROP TABLE IF EXISTS PROGRAM;\n",
    "DROP TABLE IF EXISTS TEACHERS;\n",
    "DROP TABLE IF EXISTS COURSEFACTS;\n",
    "DROP TABLE IF EXISTS LOCATION;"
   ]
  },
  {
   "cell_type": "markdown",
   "metadata": {},
   "source": [
    "## Create Tables\n",
    "- primary key is generated on every table by naming new surrogate key/field that isn't already in .csv files.\n",
    "- don't need NOT NULL for PK because it's implied in SQLite.\n"
   ]
  },
  {
   "cell_type": "code",
   "execution_count": 5,
   "metadata": {},
   "outputs": [
    {
     "name": "stdout",
     "output_type": "stream",
     "text": [
      " * sqlite:///Warehouse.db\n",
      "Done.\n"
     ]
    },
    {
     "data": {
      "text/plain": [
       "[]"
      ]
     },
     "execution_count": 5,
     "metadata": {},
     "output_type": "execute_result"
    }
   ],
   "source": [
    "%%sql\n",
    "CREATE TABLE COURSE_DIM (\n",
    "    CDID INTEGER PRIMARY KEY,\n",
    "    prereqs TEXT,    \n",
    "    coreqs TEXT,   \n",
    "    description TEXT\n",
    ");"
   ]
  },
  {
   "cell_type": "code",
   "execution_count": 6,
   "metadata": {},
   "outputs": [
    {
     "name": "stdout",
     "output_type": "stream",
     "text": [
      " * sqlite:///Warehouse.db\n",
      "Done.\n"
     ]
    },
    {
     "data": {
      "text/plain": [
       "[]"
      ]
     },
     "execution_count": 6,
     "metadata": {},
     "output_type": "execute_result"
    }
   ],
   "source": [
    "%%sql\n",
    "CREATE TABLE LOCATION (\n",
    " LID INTEGER PRIMARY KEY,\n",
    " location TEXT NOT NULL\n",
    ");"
   ]
  },
  {
   "cell_type": "code",
   "execution_count": 7,
   "metadata": {},
   "outputs": [
    {
     "name": "stdout",
     "output_type": "stream",
     "text": [
      " * sqlite:///Warehouse.db\n",
      "(sqlite3.OperationalError) table INSTRUCTORS already exists [SQL: 'CREATE TABLE INSTRUCTORS (\\n TID INTEGER PRIMARY KEY,\\n primary_instructor TEXT NOT NULL\\n);'] (Background on this error at: http://sqlalche.me/e/e3q8)\n"
     ]
    }
   ],
   "source": [
    "%%sql\n",
    "CREATE TABLE INSTRUCTORS (\n",
    " TID INTEGER PRIMARY KEY,\n",
    " primary_instructor TEXT NOT NULL\n",
    ");"
   ]
  },
  {
   "cell_type": "code",
   "execution_count": 8,
   "metadata": {},
   "outputs": [
    {
     "name": "stdout",
     "output_type": "stream",
     "text": [
      " * sqlite:///Warehouse.db\n",
      "Done.\n"
     ]
    },
    {
     "data": {
      "text/plain": [
       "[]"
      ]
     },
     "execution_count": 8,
     "metadata": {},
     "output_type": "execute_result"
    }
   ],
   "source": [
    "%%sql\n",
    "CREATE TABLE PROGRAM (\n",
    "    catalog_id TEXT PRIMARY KEY,\n",
    "    course_title TEXT,\n",
    "    program_code TEXT,\n",
    "    program_name TEXT\n",
    ");"
   ]
  },
  {
   "cell_type": "code",
   "execution_count": 9,
   "metadata": {},
   "outputs": [
    {
     "name": "stdout",
     "output_type": "stream",
     "text": [
      " * sqlite:///Warehouse.db\n",
      "Done.\n"
     ]
    },
    {
     "data": {
      "text/plain": [
       "[]"
      ]
     },
     "execution_count": 9,
     "metadata": {},
     "output_type": "execute_result"
    }
   ],
   "source": [
    "%%sql\n",
    "CREATE TABLE COURSEFACTS (\n",
    "                 crn SMALLINT,\n",
    "                 term VARCAR(20),\n",
    "                 credits REAL,\n",
    "                 cap INTEGER,\n",
    "                 act INTEGER,\n",
    "                 rem INTEGER,\n",
    "                 LID INTEGER,\n",
    "                 catalog_ID INTEGER,\n",
    "                 TID INTEGER,\n",
    "                 CDID INTEGER,\n",
    "                 FOREIGN KEY(catalog_ID) REFERENCES PROGRAM(catalog_id),\n",
    "                 FOREIGN KEY(LID) REFERENCES LOCATION(LID),\n",
    "                 FOREIGN KEY(TID) REFERENCES TEACHERS(TID),\n",
    "                 FOREIGN KEY(CDID) REFERENCES COURSE_DIM(CDID)\n",
    ");"
   ]
  },
  {
   "cell_type": "markdown",
   "metadata": {},
   "source": [
    "# 4. Do INSERT Statements"
   ]
  },
  {
   "cell_type": "code",
   "execution_count": 10,
   "metadata": {},
   "outputs": [
    {
     "name": "stdout",
     "output_type": "stream",
     "text": [
      " * sqlite:///Warehouse.db\n",
      "2028 rows affected.\n",
      "0 rows affected.\n"
     ]
    },
    {
     "data": {
      "text/plain": [
       "[]"
      ]
     },
     "execution_count": 10,
     "metadata": {},
     "output_type": "execute_result"
    }
   ],
   "source": [
    "%%sql\n",
    "INSERT INTO COURSE_DIM (prereqs, coreqs, description)\n",
    "SELECT DISTINCT prereqs, coreqs, description\n",
    "FROM COURSECATALOGS;\n",
    "-- FROM origdb.COURSECATALOGS;"
   ]
  },
  {
   "cell_type": "code",
   "execution_count": 11,
   "metadata": {},
   "outputs": [
    {
     "name": "stdout",
     "output_type": "stream",
     "text": [
      " * sqlite:///Warehouse.db\n",
      "Done.\n"
     ]
    },
    {
     "data": {
      "text/html": [
       "<table>\n",
       "    <tr>\n",
       "        <th>CDID</th>\n",
       "        <th>prereqs</th>\n",
       "        <th>coreqs</th>\n",
       "        <th>description</th>\n",
       "    </tr>\n",
       "    <tr>\n",
       "        <td>1</td>\n",
       "        <td></td>\n",
       "        <td></td>\n",
       "        <td>Students undertake an individualized program of study in consultation with a director from the Asian studies faculty.</td>\n",
       "    </tr>\n",
       "    <tr>\n",
       "        <td>2</td>\n",
       "        <td></td>\n",
       "        <td></td>\n",
       "        <td>This seminar examines selected topics concerning Asia. This course is taught in conjunction with another 100-300 level course from a rotation of course offerings. Consult the Asian Studies director to identify the conjoined course for a given semester. The seminar concentrates on topics within the parameters of the conjoined course syllabus but adds research emphasis. Students registered for this course must complete a research project, to include 300-level research, in addition to the regular research requirements of the conjoined course, and a 25-50 page term paper in substitution of some portion of the conjoined course requirements, as determined by the instructor. Open to juniors and seniors only.</td>\n",
       "    </tr>\n",
       "    <tr>\n",
       "        <td>3</td>\n",
       "        <td>Junior standing.</td>\n",
       "        <td></td>\n",
       "        <td>This course examines the broad philosophical as well as practical nature and function of the legal system, and introduces students to the legal and social responsibilities of business. The course includes an introduction to the legal system, the federal courts, Constitutional law, the United States Supreme Court, the civil process, and regulatory areas such as employment discrimination, protection of the environment, and corporate governance and securities markets.</td>\n",
       "    </tr>\n",
       "    <tr>\n",
       "        <td>4</td>\n",
       "        <td></td>\n",
       "        <td></td>\n",
       "        <td>This course surveys issues arising out of federal laws designed to protect the environment and manage resources. It considers in detail the role of the Environmental Protection Agency in the enforcement of environmental policies arising out of such laws as the National Environmental Policy Act, the Clean Water Act, and the Clear Air Act, among others. The course also considers the impact of Congress, political parties, bureaucracy, and interest groups in shaping environmental policy, giving special attention to the impact of environmental regulation on business and private property rights.</td>\n",
       "    </tr>\n",
       "    <tr>\n",
       "        <td>5</td>\n",
       "        <td>BU 0211.</td>\n",
       "        <td></td>\n",
       "        <td>This course examines the components of common law contracts including the concepts of offer and acceptance, consideration, capacity and legality, assignment of rights and delegation of duties, as well as discharge of contracts. The course covers Articles 2 and 2A of the Uniform Commercial Code relating to leases, sales of goods, and warranties. The course also considers personal and real property, and bailments.</td>\n",
       "    </tr>\n",
       "    <tr>\n",
       "        <td>6</td>\n",
       "        <td>BU 0211.</td>\n",
       "        <td></td>\n",
       "        <td>This course offers an analysis of legal principles related to the law of agency, sole proprietorships, partnerships, corporations, limited liability companies, and other business forms. The second half of the course addresses several sections of the Uniform Commercial Code, such as negotiable instruments, bank collections and deposits and secured transactions. Finally, the course examines the law of suretyship, debtor-creditor relationships, and bankruptcy.</td>\n",
       "    </tr>\n",
       "    <tr>\n",
       "        <td>7</td>\n",
       "        <td></td>\n",
       "        <td></td>\n",
       "        <td>This course examines a variety of legal issues related to the workplace including the doctrine of employment at will, employee privacy, and the history and development of labor unions and the legal protections afforded by the National Labor Relations Act. A study of the role of the Civil Rights Act of 1964 and the Equal Employment Opportunity Commission in eradicating discrimination based on race, sex, religion, national origin, age, and disability occupies a major portion of the course. Other employment issues include affirmative action, worker safety, and compensation.</td>\n",
       "    </tr>\n",
       "    <tr>\n",
       "        <td>8</td>\n",
       "        <td>AE 0291, BU 0211, two additional courses in law or applied ethics.</td>\n",
       "        <td></td>\n",
       "        <td>This interdisciplinary study of these two aspects of the business environment is cross-listed as</td>\n",
       "    </tr>\n",
       "    <tr>\n",
       "        <td>9</td>\n",
       "        <td></td>\n",
       "        <td></td>\n",
       "        <td>In the context of Ferguson, Charleston, and other national crises, this course responds to the call of students from our campus community to raise questions about and critically reflect upon the failures of democracy to recognize the value of Black Life. This course employs collective thinking, teaching, and research to focus on questions surrounding race, structural inequality, and violence. It examines the historical, geographical, cultural, social, and political ways in which race has been configured and deployed in the United States. Various faculty will bring to bear their respective scholarly lenses so that students understand race and racism across intellectual disciplines.</td>\n",
       "    </tr>\n",
       "    <tr>\n",
       "        <td>10</td>\n",
       "        <td></td>\n",
       "        <td></td>\n",
       "        <td>Upon request and by agreement with a professor in the program, a Black Studies minor may conduct a one-semester independent study on a defined research topic or field of study.</td>\n",
       "    </tr>\n",
       "</table>"
      ],
      "text/plain": [
       "[(1, '', '', 'Students undertake an individualized program of study in consultation with a director from the Asian studies faculty.'),\n",
       " (2, '', '', 'This seminar examines selected topics concerning Asia. This course is taught in conjunction with another 100-300 level course from a rotation of cour ... (412 characters truncated) ... e term paper in substitution of some portion of the conjoined course requirements, as determined by the instructor. Open to juniors and seniors only.'),\n",
       " (3, 'Junior standing.', '', 'This course examines the broad philosophical as well as practical nature and function of the legal system, and introduces students to the legal and s ... (171 characters truncated) ... ivil process, and regulatory areas such as employment discrimination, protection of the environment, and corporate governance and securities markets.'),\n",
       " (4, '', '', 'This course surveys issues arising out of federal laws designed to protect the environment and manage resources. It considers in detail the role of t ... (298 characters truncated) ... t groups in shaping environmental policy, giving special attention to the impact of environmental regulation on business and private property rights.'),\n",
       " (5, 'BU 0211.', '', 'This course examines the components of common law contracts including the concepts of offer and acceptance, consideration, capacity and legality, ass ... (117 characters truncated) ...  the Uniform Commercial Code relating to leases, sales of goods, and warranties. The course also considers personal and real property, and bailments.'),\n",
       " (6, 'BU 0211.', '', 'This course offers an analysis of legal principles related to the law of agency, sole proprietorships, partnerships, corporations, limited liability  ... (163 characters truncated) ... collections and deposits and secured transactions. Finally, the course examines the law of suretyship, debtor-creditor relationships, and bankruptcy.'),\n",
       " (7, '', '', 'This course examines a variety of legal issues related to the workplace including the doctrine of employment at will, employee privacy, and the histo ... (279 characters truncated) ... gin, age, and disability occupies a major portion of the course. Other employment issues include affirmative action, worker safety, and compensation.'),\n",
       " (8, 'AE 0291, BU 0211, two additional courses in law or applied ethics.', '', 'This interdisciplinary study of these two aspects of the business environment is cross-listed as'),\n",
       " (9, '', '', 'In the context of Ferguson, Charleston, and other national crises, this course responds to the call of students from our campus community to raise qu ... (391 characters truncated) ... es. Various faculty will bring to bear their respective scholarly lenses so that students understand race and racism across intellectual disciplines.'),\n",
       " (10, '', '', 'Upon request and by agreement with a professor in the program, a Black Studies minor may conduct a one-semester independent study on a defined research topic or field of study.')]"
      ]
     },
     "execution_count": 11,
     "metadata": {},
     "output_type": "execute_result"
    }
   ],
   "source": [
    "%%sql\n",
    "SELECT * FROM COURSE_DIM\n",
    "LIMIT 10;"
   ]
  },
  {
   "cell_type": "code",
   "execution_count": 12,
   "metadata": {},
   "outputs": [
    {
     "name": "stdout",
     "output_type": "stream",
     "text": [
      " * sqlite:///Warehouse.db\n",
      "1105 rows affected.\n",
      "0 rows affected.\n"
     ]
    },
    {
     "data": {
      "text/plain": [
       "[]"
      ]
     },
     "execution_count": 12,
     "metadata": {},
     "output_type": "execute_result"
    }
   ],
   "source": [
    "%%sql\n",
    "INSERT INTO INSTRUCTORS (primary_instructor)\n",
    "SELECT DISTINCT primary_instructor\n",
    "FROM import_courses;\n",
    "-- FROM origdb.TEA"
   ]
  },
  {
   "cell_type": "code",
   "execution_count": 13,
   "metadata": {},
   "outputs": [
    {
     "name": "stdout",
     "output_type": "stream",
     "text": [
      " * sqlite:///Warehouse.db\n",
      "Done.\n"
     ]
    },
    {
     "data": {
      "text/html": [
       "<table>\n",
       "    <tr>\n",
       "        <th>TID</th>\n",
       "        <th>primary_instructor</th>\n",
       "    </tr>\n",
       "    <tr>\n",
       "        <td>1</td>\n",
       "        <td>Michael P.  Coyne</td>\n",
       "    </tr>\n",
       "    <tr>\n",
       "        <td>2</td>\n",
       "        <td>Rebecca I.  Bloch</td>\n",
       "    </tr>\n",
       "    <tr>\n",
       "        <td>3</td>\n",
       "        <td>Paul   Caster</td>\n",
       "    </tr>\n",
       "</table>"
      ],
      "text/plain": [
       "[(1, 'Michael P.  Coyne'), (2, 'Rebecca I.  Bloch'), (3, 'Paul   Caster')]"
      ]
     },
     "execution_count": 13,
     "metadata": {},
     "output_type": "execute_result"
    }
   ],
   "source": [
    "%%sql\n",
    "SELECT * FROM INSTRUCTORS\n",
    "limit 3;"
   ]
  },
  {
   "cell_type": "code",
   "execution_count": 14,
   "metadata": {},
   "outputs": [
    {
     "name": "stdout",
     "output_type": "stream",
     "text": [
      " * sqlite:///Warehouse.db\n",
      "208 rows affected.\n"
     ]
    },
    {
     "data": {
      "text/plain": [
       "[]"
      ]
     },
     "execution_count": 14,
     "metadata": {},
     "output_type": "execute_result"
    }
   ],
   "source": [
    "%%sql\n",
    "INSERT INTO LOCATION (location)\n",
    "SELECT DISTINCT location \n",
    "FROM COURSEMEETINGS\n",
    ";"
   ]
  },
  {
   "cell_type": "code",
   "execution_count": 15,
   "metadata": {},
   "outputs": [
    {
     "name": "stdout",
     "output_type": "stream",
     "text": [
      " * sqlite:///Warehouse.db\n",
      "2221 rows affected.\n"
     ]
    },
    {
     "data": {
      "text/plain": [
       "[]"
      ]
     },
     "execution_count": 15,
     "metadata": {},
     "output_type": "execute_result"
    }
   ],
   "source": [
    "%%sql\n",
    "INSERT INTO PROGRAM ( catalog_id, course_title, program_code, program_name)\n",
    "SELECT DISTINCT  catalog_id, course_title, program_code, program_name\n",
    "FROM COURSECATALOGS\n",
    ";"
   ]
  },
  {
   "cell_type": "code",
   "execution_count": 16,
   "metadata": {},
   "outputs": [
    {
     "name": "stdout",
     "output_type": "stream",
     "text": [
      " * sqlite:///Warehouse.db\n",
      "Done.\n"
     ]
    },
    {
     "data": {
      "text/html": [
       "<table>\n",
       "    <tr>\n",
       "        <th>catalog_id</th>\n",
       "        <th>course_title</th>\n",
       "        <th>program_code</th>\n",
       "        <th>program_name</th>\n",
       "    </tr>\n",
       "    <tr>\n",
       "        <td>AN 0301</td>\n",
       "        <td>Independent Study</td>\n",
       "        <td>AN</td>\n",
       "        <td>Asian Studies</td>\n",
       "    </tr>\n",
       "    <tr>\n",
       "        <td>AN 0310</td>\n",
       "        <td>Asian Studies Seminar</td>\n",
       "        <td>AN</td>\n",
       "        <td>Asian Studies</td>\n",
       "    </tr>\n",
       "    <tr>\n",
       "        <td>BU 0211</td>\n",
       "        <td>Legal Environment of Business</td>\n",
       "        <td>BU</td>\n",
       "        <td>Business</td>\n",
       "    </tr>\n",
       "    <tr>\n",
       "        <td>BU 0220</td>\n",
       "        <td>Environmental Law and Policy</td>\n",
       "        <td>BU</td>\n",
       "        <td>Business</td>\n",
       "    </tr>\n",
       "    <tr>\n",
       "        <td>BU 0311</td>\n",
       "        <td>The Law of Contracts, Sales, and Property</td>\n",
       "        <td>BU</td>\n",
       "        <td>Business</td>\n",
       "    </tr>\n",
       "    <tr>\n",
       "        <td>BU 0312</td>\n",
       "        <td>The Law of Business Organizations and Financial Transactions</td>\n",
       "        <td>BU</td>\n",
       "        <td>Business</td>\n",
       "    </tr>\n",
       "    <tr>\n",
       "        <td>BU 0320</td>\n",
       "        <td>Employment Law and Discrimination in the Workplace</td>\n",
       "        <td>BU</td>\n",
       "        <td>Business</td>\n",
       "    </tr>\n",
       "    <tr>\n",
       "        <td>BU 0391</td>\n",
       "        <td>Seminar in Business Law and Ethics</td>\n",
       "        <td>BU</td>\n",
       "        <td>Business</td>\n",
       "    </tr>\n",
       "    <tr>\n",
       "        <td>BL 0101</td>\n",
       "        <td>Black Lives Matter</td>\n",
       "        <td>BL</td>\n",
       "        <td>Black Studies</td>\n",
       "    </tr>\n",
       "    <tr>\n",
       "        <td>BL 0398</td>\n",
       "        <td>Independent Study</td>\n",
       "        <td>BL</td>\n",
       "        <td>Black Studies</td>\n",
       "    </tr>\n",
       "</table>"
      ],
      "text/plain": [
       "[('AN 0301', 'Independent Study', 'AN', 'Asian Studies'),\n",
       " ('AN 0310', 'Asian Studies Seminar', 'AN', 'Asian Studies'),\n",
       " ('BU 0211', 'Legal Environment of Business', 'BU', 'Business'),\n",
       " ('BU 0220', 'Environmental Law and Policy', 'BU', 'Business'),\n",
       " ('BU 0311', 'The Law of Contracts, Sales, and Property', 'BU', 'Business'),\n",
       " ('BU 0312', 'The Law of Business Organizations and Financial Transactions', 'BU', 'Business'),\n",
       " ('BU 0320', 'Employment Law and Discrimination in the Workplace', 'BU', 'Business'),\n",
       " ('BU 0391', 'Seminar in Business Law and Ethics', 'BU', 'Business'),\n",
       " ('BL 0101', 'Black Lives Matter', 'BL', 'Black Studies'),\n",
       " ('BL 0398', 'Independent Study', 'BL', 'Black Studies')]"
      ]
     },
     "execution_count": 16,
     "metadata": {},
     "output_type": "execute_result"
    }
   ],
   "source": [
    "%%sql\n",
    "SELECT * FROM PROGRAM\n",
    "LIMIT 10;"
   ]
  },
  {
   "cell_type": "code",
   "execution_count": 17,
   "metadata": {},
   "outputs": [
    {
     "name": "stdout",
     "output_type": "stream",
     "text": [
      " * sqlite:///Warehouse.db\n",
      "Done.\n"
     ]
    },
    {
     "data": {
      "text/html": [
       "<table>\n",
       "    <tr>\n",
       "        <th>LID</th>\n",
       "        <th>location</th>\n",
       "    </tr>\n",
       "    <tr>\n",
       "        <td>1</td>\n",
       "        <td>DSB 105</td>\n",
       "    </tr>\n",
       "    <tr>\n",
       "        <td>2</td>\n",
       "        <td>DSB 111</td>\n",
       "    </tr>\n",
       "    <tr>\n",
       "        <td>3</td>\n",
       "        <td>DSB 110A</td>\n",
       "    </tr>\n",
       "    <tr>\n",
       "        <td>4</td>\n",
       "        <td>DSB 108</td>\n",
       "    </tr>\n",
       "    <tr>\n",
       "        <td>5</td>\n",
       "        <td>DSB 110B</td>\n",
       "    </tr>\n",
       "</table>"
      ],
      "text/plain": [
       "[(1, 'DSB 105'),\n",
       " (2, 'DSB 111'),\n",
       " (3, 'DSB 110A'),\n",
       " (4, 'DSB 108'),\n",
       " (5, 'DSB 110B')]"
      ]
     },
     "execution_count": 17,
     "metadata": {},
     "output_type": "execute_result"
    }
   ],
   "source": [
    "%%sql\n",
    "SELECT * FROM LOCATION\n",
    "limit 5;"
   ]
  },
  {
   "cell_type": "code",
   "execution_count": 18,
   "metadata": {},
   "outputs": [
    {
     "name": "stdout",
     "output_type": "stream",
     "text": [
      " * sqlite:///Warehouse.db\n",
      "167684 rows affected.\n"
     ]
    },
    {
     "data": {
      "text/plain": [
       "[]"
      ]
     },
     "execution_count": 18,
     "metadata": {},
     "output_type": "execute_result"
    }
   ],
   "source": [
    "%%sql\n",
    "INSERT INTO COURSEFACTS (crn, term, credits, cap, act, rem, TID, catalog_ID)\n",
    "SELECT DISTINCT crn, term, credits, cap, act, rem, TID, import_courses.catalog_ID\n",
    "FROM import_courses\n",
    "JOIN INSTRUCTORS ON (import_courses.primary_instructor=INSTRUCTORS.primary_instructor)\n",
    "JOIN PROGRAM ON (import_courses.catalog_Id = PROGRAM.catalog_ID)\n",
    ";\n",
    "\n",
    "\n"
   ]
  },
  {
   "cell_type": "code",
   "execution_count": 19,
   "metadata": {},
   "outputs": [
    {
     "name": "stdout",
     "output_type": "stream",
     "text": [
      " * sqlite:///Warehouse.db\n",
      "Done.\n"
     ]
    },
    {
     "data": {
      "text/html": [
       "<table>\n",
       "    <tr>\n",
       "        <th>crn</th>\n",
       "        <th>term</th>\n",
       "        <th>credits</th>\n",
       "        <th>cap</th>\n",
       "        <th>act</th>\n",
       "        <th>rem</th>\n",
       "        <th>LID</th>\n",
       "        <th>catalog_ID</th>\n",
       "        <th>TID</th>\n",
       "        <th>CDID</th>\n",
       "    </tr>\n",
       "    <tr>\n",
       "        <td>70384</td>\n",
       "        <td>Fall2014</td>\n",
       "        <td>3.0</td>\n",
       "        <td>0</td>\n",
       "        <td>31</td>\n",
       "        <td>-31</td>\n",
       "        <td>None</td>\n",
       "        <td>AC 0011</td>\n",
       "        <td>1</td>\n",
       "        <td>None</td>\n",
       "    </tr>\n",
       "    <tr>\n",
       "        <td>70384</td>\n",
       "        <td>Fall2014</td>\n",
       "        <td>3.0</td>\n",
       "        <td>0</td>\n",
       "        <td>31</td>\n",
       "        <td>-31</td>\n",
       "        <td>None</td>\n",
       "        <td>AC 0011</td>\n",
       "        <td>1106</td>\n",
       "        <td>None</td>\n",
       "    </tr>\n",
       "    <tr>\n",
       "        <td>70384</td>\n",
       "        <td>Fall2014</td>\n",
       "        <td>3.0</td>\n",
       "        <td>0</td>\n",
       "        <td>31</td>\n",
       "        <td>-31</td>\n",
       "        <td>None</td>\n",
       "        <td>AC 0011</td>\n",
       "        <td>2211</td>\n",
       "        <td>None</td>\n",
       "    </tr>\n",
       "    <tr>\n",
       "        <td>70384</td>\n",
       "        <td>Fall2014</td>\n",
       "        <td>3.0</td>\n",
       "        <td>0</td>\n",
       "        <td>31</td>\n",
       "        <td>-31</td>\n",
       "        <td>None</td>\n",
       "        <td>AC 0011</td>\n",
       "        <td>3316</td>\n",
       "        <td>None</td>\n",
       "    </tr>\n",
       "    <tr>\n",
       "        <td>70384</td>\n",
       "        <td>Fall2014</td>\n",
       "        <td>3.0</td>\n",
       "        <td>0</td>\n",
       "        <td>31</td>\n",
       "        <td>-31</td>\n",
       "        <td>None</td>\n",
       "        <td>AC 0011</td>\n",
       "        <td>4421</td>\n",
       "        <td>None</td>\n",
       "    </tr>\n",
       "    <tr>\n",
       "        <td>70384</td>\n",
       "        <td>Fall2014</td>\n",
       "        <td>3.0</td>\n",
       "        <td>0</td>\n",
       "        <td>31</td>\n",
       "        <td>-31</td>\n",
       "        <td>None</td>\n",
       "        <td>AC 0011</td>\n",
       "        <td>5526</td>\n",
       "        <td>None</td>\n",
       "    </tr>\n",
       "    <tr>\n",
       "        <td>70384</td>\n",
       "        <td>Fall2014</td>\n",
       "        <td>3.0</td>\n",
       "        <td>0</td>\n",
       "        <td>31</td>\n",
       "        <td>-31</td>\n",
       "        <td>None</td>\n",
       "        <td>AC 0011</td>\n",
       "        <td>6631</td>\n",
       "        <td>None</td>\n",
       "    </tr>\n",
       "    <tr>\n",
       "        <td>70384</td>\n",
       "        <td>Fall2014</td>\n",
       "        <td>3.0</td>\n",
       "        <td>0</td>\n",
       "        <td>31</td>\n",
       "        <td>-31</td>\n",
       "        <td>None</td>\n",
       "        <td>AC 0011</td>\n",
       "        <td>7736</td>\n",
       "        <td>None</td>\n",
       "    </tr>\n",
       "    <tr>\n",
       "        <td>70384</td>\n",
       "        <td>Fall2014</td>\n",
       "        <td>3.0</td>\n",
       "        <td>0</td>\n",
       "        <td>31</td>\n",
       "        <td>-31</td>\n",
       "        <td>None</td>\n",
       "        <td>AC 0011</td>\n",
       "        <td>8841</td>\n",
       "        <td>None</td>\n",
       "    </tr>\n",
       "    <tr>\n",
       "        <td>70384</td>\n",
       "        <td>Fall2014</td>\n",
       "        <td>3.0</td>\n",
       "        <td>0</td>\n",
       "        <td>31</td>\n",
       "        <td>-31</td>\n",
       "        <td>None</td>\n",
       "        <td>AC 0011</td>\n",
       "        <td>9946</td>\n",
       "        <td>None</td>\n",
       "    </tr>\n",
       "</table>"
      ],
      "text/plain": [
       "[(70384, 'Fall2014', 3.0, 0, 31, -31, None, 'AC 0011', 1, None),\n",
       " (70384, 'Fall2014', 3.0, 0, 31, -31, None, 'AC 0011', 1106, None),\n",
       " (70384, 'Fall2014', 3.0, 0, 31, -31, None, 'AC 0011', 2211, None),\n",
       " (70384, 'Fall2014', 3.0, 0, 31, -31, None, 'AC 0011', 3316, None),\n",
       " (70384, 'Fall2014', 3.0, 0, 31, -31, None, 'AC 0011', 4421, None),\n",
       " (70384, 'Fall2014', 3.0, 0, 31, -31, None, 'AC 0011', 5526, None),\n",
       " (70384, 'Fall2014', 3.0, 0, 31, -31, None, 'AC 0011', 6631, None),\n",
       " (70384, 'Fall2014', 3.0, 0, 31, -31, None, 'AC 0011', 7736, None),\n",
       " (70384, 'Fall2014', 3.0, 0, 31, -31, None, 'AC 0011', 8841, None),\n",
       " (70384, 'Fall2014', 3.0, 0, 31, -31, None, 'AC 0011', 9946, None)]"
      ]
     },
     "execution_count": 19,
     "metadata": {},
     "output_type": "execute_result"
    }
   ],
   "source": [
    "%%sql\n",
    "SELECT * FROM COURSEFACTS\n",
    "LIMIT 10;"
   ]
  },
  {
   "cell_type": "markdown",
   "metadata": {},
   "source": [
    "## JOIN Showing Functional Data Warehouse"
   ]
  },
  {
   "cell_type": "code",
   "execution_count": 25,
   "metadata": {},
   "outputs": [
    {
     "name": "stdout",
     "output_type": "stream",
     "text": [
      " * sqlite:///Warehouse.db\n",
      "Done.\n"
     ]
    },
    {
     "data": {
      "text/html": [
       "<table>\n",
       "    <tr>\n",
       "        <th>crn</th>\n",
       "        <th>term</th>\n",
       "        <th>credits</th>\n",
       "        <th>catalog_ID</th>\n",
       "        <th>course_title</th>\n",
       "        <th>program_name</th>\n",
       "        <th>program_code</th>\n",
       "    </tr>\n",
       "    <tr>\n",
       "        <td>34130</td>\n",
       "        <td>Spring2015</td>\n",
       "        <td>3.0</td>\n",
       "        <td>AN 0301</td>\n",
       "        <td>Independent Study</td>\n",
       "        <td>Asian Studies</td>\n",
       "        <td>AN</td>\n",
       "    </tr>\n",
       "    <tr>\n",
       "        <td>34130</td>\n",
       "        <td>Spring2015</td>\n",
       "        <td>3.0</td>\n",
       "        <td>AN 0301</td>\n",
       "        <td>Independent Study</td>\n",
       "        <td>Asian Studies</td>\n",
       "        <td>AN</td>\n",
       "    </tr>\n",
       "    <tr>\n",
       "        <td>34130</td>\n",
       "        <td>Spring2015</td>\n",
       "        <td>3.0</td>\n",
       "        <td>AN 0301</td>\n",
       "        <td>Independent Study</td>\n",
       "        <td>Asian Studies</td>\n",
       "        <td>AN</td>\n",
       "    </tr>\n",
       "    <tr>\n",
       "        <td>34130</td>\n",
       "        <td>Spring2015</td>\n",
       "        <td>3.0</td>\n",
       "        <td>AN 0301</td>\n",
       "        <td>Independent Study</td>\n",
       "        <td>Asian Studies</td>\n",
       "        <td>AN</td>\n",
       "    </tr>\n",
       "    <tr>\n",
       "        <td>34130</td>\n",
       "        <td>Spring2015</td>\n",
       "        <td>3.0</td>\n",
       "        <td>AN 0301</td>\n",
       "        <td>Independent Study</td>\n",
       "        <td>Asian Studies</td>\n",
       "        <td>AN</td>\n",
       "    </tr>\n",
       "    <tr>\n",
       "        <td>34130</td>\n",
       "        <td>Spring2015</td>\n",
       "        <td>3.0</td>\n",
       "        <td>AN 0301</td>\n",
       "        <td>Independent Study</td>\n",
       "        <td>Asian Studies</td>\n",
       "        <td>AN</td>\n",
       "    </tr>\n",
       "    <tr>\n",
       "        <td>34130</td>\n",
       "        <td>Spring2015</td>\n",
       "        <td>3.0</td>\n",
       "        <td>AN 0301</td>\n",
       "        <td>Independent Study</td>\n",
       "        <td>Asian Studies</td>\n",
       "        <td>AN</td>\n",
       "    </tr>\n",
       "    <tr>\n",
       "        <td>34130</td>\n",
       "        <td>Spring2015</td>\n",
       "        <td>3.0</td>\n",
       "        <td>AN 0301</td>\n",
       "        <td>Independent Study</td>\n",
       "        <td>Asian Studies</td>\n",
       "        <td>AN</td>\n",
       "    </tr>\n",
       "    <tr>\n",
       "        <td>34130</td>\n",
       "        <td>Spring2015</td>\n",
       "        <td>3.0</td>\n",
       "        <td>AN 0301</td>\n",
       "        <td>Independent Study</td>\n",
       "        <td>Asian Studies</td>\n",
       "        <td>AN</td>\n",
       "    </tr>\n",
       "    <tr>\n",
       "        <td>34130</td>\n",
       "        <td>Spring2015</td>\n",
       "        <td>3.0</td>\n",
       "        <td>AN 0301</td>\n",
       "        <td>Independent Study</td>\n",
       "        <td>Asian Studies</td>\n",
       "        <td>AN</td>\n",
       "    </tr>\n",
       "</table>"
      ],
      "text/plain": [
       "[(34130, 'Spring2015', 3.0, 'AN 0301', 'Independent Study', 'Asian Studies', 'AN'),\n",
       " (34130, 'Spring2015', 3.0, 'AN 0301', 'Independent Study', 'Asian Studies', 'AN'),\n",
       " (34130, 'Spring2015', 3.0, 'AN 0301', 'Independent Study', 'Asian Studies', 'AN'),\n",
       " (34130, 'Spring2015', 3.0, 'AN 0301', 'Independent Study', 'Asian Studies', 'AN'),\n",
       " (34130, 'Spring2015', 3.0, 'AN 0301', 'Independent Study', 'Asian Studies', 'AN'),\n",
       " (34130, 'Spring2015', 3.0, 'AN 0301', 'Independent Study', 'Asian Studies', 'AN'),\n",
       " (34130, 'Spring2015', 3.0, 'AN 0301', 'Independent Study', 'Asian Studies', 'AN'),\n",
       " (34130, 'Spring2015', 3.0, 'AN 0301', 'Independent Study', 'Asian Studies', 'AN'),\n",
       " (34130, 'Spring2015', 3.0, 'AN 0301', 'Independent Study', 'Asian Studies', 'AN'),\n",
       " (34130, 'Spring2015', 3.0, 'AN 0301', 'Independent Study', 'Asian Studies', 'AN')]"
      ]
     },
     "execution_count": 25,
     "metadata": {},
     "output_type": "execute_result"
    }
   ],
   "source": [
    "%%sql\n",
    "SELECT c.crn, c.term, c.credits, c.catalog_ID,p.course_title,p.program_name, p.program_code\n",
    "FROM COURSEFACTS AS c\n",
    "JOIN PROGRAM AS p ON c.catalog_ID = p.catalog_id\n",
    "LIMIT 10;"
   ]
  },
  {
   "cell_type": "code",
   "execution_count": 26,
   "metadata": {},
   "outputs": [
    {
     "name": "stdout",
     "output_type": "stream",
     "text": [
      " * sqlite:///Warehouse.db\n",
      "Done.\n"
     ]
    },
    {
     "data": {
      "text/plain": [
       "[]"
      ]
     },
     "execution_count": 26,
     "metadata": {},
     "output_type": "execute_result"
    }
   ],
   "source": [
    "%%sql\n",
    "VACUUM;"
   ]
  },
  {
   "cell_type": "code",
   "execution_count": null,
   "metadata": {},
   "outputs": [],
   "source": []
  }
 ],
 "metadata": {
  "kernelspec": {
   "display_name": "Python 3",
   "language": "python",
   "name": "python3"
  },
  "language_info": {
   "codemirror_mode": {
    "name": "ipython",
    "version": 3
   },
   "file_extension": ".py",
   "mimetype": "text/x-python",
   "name": "python",
   "nbconvert_exporter": "python",
   "pygments_lexer": "ipython3",
   "version": "3.6.5"
  }
 },
 "nbformat": 4,
 "nbformat_minor": 2
}
