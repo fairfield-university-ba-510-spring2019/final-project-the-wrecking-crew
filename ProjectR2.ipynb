{
 "cells": [
  {
   "cell_type": "markdown",
   "metadata": {},
   "source": [
    "# 1. Load SQLite and Database\n",
    "- 'CourseData.db'\n",
    "- note the 3 backslashes"
   ]
  },
  {
   "cell_type": "code",
   "execution_count": 2,
   "metadata": {},
   "outputs": [
    {
     "data": {
      "text/plain": [
       "'Connected: @CourseData.db'"
      ]
     },
     "execution_count": 2,
     "metadata": {},
     "output_type": "execute_result"
    }
   ],
   "source": [
    "%reload_ext sql\n",
    "%sql sqlite:///CourseData.db"
   ]
  },
  {
   "cell_type": "code",
   "execution_count": 18,
   "metadata": {},
   "outputs": [
    {
     "name": "stdout",
     "output_type": "stream",
     "text": [
      " * sqlite:///CourseData.db\n",
      "Done.\n"
     ]
    },
    {
     "data": {
      "text/plain": [
       "[]"
      ]
     },
     "execution_count": 18,
     "metadata": {},
     "output_type": "execute_result"
    }
   ],
   "source": [
    "%%sql\n",
    "DROP TABLE IF EXISTS CourseData;"
   ]
  },
  {
   "cell_type": "markdown",
   "metadata": {},
   "source": [
    "- safety precautions"
   ]
  },
  {
   "cell_type": "code",
   "execution_count": 19,
   "metadata": {},
   "outputs": [
    {
     "name": "stdout",
     "output_type": "stream",
     "text": [
      "Done.\n",
      "Done.\n",
      "Done.\n",
      "Done.\n"
     ]
    },
    {
     "data": {
      "text/plain": [
       "[]"
      ]
     },
     "execution_count": 19,
     "metadata": {},
     "output_type": "execute_result"
    }
   ],
   "source": [
    "%%sql\n",
    "sqlite:///CourseData.db\n",
    "DROP TABLE IF EXISTS COURSECATALOGS;\n",
    "DROP TABLE IF EXISTS COURSES;\n",
    "DROP TABLE IF EXISTS TEACHERS;\n",
    "DROP TABLE IF EXISTS COURSEMEETINGS;"
   ]
  },
  {
   "cell_type": "markdown",
   "metadata": {},
   "source": [
    "# 2. Do COUNT statements for 3 .csv Files\n",
    "- ensure .csv name spelling is exact"
   ]
  },
  {
   "cell_type": "code",
   "execution_count": 9,
   "metadata": {},
   "outputs": [
    {
     "name": "stdout",
     "output_type": "stream",
     "text": [
      " * sqlite:///CourseData.db\n",
      "Done.\n"
     ]
    },
    {
     "data": {
      "text/html": [
       "<table>\n",
       "    <tr>\n",
       "        <th>Count(*)</th>\n",
       "    </tr>\n",
       "    <tr>\n",
       "        <td>317339</td>\n",
       "    </tr>\n",
       "</table>"
      ],
      "text/plain": [
       "[(317339,)]"
      ]
     },
     "execution_count": 9,
     "metadata": {},
     "output_type": "execute_result"
    }
   ],
   "source": [
    "%%sql\n",
    "SELECT Count(*) FROM import_course_meetings;"
   ]
  },
  {
   "cell_type": "code",
   "execution_count": 10,
   "metadata": {},
   "outputs": [
    {
     "name": "stdout",
     "output_type": "stream",
     "text": [
      " * sqlite:///CourseData.db\n",
      "Done.\n"
     ]
    },
    {
     "data": {
      "text/html": [
       "<table>\n",
       "    <tr>\n",
       "        <th>Count(*)</th>\n",
       "    </tr>\n",
       "    <tr>\n",
       "        <td>15955</td>\n",
       "    </tr>\n",
       "</table>"
      ],
      "text/plain": [
       "[(15955,)]"
      ]
     },
     "execution_count": 10,
     "metadata": {},
     "output_type": "execute_result"
    }
   ],
   "source": [
    "%%sql\n",
    "SELECT Count(*) FROM import_courses;"
   ]
  },
  {
   "cell_type": "markdown",
   "metadata": {},
   "source": [
    "# 3. Create Tables\n",
    "- primary key is generated on every table by naming new surrogate key/field that isn't already in .csv files.\n",
    "- don't need NOT NULL for PK because it's implied in SQLite.\n"
   ]
  },
  {
   "cell_type": "code",
   "execution_count": 20,
   "metadata": {},
   "outputs": [
    {
     "name": "stdout",
     "output_type": "stream",
     "text": [
      " * sqlite:///CourseData.db\n",
      "Done.\n"
     ]
    },
    {
     "data": {
      "text/plain": [
       "[]"
      ]
     },
     "execution_count": 20,
     "metadata": {},
     "output_type": "execute_result"
    }
   ],
   "source": [
    "%%sql\n",
    "CREATE TABLE COURSECATALOGS (\n",
    "    CCID INTEGER PRIMARY KEY,\n",
    "    catalog_id TEXT,\n",
    "    program_code TEXT,    \n",
    "    program_name TEXT,\n",
    "    course_title TEXT,\n",
    "    prereqs TEXT,    \n",
    "    coreqs TEXT,\n",
    "    fees TEXT,\n",
    "    attributes TEXT,    \n",
    "    description TEXT\n",
    ");"
   ]
  },
  {
   "cell_type": "code",
   "execution_count": 27,
   "metadata": {},
   "outputs": [
    {
     "name": "stdout",
     "output_type": "stream",
     "text": [
      " * sqlite:///CourseData.db\n",
      "Done.\n"
     ]
    },
    {
     "data": {
      "text/plain": [
       "[]"
      ]
     },
     "execution_count": 27,
     "metadata": {},
     "output_type": "execute_result"
    }
   ],
   "source": [
    "%%sql\n",
    "DROP TABLE IF EXISTS COURSES;"
   ]
  },
  {
   "cell_type": "code",
   "execution_count": 28,
   "metadata": {},
   "outputs": [
    {
     "name": "stdout",
     "output_type": "stream",
     "text": [
      " * sqlite:///CourseData.db\n",
      "Done.\n"
     ]
    },
    {
     "data": {
      "text/plain": [
       "[]"
      ]
     },
     "execution_count": 28,
     "metadata": {},
     "output_type": "execute_result"
    }
   ],
   "source": [
    "%%sql\n",
    "CREATE TABLE COURSES (\n",
    "                 CID INTEGER PRIMARY KEY,\n",
    "                 crn INTEGER,\n",
    "                 term TEXT,\n",
    "                 section TEXT,\n",
    "                 credits TEXT,\n",
    "                 title TEXT,\n",
    "                 meetings TEXT,\n",
    "                 timecodes TEXT,\n",
    "                 primary_instructor TEXT,\n",
    "                 cap TEXT,\n",
    "                 act TEXT,\n",
    "                 rem TEXT,\n",
    "                 CCID INTEGER,\n",
    "                 FOREIGN KEY(CCID) REFERENCES COURSECATALOGS(CCID)\n",
    ");\n"
   ]
  },
  {
   "cell_type": "code",
   "execution_count": 23,
   "metadata": {},
   "outputs": [
    {
     "name": "stdout",
     "output_type": "stream",
     "text": [
      " * sqlite:///CourseData.db\n",
      "(sqlite3.OperationalError) table TEACHERS already exists [SQL: 'CREATE TABLE TEACHERS (\\n TID INTEGER PRIMARY KEY,\\n primary_instructor TEXT NOT NULL,\\n CID INTEGER,\\n FOREIGN KEY (CID) REFERENCES COURSES(CID)\\n);'] (Background on this error at: http://sqlalche.me/e/e3q8)\n"
     ]
    }
   ],
   "source": [
    "%%sql\n",
    "CREATE TABLE TEACHERS (\n",
    " TID INTEGER PRIMARY KEY,\n",
    " primary_instructor TEXT NOT NULL,\n",
    " CID INTEGER,\n",
    " FOREIGN KEY (CID) REFERENCES COURSES(CID)\n",
    ");\n"
   ]
  },
  {
   "cell_type": "code",
   "execution_count": 24,
   "metadata": {},
   "outputs": [
    {
     "name": "stdout",
     "output_type": "stream",
     "text": [
      " * sqlite:///CourseData.db\n",
      "Done.\n"
     ]
    },
    {
     "data": {
      "text/plain": [
       "[]"
      ]
     },
     "execution_count": 24,
     "metadata": {},
     "output_type": "execute_result"
    }
   ],
   "source": [
    "%%sql\n",
    "CREATE TABLE COURSEMEETINGS (\n",
    "    CMID INTEGER PRIMARY KEY,\n",
    "    location TEXT NOT NULL,\t\n",
    "    day TEXT NOT NULL,\n",
    "    start TEXT NOT NULL,\n",
    "    end TEXT NOT NULL,\n",
    "    CID INTEGER,\n",
    "    TID INTEGER,\n",
    "    FOREIGN KEY (CID) REFERENCES COURSES(CID),\n",
    "    FOREIGN KEY (TID) REFERENCES TEACHERS(TID)\n",
    ");"
   ]
  },
  {
   "cell_type": "markdown",
   "metadata": {},
   "source": [
    "# 4. Do INSERT Statements\n",
    "- do not include generated PKs\n",
    "- *reasoning* - PKs aren't included in the imported tables, so we can't insert them from there.\n",
    "- implied (since all PK/FKs are generated) that  PK/FKs are distinct."
   ]
  },
  {
   "cell_type": "code",
   "execution_count": 25,
   "metadata": {},
   "outputs": [
    {
     "name": "stdout",
     "output_type": "stream",
     "text": [
      " * sqlite:///CourseData.db\n",
      "2221 rows affected.\n"
     ]
    },
    {
     "data": {
      "text/plain": [
       "[]"
      ]
     },
     "execution_count": 25,
     "metadata": {},
     "output_type": "execute_result"
    }
   ],
   "source": [
    "%%sql\n",
    "INSERT INTO COURSECATALOGS (\n",
    "    catalog_id,\n",
    "    program_code,  \n",
    "    program_name,\n",
    "    course_title,\n",
    "    prereqs,    \n",
    "    coreqs,\n",
    "    fees,\n",
    "    attributes,    \n",
    "    description) \n",
    "SELECT DISTINCT \n",
    "    catalog_id,\n",
    "    program_code,  \n",
    "    program_name,\n",
    "    course_title,\n",
    "    prereqs,    \n",
    "    coreqs,\n",
    "    fees,\n",
    "    attributes,    \n",
    "    description\n",
    "    FROM import_Course_Catalog;"
   ]
  },
  {
   "cell_type": "code",
   "execution_count": 1,
   "metadata": {},
   "outputs": [
    {
     "name": "stderr",
     "output_type": "stream",
     "text": [
      "UsageError: Cell magic `%%sql` not found.\n"
     ]
    }
   ],
   "source": [
    "%%sql\n",
    "INSERT INTO COURSES (\n",
    "                 crn,\n",
    "                 term,\n",
    "                 section,\n",
    "                 credits,\n",
    "                 title,\n",
    "                 meetings,\n",
    "                 timecodes,\n",
    "                 primary_instructor,\n",
    "                 cap,\n",
    "                 act,\n",
    "                 rem,\n",
    ")\n",
    " SELECT DISTINCT\n",
    "                 crn,\n",
    "                 term,\n",
    "                 section,\n",
    "                 credits,\n",
    "                 title,\n",
    "                 meetings,\n",
    "                 timecodes,\n",
    "                 primary_instructor,\n",
    "                 cap,\n",
    "                 act,\n",
    "                 rem\n",
    "                FROM import_courses\n",
    "                JOING COURSEMEETINGS (COURSEMEETINGS.CCID=COURSES.CCID);"
   ]
  },
  {
   "cell_type": "code",
   "execution_count": 32,
   "metadata": {},
   "outputs": [
    {
     "name": "stdout",
     "output_type": "stream",
     "text": [
      " * sqlite:///CourseData.db\n",
      "296908 rows affected.\n"
     ]
    },
    {
     "data": {
      "text/plain": [
       "[]"
      ]
     },
     "execution_count": 32,
     "metadata": {},
     "output_type": "execute_result"
    }
   ],
   "source": [
    "%%sql INSERT INTO COURSEMEETINGS (\n",
    "    location,\t\n",
    "    day,\n",
    "    start,\n",
    "    end\n",
    ")\n",
    " SELECT DISTINCT\n",
    "    location,\t\n",
    "    day,\n",
    "    start,\n",
    "    end\n",
    "    FROM import_course_meetings;\n",
    "    \n"
   ]
  },
  {
   "cell_type": "code",
   "execution_count": 34,
   "metadata": {},
   "outputs": [
    {
     "name": "stdout",
     "output_type": "stream",
     "text": [
      " * sqlite:///CourseData.db\n",
      "1105 rows affected.\n"
     ]
    },
    {
     "data": {
      "text/plain": [
       "[]"
      ]
     },
     "execution_count": 34,
     "metadata": {},
     "output_type": "execute_result"
    }
   ],
   "source": [
    "%%sql INSERT INTO TEACHERS (\n",
    "    primary_instructor\n",
    ")\n",
    " SELECT DISTINCT\n",
    "    primary_instructor\n",
    "    FROM import_courses;"
   ]
  },
  {
   "cell_type": "markdown",
   "metadata": {},
   "source": [
    "# 5. Run SELECT Queries"
   ]
  },
  {
   "cell_type": "code",
   "execution_count": 1,
   "metadata": {},
   "outputs": [
    {
     "data": {
      "text/plain": [
       "'Connected: @CourseData.db'"
      ]
     },
     "execution_count": 1,
     "metadata": {},
     "output_type": "execute_result"
    }
   ],
   "source": [
    "%reload_ext sql\n",
    "%sql sqlite:///CourseData.db"
   ]
  },
  {
   "cell_type": "markdown",
   "metadata": {},
   "source": [
    "## SELECT Query for all unique classrooms \n",
    "- only included those with a character lenght of 7 (some had 2, 8, etc.)\n",
    "- can't figure out how to get a distinct location when including additinonal fields."
   ]
  },
  {
   "cell_type": "code",
   "execution_count": 37,
   "metadata": {},
   "outputs": [
    {
     "name": "stdout",
     "output_type": "stream",
     "text": [
      " * sqlite:///CourseData.db\n",
      "Done.\n"
     ]
    },
    {
     "data": {
      "text/html": [
       "<table>\n",
       "    <tr>\n",
       "        <th>location</th>\n",
       "    </tr>\n",
       "    <tr>\n",
       "        <td>BCC 200</td>\n",
       "    </tr>\n",
       "    <tr>\n",
       "        <td>BLM 112</td>\n",
       "    </tr>\n",
       "    <tr>\n",
       "        <td>BNW 124</td>\n",
       "    </tr>\n",
       "    <tr>\n",
       "        <td>BNW 127</td>\n",
       "    </tr>\n",
       "    <tr>\n",
       "        <td>BNW 128</td>\n",
       "    </tr>\n",
       "    <tr>\n",
       "        <td>BNW 130</td>\n",
       "    </tr>\n",
       "    <tr>\n",
       "        <td>BNW 131</td>\n",
       "    </tr>\n",
       "    <tr>\n",
       "        <td>BNW 133</td>\n",
       "    </tr>\n",
       "    <tr>\n",
       "        <td>BNW 136</td>\n",
       "    </tr>\n",
       "    <tr>\n",
       "        <td>BNW 137</td>\n",
       "    </tr>\n",
       "    <tr>\n",
       "        <td>BNW 138</td>\n",
       "    </tr>\n",
       "    <tr>\n",
       "        <td>BNW 139</td>\n",
       "    </tr>\n",
       "    <tr>\n",
       "        <td>BNW 143</td>\n",
       "    </tr>\n",
       "    <tr>\n",
       "        <td>BNW 144</td>\n",
       "    </tr>\n",
       "    <tr>\n",
       "        <td>BNW 162</td>\n",
       "    </tr>\n",
       "    <tr>\n",
       "        <td>BNW 163</td>\n",
       "    </tr>\n",
       "    <tr>\n",
       "        <td>BNW 166</td>\n",
       "    </tr>\n",
       "    <tr>\n",
       "        <td>BNW 236</td>\n",
       "    </tr>\n",
       "    <tr>\n",
       "        <td>BNW 240</td>\n",
       "    </tr>\n",
       "    <tr>\n",
       "        <td>BNW 245</td>\n",
       "    </tr>\n",
       "</table>"
      ],
      "text/plain": [
       "[('BCC 200',),\n",
       " ('BLM 112',),\n",
       " ('BNW 124',),\n",
       " ('BNW 127',),\n",
       " ('BNW 128',),\n",
       " ('BNW 130',),\n",
       " ('BNW 131',),\n",
       " ('BNW 133',),\n",
       " ('BNW 136',),\n",
       " ('BNW 137',),\n",
       " ('BNW 138',),\n",
       " ('BNW 139',),\n",
       " ('BNW 143',),\n",
       " ('BNW 144',),\n",
       " ('BNW 162',),\n",
       " ('BNW 163',),\n",
       " ('BNW 166',),\n",
       " ('BNW 236',),\n",
       " ('BNW 240',),\n",
       " ('BNW 245',)]"
      ]
     },
     "execution_count": 37,
     "metadata": {},
     "output_type": "execute_result"
    }
   ],
   "source": [
    "%%sql\n",
    "SELECT DISTINCT \n",
    "location\n",
    "FROM COURSEMEETINGS\n",
    "WHERE LENGTH(location) = 7\n",
    "ORDER BY location\n",
    "LIMIT 20\n",
    ";"
   ]
  },
  {
   "cell_type": "markdown",
   "metadata": {},
   "source": [
    "## SELECT Query displaying all courses in MSBA Program '18-'19\n",
    "- still have to get rid of blank by making defining description as NOT NULL.\n",
    "- is there an easier way?"
   ]
  },
  {
   "cell_type": "code",
   "execution_count": 35,
   "metadata": {},
   "outputs": [
    {
     "name": "stdout",
     "output_type": "stream",
     "text": [
      " * sqlite:///CourseData.db\n",
      "Done.\n"
     ]
    },
    {
     "data": {
      "text/html": [
       "<table>\n",
       "    <tr>\n",
       "        <th>Course</th>\n",
       "        <th>Program</th>\n",
       "        <th>Code</th>\n",
       "        <th>Description</th>\n",
       "    </tr>\n",
       "    <tr>\n",
       "        <td>Information Systems and Database Management</td>\n",
       "        <td>Information Systems</td>\n",
       "        <td>IS 0500</td>\n",
       "        <td>This course introduces the basic concepts and tools relevant to information systems and database management, and their enabling roles in business strategies and operations. Case studies are used to facilitate discussions of practical applications and issues involving strategic alignments of organizations, resource allocation, integration, planning, and analysis of cost, benefit and performance in light of the big data challenges. Specific emphases involve database design and implementation and emerging strategies and technologies such as business intelligence, big data management, web security, and online business analytics.</td>\n",
       "    </tr>\n",
       "    <tr>\n",
       "        <td>International Information Systems</td>\n",
       "        <td>Information Systems</td>\n",
       "        <td>IS 0501</td>\n",
       "        <td>This course examines information technology environments around the world, and attendant challenges to business strategy and information systems design. The course identifies geographic and institutional variables that create borders in the global Internet economy: material infrastructures, socio-economic elements, and political-legal systems. The course emphasizes national and regional strategies, emergent technologies, hybrid systems, and equity issues.</td>\n",
       "    </tr>\n",
       "    <tr>\n",
       "        <td>Python for Business Analytics</td>\n",
       "        <td>Information Systems</td>\n",
       "        <td>IS 0505</td>\n",
       "        <td>In this course, we introduce Python as a language and tool for collecting, preprocessing, and visualizing data for business analytics. since Python is one of the most popular programming languages, along with R, in data mining and business analytics, its fundamental programming logic and knowledge is essential for students to apply in data mining and to succeed in the job market. Specifically, this course focuses on the data-engineering phase, which includes collecting, preprocessing, and visualizing data, with respect to applications in business modeling, optimization, and statistical analysis. In addition, a number of mini projects will be used as vehicles to cover the main applications of data analytics, including recommender systems, text analytics, and web analytics.</td>\n",
       "    </tr>\n",
       "    <tr>\n",
       "        <td>Databases for Business Analytics</td>\n",
       "        <td>Information Systems</td>\n",
       "        <td>IS 0510</td>\n",
       "        <td>This course introduces databases and data management in three parts. The first part covers basic database fundamentals. The second part is a hands-on introduction to Structured Query Language (SQL) for defining, manipulating, accessing, and managing data, accompanied by the basics of data modeling and normalization needed to ensure data integrity. The course concludes with a comprehensive database project that gives each student the opportunity to integrate and apply the new knowledge and skills learned from this class. Advanced topics such as distributed database systems, data services, and NoSQL databases are also discussed.</td>\n",
       "    </tr>\n",
       "    <tr>\n",
       "        <td>Project Management</td>\n",
       "        <td>Information Systems</td>\n",
       "        <td>IS 0520</td>\n",
       "        <td>This course explores the process and practice of project management. Topics to be covered include project lifecycle and organizations, teambuilding and productivity, task scheduling and resource allocation, and progress tracking and control. Cases will be used to consider the implications for change management, consulting, IT implementation, and other related disciplines. Small team projects and experiential exercises will also be used to provide an active learning environment. This course is designed to count toward professional project management certification.</td>\n",
       "    </tr>\n",
       "    <tr>\n",
       "        <td>Data Mining and Business Intelligence</td>\n",
       "        <td>Information Systems</td>\n",
       "        <td>IS 0540</td>\n",
       "        <td>This course will change the way you think about data and its role in business. Businesses, governments, and individuals create massive collections of data as a byproduct of their activity. Increasingly, managers rely on intelligent technology to systematically analyze data to improve their decision-making. In many cases, automating analytical and decision-making processes is necessary because of the large volume of data and the speed with which new data are generated. In this course, we will examine how data analysis technologies can be used to improve managerial decision making. We will study the fundamental principles and techniques of data mining through real-world examples and cases to place data mining techniques in context, to develop data-analytic thinking, and to illustrate that proper application of these techniques is as much an art as it is a science. In addition, we will work &quot;hands-on&quot; with contemporary data mining software.</td>\n",
       "    </tr>\n",
       "    <tr>\n",
       "        <td>Business Analytics and Big Data Management</td>\n",
       "        <td>Information Systems</td>\n",
       "        <td>IS 0550</td>\n",
       "        <td>This course will survey state-of-the-art topics in Big Data, looking at data collection (via smartphones, sensors, the Web), data storage and processing (scalable relational databases, Hadoop, Spark, etc.), extracting structured data from unstructured databases, systems issues (exploiting multicore, security), analytics (machine learning, data compression, efficient algorithms), data visualization, and a range of applications. Each of these five modules will introduce broad concepts as well as provide the most recent developments in the area.</td>\n",
       "    </tr>\n",
       "    <tr>\n",
       "        <td>Contemporary Topics in Information Systems and Operations Management</td>\n",
       "        <td>Information Systems</td>\n",
       "        <td>IS 0585</td>\n",
       "        <td>This course draws from current literature and practice on information systems and/or operations management. The topics change from semester to semester, depending on student and faculty interest and may include: project management, e-business, management science with spreadsheets, e-procurement, executive information systems, ethics, and other socio-economic factors in the use of information technology.</td>\n",
       "    </tr>\n",
       "    <tr>\n",
       "        <td>Contemporary Topics: Advanced Data Mining Applications</td>\n",
       "        <td>Information Systems</td>\n",
       "        <td>IS 0585B</td>\n",
       "        <td></td>\n",
       "    </tr>\n",
       "    <tr>\n",
       "        <td>Independent Study in Information Systems and Operations Management</td>\n",
       "        <td>Information Systems</td>\n",
       "        <td>IS 0598</td>\n",
       "        <td>This course provides an opportunity for students to complete a project or perform research under the direction of an Information Systems and Operations Management (ISOM) faculty member who has expertise in the topic being investigated. Students are expected to complete a significant project or research paper as the primary requirement of this course. Enrollment by permission of the ISOM Department Chair only.</td>\n",
       "    </tr>\n",
       "</table>"
      ],
      "text/plain": [
       "[('Information Systems and Database Management', 'Information Systems', 'IS 0500', 'This course introduces the basic concepts and tools relevant to information systems and database management, and their enabling roles in business str ... (334 characters truncated) ... lementation and emerging strategies and technologies such as business intelligence, big data management, web security, and online business analytics.'),\n",
       " ('International Information Systems', 'Information Systems', 'IS 0501', 'This course examines information technology environments around the world, and attendant challenges to business strategy and information systems desi ... (161 characters truncated) ... ments, and political-legal systems. The course emphasizes national and regional strategies, emergent technologies, hybrid systems, and equity issues.'),\n",
       " ('Python for Business Analytics', 'Information Systems', 'IS 0505', 'In this course, we introduce Python as a language and tool for collecting, preprocessing, and visualizing data for business analytics. since Python i ... (484 characters truncated) ... projects will be used as vehicles to cover the main applications of data analytics, including recommender systems, text analytics, and web analytics.'),\n",
       " ('Databases for Business Analytics', 'Information Systems', 'IS 0510', 'This course introduces databases and data management in three parts. The first part covers basic database fundamentals. The second part is a hands-on ... (336 characters truncated) ... edge and skills learned from this class. Advanced topics such as distributed database systems, data services, and NoSQL databases are also discussed.'),\n",
       " ('Project Management', 'Information Systems', 'IS 0520', 'This course explores the process and practice of project management. Topics to be covered include project lifecycle and organizations, teambuilding a ... (271 characters truncated) ... s will also be used to provide an active learning environment. This course is designed to count toward professional project management certification.'),\n",
       " ('Data Mining and Business Intelligence', 'Information Systems', 'IS 0540', 'This course will change the way you think about data and its role in business. Businesses, governments, and individuals create massive collections of ... (653 characters truncated) ... er application of these techniques is as much an art as it is a science. In addition, we will work \"hands-on\" with contemporary data mining software.'),\n",
       " ('Business Analytics and Big Data Management', 'Information Systems', 'IS 0550', 'This course will survey state-of-the-art topics in Big Data, looking at data collection (via smartphones, sensors, the Web), data storage and process ... (250 characters truncated) ... n, and a range of applications. Each of these five modules will introduce broad concepts as well as provide the most recent developments in the area.'),\n",
       " ('Contemporary Topics in Information Systems and Operations Management', 'Information Systems', 'IS 0585', 'This course draws from current literature and practice on information systems and/or operations management. The topics change from semester to semest ... (108 characters truncated) ... ience with spreadsheets, e-procurement, executive information systems, ethics, and other socio-economic factors in the use of information technology.'),\n",
       " ('Contemporary Topics: Advanced Data Mining Applications', 'Information Systems', 'IS 0585B', ''),\n",
       " ('Independent Study in Information Systems and Operations Management', 'Information Systems', 'IS 0598', 'This course provides an opportunity for students to complete a project or perform research under the direction of an Information Systems and Operatio ... (114 characters truncated) ... mplete a significant project or research paper as the primary requirement of this course. Enrollment by permission of the ISOM Department Chair only.')]"
      ]
     },
     "execution_count": 35,
     "metadata": {},
     "output_type": "execute_result"
    }
   ],
   "source": [
    "%%sql\n",
    "SELECT course_title AS Course, program_name AS Program, catalog_id AS Code, description AS Description\n",
    "FROM COURSECATALOGS\n",
    "WHERE program_name = 'Information Systems'\n",
    "AND\n",
    "Code LIKE \"IS 05%\"\n",
    "ORDER BY program_name\n",
    "LIMIT 50;"
   ]
  },
  {
   "cell_type": "code",
   "execution_count": 46,
   "metadata": {},
   "outputs": [
    {
     "name": "stdout",
     "output_type": "stream",
     "text": [
      " * sqlite:///CourseData.db\n",
      "Done.\n"
     ]
    },
    {
     "data": {
      "text/html": [
       "<table>\n",
       "    <tr>\n",
       "        <th>primary_instructor</th>\n",
       "        <th>title</th>\n",
       "    </tr>\n",
       "</table>"
      ],
      "text/plain": [
       "[]"
      ]
     },
     "execution_count": 46,
     "metadata": {},
     "output_type": "execute_result"
    }
   ],
   "source": [
    "%%sql\n",
    "SELECT\n",
    "t.primary_instructor, c.title\n",
    "FROM TEACHERS AS t\n",
    "JOIN COURSES AS c ON c.CID = t.CID\n",
    ";"
   ]
  },
  {
   "cell_type": "code",
   "execution_count": null,
   "metadata": {},
   "outputs": [],
   "source": []
  }
 ],
 "metadata": {
  "kernelspec": {
   "display_name": "Python 3",
   "language": "python",
   "name": "python3"
  },
  "language_info": {
   "codemirror_mode": {
    "name": "ipython",
    "version": 3
   },
   "file_extension": ".py",
   "mimetype": "text/x-python",
   "name": "python",
   "nbconvert_exporter": "python",
   "pygments_lexer": "ipython3",
   "version": "3.6.5"
  }
 },
 "nbformat": 4,
 "nbformat_minor": 2
}
